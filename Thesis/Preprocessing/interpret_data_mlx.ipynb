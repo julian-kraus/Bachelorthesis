{
 "cells": [
  {
   "cell_type": "code",
   "execution_count": 1,
   "metadata": {},
   "outputs": [],
   "source": [
    "from mlx_lm import load, generate\n",
    "import pandas as pd"
   ]
  },
  {
   "cell_type": "code",
   "execution_count": 2,
   "metadata": {},
   "outputs": [],
   "source": [
    "# %%bash\n",
    "# python -m mlx_lm.convert --hf-path jphme/em_german_leo_mistral --mlx-path model/ -q "
   ]
  },
  {
   "cell_type": "code",
   "execution_count": 3,
   "metadata": {},
   "outputs": [],
   "source": [
    "# TODO: Choose one\n",
    "inter_df = pd.read_csv(\"test.csv\")\n",
    "#inter_df = pd.read_csv(\"test2.csv\")"
   ]
  },
  {
   "cell_type": "code",
   "execution_count": 4,
   "metadata": {},
   "outputs": [
    {
     "data": {
      "text/html": [
       "<div>\n",
       "<style scoped>\n",
       "    .dataframe tbody tr th:only-of-type {\n",
       "        vertical-align: middle;\n",
       "    }\n",
       "\n",
       "    .dataframe tbody tr th {\n",
       "        vertical-align: top;\n",
       "    }\n",
       "\n",
       "    .dataframe thead th {\n",
       "        text-align: right;\n",
       "    }\n",
       "</style>\n",
       "<table border=\"1\" class=\"dataframe\">\n",
       "  <thead>\n",
       "    <tr style=\"text-align: right;\">\n",
       "      <th></th>\n",
       "      <th>patientid</th>\n",
       "      <th>sex</th>\n",
       "      <th>age</th>\n",
       "      <th>ANA</th>\n",
       "      <th>EXA</th>\n",
       "      <th>DIA_text</th>\n",
       "      <th>DIA_code</th>\n",
       "      <th>OP_text</th>\n",
       "      <th>OP_code</th>\n",
       "      <th>EXA_formatted</th>\n",
       "    </tr>\n",
       "  </thead>\n",
       "  <tbody>\n",
       "    <tr>\n",
       "      <th>0</th>\n",
       "      <td>61.0</td>\n",
       "      <td>male</td>\n",
       "      <td>32.0</td>\n",
       "      <td>Beschwerden re. Achillessehne. NMR unauffällig...</td>\n",
       "      <td>Re. Achillessehne: Verdickung im Bereich der A...</td>\n",
       "      <td>Retropatellare Chondromalazie li; Insertionste...</td>\n",
       "      <td>M22.4 G</td>\n",
       "      <td>NaN</td>\n",
       "      <td>NaN</td>\n",
       "      <td>rechts leiste druckschmerz am os pubis zum os ...</td>\n",
       "    </tr>\n",
       "    <tr>\n",
       "      <th>1</th>\n",
       "      <td>67.0</td>\n",
       "      <td>male</td>\n",
       "      <td>41.0</td>\n",
       "      <td>Seit mehreren Monaten Beschwerden re. Achilles...</td>\n",
       "      <td>Re. Achillessehne: Deutliche Auftreibung der A...</td>\n",
       "      <td>V.a.laterale Chondromalazie bei st.n. Außenmen...</td>\n",
       "      <td>M23.3- V</td>\n",
       "      <td>NaN</td>\n",
       "      <td>NaN</td>\n",
       "      <td>massiver druckschmerz dort</td>\n",
       "    </tr>\n",
       "    <tr>\n",
       "      <th>2</th>\n",
       "      <td>72.0</td>\n",
       "      <td>male</td>\n",
       "      <td>19.0</td>\n",
       "      <td>. .Gestern beim Training stechende Schmerzen l...</td>\n",
       "      <td>Klinischer Befund des Oberschenkels li.deutl.V...</td>\n",
       "      <td>Z.n.arthroskopischer Chirurgie des Kniegelenkes.</td>\n",
       "      <td>M23.3- Z</td>\n",
       "      <td>NaN</td>\n",
       "      <td>NaN</td>\n",
       "      <td>NaN</td>\n",
       "    </tr>\n",
       "    <tr>\n",
       "      <th>3</th>\n",
       "      <td>72.0</td>\n",
       "      <td>male</td>\n",
       "      <td>23.0</td>\n",
       "      <td>beide Knie Schmerzen bei Treppe steigen oder L...</td>\n",
       "      <td>bd. Knie: frei Bewegl.; Patella o.B.; keine MZ...</td>\n",
       "      <td>Z.n.IM-Teilresektion re.</td>\n",
       "      <td>S83.2 Z</td>\n",
       "      <td>NaN</td>\n",
       "      <td>NaN</td>\n",
       "      <td>NaN</td>\n",
       "    </tr>\n",
       "    <tr>\n",
       "      <th>4</th>\n",
       "      <td>84.0</td>\n",
       "      <td>male</td>\n",
       "      <td>57.0</td>\n",
       "      <td>(08.19 Uhr); bewegungsabhängig.Schmerzen wiede...</td>\n",
       "      <td>Klinischer Befund des Kniegelenks li.: Drucksc...</td>\n",
       "      <td>Beginnende Gonarthrose bds. li. mehr als re.</td>\n",
       "      <td>M17.9</td>\n",
       "      <td>NaN</td>\n",
       "      <td>NaN</td>\n",
       "      <td>klinischer befund des kniegelenks li druckschm...</td>\n",
       "    </tr>\n",
       "  </tbody>\n",
       "</table>\n",
       "</div>"
      ],
      "text/plain": [
       "   patientid   sex   age                                                ANA  \\\n",
       "0       61.0  male  32.0  Beschwerden re. Achillessehne. NMR unauffällig...   \n",
       "1       67.0  male  41.0  Seit mehreren Monaten Beschwerden re. Achilles...   \n",
       "2       72.0  male  19.0  . .Gestern beim Training stechende Schmerzen l...   \n",
       "3       72.0  male  23.0  beide Knie Schmerzen bei Treppe steigen oder L...   \n",
       "4       84.0  male  57.0  (08.19 Uhr); bewegungsabhängig.Schmerzen wiede...   \n",
       "\n",
       "                                                 EXA  \\\n",
       "0  Re. Achillessehne: Verdickung im Bereich der A...   \n",
       "1  Re. Achillessehne: Deutliche Auftreibung der A...   \n",
       "2  Klinischer Befund des Oberschenkels li.deutl.V...   \n",
       "3  bd. Knie: frei Bewegl.; Patella o.B.; keine MZ...   \n",
       "4  Klinischer Befund des Kniegelenks li.: Drucksc...   \n",
       "\n",
       "                                            DIA_text  DIA_code OP_text  \\\n",
       "0  Retropatellare Chondromalazie li; Insertionste...   M22.4 G     NaN   \n",
       "1  V.a.laterale Chondromalazie bei st.n. Außenmen...  M23.3- V     NaN   \n",
       "2   Z.n.arthroskopischer Chirurgie des Kniegelenkes.  M23.3- Z     NaN   \n",
       "3                           Z.n.IM-Teilresektion re.   S83.2 Z     NaN   \n",
       "4       Beginnende Gonarthrose bds. li. mehr als re.    M17.9      NaN   \n",
       "\n",
       "  OP_code                                      EXA_formatted  \n",
       "0     NaN  rechts leiste druckschmerz am os pubis zum os ...  \n",
       "1     NaN                         massiver druckschmerz dort  \n",
       "2     NaN                                                NaN  \n",
       "3     NaN                                                NaN  \n",
       "4     NaN  klinischer befund des kniegelenks li druckschm...  "
      ]
     },
     "execution_count": 4,
     "metadata": {},
     "output_type": "execute_result"
    }
   ],
   "source": [
    "inter_df.head()"
   ]
  },
  {
   "cell_type": "code",
   "execution_count": 5,
   "metadata": {},
   "outputs": [],
   "source": [
    "model, tokenizer = load(\"model/\")"
   ]
  },
  {
   "cell_type": "code",
   "execution_count": 6,
   "metadata": {},
   "outputs": [],
   "source": [
    "few_shot_examples = [\n",
    "    (\"links knie diskr schwellung, kein anteromedialer druckschmerz med äußerechts Seite des Kniegelenks, kein druckschmerz kniescheiben, keine meniskuszeichen rechts knie keine schwellung, druckschmerz proximal seitlich kniescheibe\", \n",
    "     \"Mein linkes Knie hat keine Schwellung, und es gibt keine Schmerzen beim Drücken auf der äußerechts Seite des Kniegelenks und der Kniescheibe. Mein rechtes Knie hat auch keine Schwellung, aber in der Nähe der Seite der Kniescheibe, gibt es Schmerzen beim Drücken.\"),\n",
    "    (\"rechts knie deutlicher schwellung, keine überstreckung des knies, streckdefizit des knies, angemessene beugung des knies, keine rötung\", \n",
    "     \"Mein rechtes Knie hat eine Schwellung, ich kann es nicht überstrecken und auch nicht komplett strecken. Die Beugung des Knies ist nur angemessen möglich. Mein Knie ist nicht gerötet.\"),\n",
    "]\n",
    "\n",
    "# Construct the few-shot prompt\n",
    "instruction = \"Du bist ein Patient mit den folgenden Symptomen. Ersetze alle lateinischen und deutschen Fachbegriffe und formuliere es umgangssprachlich aus deiner Sicht.\"\n",
    "few_shot_prompt = f\"{instruction}\\n\\n\" + \"\\n\\n\".join([f\"USER: {inp}\\nASSISTANT: {out}\" for inp, out in few_shot_examples])"
   ]
  },
  {
   "cell_type": "code",
   "execution_count": 7,
   "metadata": {},
   "outputs": [],
   "source": [
    "def generate_response(text):\n",
    "    if (text != \"\") and (text is not None) and not (isinstance(text, float)):\n",
    "        prompt = f\"{few_shot_prompt}\\n\\nUSER: {text}\\nASSISTANT:\"\n",
    "        generated_text = generate(model, tokenizer, prompt=prompt, max_tokens=200, verbose=False)\n",
    "        return generated_text\n",
    "    return \"\""
   ]
  },
  {
   "cell_type": "code",
   "execution_count": 8,
   "metadata": {},
   "outputs": [],
   "source": [
    "for idx, row in inter_df.head(10).iterrows():\n",
    "    text = row['EXA_formatted']\n",
    "    ouput_text = generate_response(text)\n",
    "    inter_df.at[idx, 'EXA_interpreted'] = ouput_text"
   ]
  },
  {
   "cell_type": "code",
   "execution_count": 9,
   "metadata": {},
   "outputs": [],
   "source": [
    "def remove_after_newline(text):\n",
    "    return text.split('\\n')[0] if isinstance(text, str) else text"
   ]
  },
  {
   "cell_type": "code",
   "execution_count": 10,
   "metadata": {},
   "outputs": [],
   "source": [
    "inter_df[\"EXA_interpreted\"] = inter_df[\"EXA_interpreted\"].apply(remove_after_newline)"
   ]
  },
  {
   "cell_type": "code",
   "execution_count": 11,
   "metadata": {},
   "outputs": [],
   "source": [
    "inter_df.to_csv(\"interpreted_data_mlx.csv\")"
   ]
  }
 ],
 "metadata": {
  "kernelspec": {
   "display_name": "tf_mlx",
   "language": "python",
   "name": "python3"
  },
  "language_info": {
   "codemirror_mode": {
    "name": "ipython",
    "version": 3
   },
   "file_extension": ".py",
   "mimetype": "text/x-python",
   "name": "python",
   "nbconvert_exporter": "python",
   "pygments_lexer": "ipython3",
   "version": "3.10.13"
  }
 },
 "nbformat": 4,
 "nbformat_minor": 2
}
