{
 "cells": [
  {
   "cell_type": "code",
   "execution_count": 1,
   "metadata": {},
   "outputs": [],
   "source": [
    "from mlx_lm import load, generate\n",
    "import pandas as pd"
   ]
  },
  {
   "cell_type": "code",
   "execution_count": 2,
   "metadata": {},
   "outputs": [
    {
     "name": "stdout",
     "output_type": "stream",
     "text": [
      "[INFO] Loading\n"
     ]
    },
    {
     "name": "stderr",
     "output_type": "stream",
     "text": [
      "Fetching 8 files: 100%|██████████| 8/8 [00:00<00:00, 84096.32it/s]\n"
     ]
    },
    {
     "name": "stdout",
     "output_type": "stream",
     "text": [
      "[INFO] Quantizing\n"
     ]
    }
   ],
   "source": [
    "%%bash\n",
    "python -m mlx_lm.convert --hf-path jphme/em_german_leo_mistral --mlx-path model/ -q "
   ]
  },
  {
   "cell_type": "code",
   "execution_count": 3,
   "metadata": {},
   "outputs": [],
   "source": [
    "# TODO: Choose one\n",
    "df = pd.read_csv(\"interpreted_data_mlx.csv\")\n",
    "#inter_df = pd.read_csv(\"test2.csv\")"
   ]
  },
  {
   "cell_type": "code",
   "execution_count": 4,
   "metadata": {},
   "outputs": [],
   "source": [
    "# TODO: Choose which row to start from\n",
    "n=12386\n",
    "inter_df = df.iloc[n:]"
   ]
  },
  {
   "cell_type": "code",
   "execution_count": 5,
   "metadata": {},
   "outputs": [
    {
     "data": {
      "text/html": [
       "<div>\n",
       "<style scoped>\n",
       "    .dataframe tbody tr th:only-of-type {\n",
       "        vertical-align: middle;\n",
       "    }\n",
       "\n",
       "    .dataframe tbody tr th {\n",
       "        vertical-align: top;\n",
       "    }\n",
       "\n",
       "    .dataframe thead th {\n",
       "        text-align: right;\n",
       "    }\n",
       "</style>\n",
       "<table border=\"1\" class=\"dataframe\">\n",
       "  <thead>\n",
       "    <tr style=\"text-align: right;\">\n",
       "      <th></th>\n",
       "      <th>Unnamed: 0</th>\n",
       "      <th>patientid</th>\n",
       "      <th>sex</th>\n",
       "      <th>age</th>\n",
       "      <th>ANA</th>\n",
       "      <th>EXA</th>\n",
       "      <th>DIA_text</th>\n",
       "      <th>DIA_code</th>\n",
       "      <th>OP_text</th>\n",
       "      <th>OP_code</th>\n",
       "      <th>EXA_formatted</th>\n",
       "      <th>EXA_interpreted</th>\n",
       "    </tr>\n",
       "  </thead>\n",
       "  <tbody>\n",
       "    <tr>\n",
       "      <th>12386</th>\n",
       "      <td>12386</td>\n",
       "      <td>62714.0</td>\n",
       "      <td>female</td>\n",
       "      <td>44.0</td>\n",
       "      <td>Beruf: Hausfrau; Sport: Joggen</td>\n",
       "      <td>li Knie: keine Rötung/Überwärmung; klin.kein G...</td>\n",
       "      <td>Z.n.Meniskusteilresektion li 1992</td>\n",
       "      <td>M23.3- Z</td>\n",
       "      <td>NaN</td>\n",
       "      <td>NaN</td>\n",
       "      <td>links knie keine rötung/überwärmung, kein gele...</td>\n",
       "      <td>NaN</td>\n",
       "      <td>NaN</td>\n",
       "    </tr>\n",
       "    <tr>\n",
       "      <th>12387</th>\n",
       "      <td>12387</td>\n",
       "      <td>62715.0</td>\n",
       "      <td>female</td>\n",
       "      <td>49.0</td>\n",
       "      <td>Pat stellt sich mit aktuellen Bildern vor.</td>\n",
       "      <td>Beinachse Genu varum 1 QF; flüss gangbild li k...</td>\n",
       "      <td>Sonstige Meniskusschädigungen: sonstiger und n...</td>\n",
       "      <td>M23.33 V</td>\n",
       "      <td>Arthroskopische Operation am Gelenkknorpel und...</td>\n",
       "      <td>5-812.fh</td>\n",
       "      <td>flüss gangbild links knie keine rötung/überwär...</td>\n",
       "      <td>NaN</td>\n",
       "    </tr>\n",
       "    <tr>\n",
       "      <th>12388</th>\n",
       "      <td>12388</td>\n",
       "      <td>62717.0</td>\n",
       "      <td>female</td>\n",
       "      <td>78.0</td>\n",
       "      <td>Beruf: Rentner; Sport: Gymnastik</td>\n",
       "      <td>li Knie: keine Rötung/Überwärmung; 0-0-130;  p...</td>\n",
       "      <td>Sonstige Meniskusschädigungen: sonstiger und n...</td>\n",
       "      <td>M23.36 G</td>\n",
       "      <td>NaN</td>\n",
       "      <td>NaN</td>\n",
       "      <td>links knie keine rötung/überwärmung, keine übe...</td>\n",
       "      <td>NaN</td>\n",
       "    </tr>\n",
       "    <tr>\n",
       "      <th>12389</th>\n",
       "      <td>12389</td>\n",
       "      <td>62719.0</td>\n",
       "      <td>female</td>\n",
       "      <td>27.0</td>\n",
       "      <td>6 Wochen nach Skiunfall bisher Vollbelastug mi...</td>\n",
       "      <td>Beinachse: 2 QF genum varum re.Knie: keine Röt...</td>\n",
       "      <td>Verstauchung und Zerrung sonstiger und nicht n...</td>\n",
       "      <td>S83.6 V</td>\n",
       "      <td>NaN</td>\n",
       "      <td>NaN</td>\n",
       "      <td>beinachse 2 qf genum varum reknie keine rötung...</td>\n",
       "      <td>NaN</td>\n",
       "    </tr>\n",
       "    <tr>\n",
       "      <th>12390</th>\n",
       "      <td>12390</td>\n",
       "      <td>62720.0</td>\n",
       "      <td>male</td>\n",
       "      <td>52.0</td>\n",
       "      <td>Pat stellt sich heute erneut zur weiteren Plan...</td>\n",
       "      <td>Beinachse:  2-3 QF genum varum li.Knie: keine ...</td>\n",
       "      <td>Sonstige Meniskusschädigungen: Hinterhorn des ...</td>\n",
       "      <td>M23.32 G</td>\n",
       "      <td>Arthroskopische Operation am Gelenkknorpel und...</td>\n",
       "      <td>5-812.5</td>\n",
       "      <td>beinachse  2-3 qf genum varum liknie keine röt...</td>\n",
       "      <td>NaN</td>\n",
       "    </tr>\n",
       "  </tbody>\n",
       "</table>\n",
       "</div>"
      ],
      "text/plain": [
       "       Unnamed: 0  patientid     sex   age  \\\n",
       "12386       12386    62714.0  female  44.0   \n",
       "12387       12387    62715.0  female  49.0   \n",
       "12388       12388    62717.0  female  78.0   \n",
       "12389       12389    62719.0  female  27.0   \n",
       "12390       12390    62720.0    male  52.0   \n",
       "\n",
       "                                                     ANA  \\\n",
       "12386                     Beruf: Hausfrau; Sport: Joggen   \n",
       "12387         Pat stellt sich mit aktuellen Bildern vor.   \n",
       "12388                   Beruf: Rentner; Sport: Gymnastik   \n",
       "12389  6 Wochen nach Skiunfall bisher Vollbelastug mi...   \n",
       "12390  Pat stellt sich heute erneut zur weiteren Plan...   \n",
       "\n",
       "                                                     EXA  \\\n",
       "12386  li Knie: keine Rötung/Überwärmung; klin.kein G...   \n",
       "12387  Beinachse Genu varum 1 QF; flüss gangbild li k...   \n",
       "12388  li Knie: keine Rötung/Überwärmung; 0-0-130;  p...   \n",
       "12389  Beinachse: 2 QF genum varum re.Knie: keine Röt...   \n",
       "12390  Beinachse:  2-3 QF genum varum li.Knie: keine ...   \n",
       "\n",
       "                                                DIA_text  DIA_code  \\\n",
       "12386                  Z.n.Meniskusteilresektion li 1992  M23.3- Z   \n",
       "12387  Sonstige Meniskusschädigungen: sonstiger und n...  M23.33 V   \n",
       "12388  Sonstige Meniskusschädigungen: sonstiger und n...  M23.36 G   \n",
       "12389  Verstauchung und Zerrung sonstiger und nicht n...   S83.6 V   \n",
       "12390  Sonstige Meniskusschädigungen: Hinterhorn des ...  M23.32 G   \n",
       "\n",
       "                                                 OP_text   OP_code  \\\n",
       "12386                                                NaN       NaN   \n",
       "12387  Arthroskopische Operation am Gelenkknorpel und...  5-812.fh   \n",
       "12388                                                NaN       NaN   \n",
       "12389                                                NaN       NaN   \n",
       "12390  Arthroskopische Operation am Gelenkknorpel und...   5-812.5   \n",
       "\n",
       "                                           EXA_formatted EXA_interpreted  \n",
       "12386  links knie keine rötung/überwärmung, kein gele...             NaN  \n",
       "12387  flüss gangbild links knie keine rötung/überwär...             NaN  \n",
       "12388  links knie keine rötung/überwärmung, keine übe...             NaN  \n",
       "12389  beinachse 2 qf genum varum reknie keine rötung...             NaN  \n",
       "12390  beinachse  2-3 qf genum varum liknie keine röt...             NaN  "
      ]
     },
     "execution_count": 5,
     "metadata": {},
     "output_type": "execute_result"
    }
   ],
   "source": [
    "inter_df.head()"
   ]
  },
  {
   "cell_type": "code",
   "execution_count": 6,
   "metadata": {},
   "outputs": [],
   "source": [
    "model, tokenizer = load(\"model/\")"
   ]
  },
  {
   "cell_type": "code",
   "execution_count": 7,
   "metadata": {},
   "outputs": [],
   "source": [
    "few_shot_examples = [\n",
    "    (\"links knie diskr schwellung, kein anteromedialer druckschmerz med äußerechts Seite des Kniegelenks, kein druckschmerz kniescheiben, keine meniskuszeichen rechts knie keine schwellung, druckschmerz proximal seitlich kniescheibe\", \n",
    "     \"Mein linkes Knie hat keine Schwellung, und es gibt keine Schmerzen beim Drücken auf der äußerechts Seite des Kniegelenks und der Kniescheibe. Mein rechtes Knie hat auch keine Schwellung, aber in der Nähe der Seite der Kniescheibe, gibt es Schmerzen beim Drücken.\"),\n",
    "    (\"rechts knie deutlicher schwellung, keine überstreckung des knies, streckdefizit des knies, angemessene beugung des knies, keine rötung\", \n",
    "     \"Mein rechtes Knie hat eine Schwellung, ich kann es nicht überstrecken und auch nicht komplett strecken. Die Beugung des Knies ist nur angemessen möglich. Mein Knie ist nicht gerötet.\"),\n",
    "]\n",
    "\n",
    "# Construct the few-shot prompt\n",
    "instruction = \"Du bist ein Patient mit den folgenden Symptomen. Ersetze alle lateinischen und deutschen Fachbegriffe und formuliere es umgangssprachlich aus deiner Sicht.\"\n",
    "few_shot_prompt = f\"{instruction}\\n\\n\" + \"\\n\\n\".join([f\"USER: {inp}\\nASSISTANT: {out}\" for inp, out in few_shot_examples])"
   ]
  },
  {
   "cell_type": "code",
   "execution_count": 8,
   "metadata": {},
   "outputs": [],
   "source": [
    "def generate_response(text):\n",
    "    if (text != \"\") and (text is not None) and not (isinstance(text, float)):\n",
    "        prompt = f\"{few_shot_prompt}\\n\\nUSER: {text}\\nASSISTANT:\"\n",
    "        generated_text = generate(model, tokenizer, prompt=prompt, max_tokens=200, verbose=False)\n",
    "        return generated_text\n",
    "    return \"\""
   ]
  },
  {
   "cell_type": "code",
   "execution_count": 9,
   "metadata": {},
   "outputs": [],
   "source": [
    "def remove_after_newline(text):\n",
    "    return text.split('\\n')[0] if isinstance(text, str) else text"
   ]
  },
  {
   "cell_type": "code",
   "execution_count": 10,
   "metadata": {},
   "outputs": [],
   "source": [
    "for idx, row in inter_df.iterrows():\n",
    "    text = row['EXA_formatted']\n",
    "    ouput_text = generate_response(text)\n",
    "    inter_df.at[idx, 'EXA_interpreted'] = ouput_text"
   ]
  },
  {
   "cell_type": "code",
   "execution_count": 11,
   "metadata": {},
   "outputs": [
    {
     "name": "stderr",
     "output_type": "stream",
     "text": [
      "/var/folders/4_/5vc_xrv55mjf8lnnrnlx1vz40000gn/T/ipykernel_4039/1584057196.py:1: SettingWithCopyWarning: \n",
      "A value is trying to be set on a copy of a slice from a DataFrame.\n",
      "Try using .loc[row_indexer,col_indexer] = value instead\n",
      "\n",
      "See the caveats in the documentation: https://pandas.pydata.org/pandas-docs/stable/user_guide/indexing.html#returning-a-view-versus-a-copy\n",
      "  inter_df[\"EXA_interpreted\"] = inter_df[\"EXA_interpreted\"].apply(remove_after_newline)\n"
     ]
    }
   ],
   "source": [
    "inter_df[\"EXA_interpreted\"] = inter_df[\"EXA_interpreted\"].apply(remove_after_newline)"
   ]
  },
  {
   "cell_type": "code",
   "execution_count": 12,
   "metadata": {},
   "outputs": [],
   "source": [
    "inter_df.to_csv(\"interpreted_data_mlx_part2.csv\")"
   ]
  },
  {
   "cell_type": "code",
   "execution_count": null,
   "metadata": {},
   "outputs": [],
   "source": []
  },
  {
   "cell_type": "code",
   "execution_count": 13,
   "metadata": {},
   "outputs": [],
   "source": [
    "# TODO: Use this value when rerunning notebook!\n",
    "n = inter_df.EXA_interpreted.count()"
   ]
  },
  {
   "cell_type": "code",
   "execution_count": 14,
   "metadata": {},
   "outputs": [],
   "source": [
    "n = 12386"
   ]
  }
 ],
 "metadata": {
  "kernelspec": {
   "display_name": "tf_mlx",
   "language": "python",
   "name": "python3"
  },
  "language_info": {
   "codemirror_mode": {
    "name": "ipython",
    "version": 3
   },
   "file_extension": ".py",
   "mimetype": "text/x-python",
   "name": "python",
   "nbconvert_exporter": "python",
   "pygments_lexer": "ipython3",
   "version": "3.10.13"
  }
 },
 "nbformat": 4,
 "nbformat_minor": 2
}
