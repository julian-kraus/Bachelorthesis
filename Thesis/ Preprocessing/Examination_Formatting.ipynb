{
 "cells": [
  {
   "cell_type": "code",
   "id": "initial_id",
   "metadata": {
    "collapsed": true,
    "ExecuteTime": {
     "end_time": "2024-06-19T17:39:08.233678Z",
     "start_time": "2024-06-19T17:39:05.658114Z"
    }
   },
   "source": [
    "import IO\n",
    "import pandas as pd\n",
    "import re\n",
    "import nltk\n",
    "nltk.download('punkt')\n",
    "nltk.download('stopwords')"
   ],
   "outputs": [
    {
     "name": "stderr",
     "output_type": "stream",
     "text": [
      "/Users/juliankraus/Library/CloudStorage/OneDrive-Personal/Uni/Languages/Code/pythonProject/.venv/lib/python3.9/site-packages/urllib3/__init__.py:35: NotOpenSSLWarning: urllib3 v2 only supports OpenSSL 1.1.1+, currently the 'ssl' module is compiled with 'LibreSSL 2.8.3'. See: https://github.com/urllib3/urllib3/issues/3020\n",
      "  warnings.warn(\n",
      "[nltk_data] Downloading package punkt to\n",
      "[nltk_data]     /Users/juliankraus/nltk_data...\n",
      "[nltk_data]   Package punkt is already up-to-date!\n",
      "[nltk_data] Downloading package stopwords to\n",
      "[nltk_data]     /Users/juliankraus/nltk_data...\n",
      "[nltk_data]   Package stopwords is already up-to-date!\n"
     ]
    },
    {
     "data": {
      "text/plain": [
       "True"
      ]
     },
     "execution_count": 7,
     "metadata": {},
     "output_type": "execute_result"
    }
   ],
   "execution_count": 7
  },
  {
   "metadata": {},
   "cell_type": "markdown",
   "source": "",
   "id": "7dd54158bab8645e"
  },
  {
   "metadata": {
    "ExecuteTime": {
     "end_time": "2024-06-18T18:07:51.599095Z",
     "start_time": "2024-06-18T18:07:51.524894Z"
    }
   },
   "cell_type": "code",
   "source": [
    "men_patients = IO.load_excel(\"./data/Meniskus.xlsx\").dropna()\n",
    "men_amount = men_patients.shape[0]\n",
    "kreuz_patients = IO.load_excel(\"./data/Kreuzband.xlsx\").dropna()\n",
    "df = pd.concat([men_patients, kreuz_patients], ignore_index=True)\n",
    "df.head()"
   ],
   "id": "1f96b3a810de6d5f",
   "outputs": [
    {
     "data": {
      "text/plain": [
       "   Patientid_x                                           Text_Bef  \\\n",
       "0      89078.0  li Knie: diskr. Erguss, kein DS med. GS, kein ...   \n",
       "1      76793.0  Re. Knie: deutlicher Erguss, 0-5-110, reizlose...   \n",
       "2     409850.0  Linkes Kniegelenk: Extension/Flexion 0/3/100°,...   \n",
       "3      76793.0  linke Schulter: GhAbd. 90°, Aro 60°, Iro LWK 1...   \n",
       "4      91686.0  re.Knie: ROM 0-0-140, Lachman neg. fest, DS me...   \n",
       "\n",
       "                                            Text_ANA Geschlecht  Diagnose  \n",
       "0  Schmerzen werden besser, geht heute das dritte...   männlich  Meniskus  \n",
       "1  Am 02.03. beim Trampolinspringen Distorsionstr...   männlich  Meniskus  \n",
       "2  wv mit aktuellem MRT. Beugung besser, Streckun...   männlich  Meniskus  \n",
       "3  Patient berichtet er habe zwischenzeitlich ern...   männlich  Meniskus  \n",
       "4  Belastungserprobung mit Rennrad und Laufen, bi...   männlich  Meniskus  "
      ],
      "text/html": [
       "<div>\n",
       "<style scoped>\n",
       "    .dataframe tbody tr th:only-of-type {\n",
       "        vertical-align: middle;\n",
       "    }\n",
       "\n",
       "    .dataframe tbody tr th {\n",
       "        vertical-align: top;\n",
       "    }\n",
       "\n",
       "    .dataframe thead th {\n",
       "        text-align: right;\n",
       "    }\n",
       "</style>\n",
       "<table border=\"1\" class=\"dataframe\">\n",
       "  <thead>\n",
       "    <tr style=\"text-align: right;\">\n",
       "      <th></th>\n",
       "      <th>Patientid_x</th>\n",
       "      <th>Text_Bef</th>\n",
       "      <th>Text_ANA</th>\n",
       "      <th>Geschlecht</th>\n",
       "      <th>Diagnose</th>\n",
       "    </tr>\n",
       "  </thead>\n",
       "  <tbody>\n",
       "    <tr>\n",
       "      <th>0</th>\n",
       "      <td>89078.0</td>\n",
       "      <td>li Knie: diskr. Erguss, kein DS med. GS, kein ...</td>\n",
       "      <td>Schmerzen werden besser, geht heute das dritte...</td>\n",
       "      <td>männlich</td>\n",
       "      <td>Meniskus</td>\n",
       "    </tr>\n",
       "    <tr>\n",
       "      <th>1</th>\n",
       "      <td>76793.0</td>\n",
       "      <td>Re. Knie: deutlicher Erguss, 0-5-110, reizlose...</td>\n",
       "      <td>Am 02.03. beim Trampolinspringen Distorsionstr...</td>\n",
       "      <td>männlich</td>\n",
       "      <td>Meniskus</td>\n",
       "    </tr>\n",
       "    <tr>\n",
       "      <th>2</th>\n",
       "      <td>409850.0</td>\n",
       "      <td>Linkes Kniegelenk: Extension/Flexion 0/3/100°,...</td>\n",
       "      <td>wv mit aktuellem MRT. Beugung besser, Streckun...</td>\n",
       "      <td>männlich</td>\n",
       "      <td>Meniskus</td>\n",
       "    </tr>\n",
       "    <tr>\n",
       "      <th>3</th>\n",
       "      <td>76793.0</td>\n",
       "      <td>linke Schulter: GhAbd. 90°, Aro 60°, Iro LWK 1...</td>\n",
       "      <td>Patient berichtet er habe zwischenzeitlich ern...</td>\n",
       "      <td>männlich</td>\n",
       "      <td>Meniskus</td>\n",
       "    </tr>\n",
       "    <tr>\n",
       "      <th>4</th>\n",
       "      <td>91686.0</td>\n",
       "      <td>re.Knie: ROM 0-0-140, Lachman neg. fest, DS me...</td>\n",
       "      <td>Belastungserprobung mit Rennrad und Laufen, bi...</td>\n",
       "      <td>männlich</td>\n",
       "      <td>Meniskus</td>\n",
       "    </tr>\n",
       "  </tbody>\n",
       "</table>\n",
       "</div>"
      ]
     },
     "execution_count": 10,
     "metadata": {},
     "output_type": "execute_result"
    }
   ],
   "execution_count": 10
  },
  {
   "metadata": {
    "ExecuteTime": {
     "end_time": "2024-06-19T17:38:48.868753Z",
     "start_time": "2024-06-19T17:38:48.866389Z"
    }
   },
   "cell_type": "code",
   "source": [
    "# List of strings that should not be split\n",
    "do_not_split = [\n",
    "    \"li.\",\n",
    "    \"bds.\",\n",
    "    \"med.\",\n",
    "    \"neg.\",\n",
    "    \"lat.\",\n",
    "    'pos.',\n",
    "    \"re.\",\n",
    "    \"mm, links\",\n",
    "    \"mm, rechts\",\n",
    "    \"mm, li\",\n",
    "    \"mm, re\",\n",
    "    \"o.B\",\n",
    "    \"mm, verletzt\",\n",
    "    \"mm, Seitendifferenz\",\n",
    "    \"diskr.\",\n",
    "    \"flüssig und mit\"\n",
    "]"
   ],
   "id": "3ceda0a51fb75336",
   "outputs": [],
   "execution_count": 3
  },
  {
   "metadata": {
    "ExecuteTime": {
     "end_time": "2024-06-19T17:38:54.324815Z",
     "start_time": "2024-06-19T17:38:54.322311Z"
    }
   },
   "cell_type": "code",
   "source": [
    "def custom_split(text, exceptions):\n",
    "    for exception in exceptions:\n",
    "        text = re.sub(re.escape(exception), re.sub(r'[^\\w\\s]', '', exception), text, flags=re.IGNORECASE)\n",
    "    parts = re.split(r'[.,]|\\sund\\s', text)\n",
    "    parts = [part.strip() for part in parts if part.strip()]\n",
    "    return parts"
   ],
   "id": "d048856c41f7c856",
   "outputs": [],
   "execution_count": 4
  },
  {
   "metadata": {
    "ExecuteTime": {
     "end_time": "2024-06-19T17:38:55.284611Z",
     "start_time": "2024-06-19T17:38:55.279554Z"
    }
   },
   "cell_type": "code",
   "source": [
    "# Preprocess the text\n",
    "pattern_pre = r'\\d{1,3}/\\d{1,3}/\\d{1,3}|\\d{1,3}-\\d{1,3}-\\d{1,3}'\n",
    "\n",
    "def adaptText(match):\n",
    "    # Extract the matched text\n",
    "    matched_text = match.group(0)\n",
    "    \n",
    "    # Split the matched text by either '/' or '-'\n",
    "    if '/' in matched_text:\n",
    "        parts = matched_text.split('/')\n",
    "    elif '-' in matched_text:\n",
    "        parts = matched_text.split('-')\n",
    "    \n",
    "    # Convert parts to integers\n",
    "    parts = list(map(int, parts))\n",
    "    \n",
    "    # Evaluate each part in the context of the \"Neutral-Null-Methode\"\n",
    "    hyperextension = parts[0]\n",
    "    extension_deficit = parts[1]\n",
    "    flexion = parts[2]\n",
    "    \n",
    "    # Create descriptions based on the measurements\n",
    "    if hyperextension > 0:\n",
    "        hyperextension_desc = \"überstreckung des knies ist möglich,\"\n",
    "    else:\n",
    "        hyperextension_desc = \"keine überstreckung des knies,\"\n",
    "    \n",
    "    if extension_deficit > 0:\n",
    "        extension_deficit_desc = \"streckdefizit des knies,\"\n",
    "    else:\n",
    "        extension_deficit_desc = \"kein streckdefizit des knies,\"\n",
    "    \n",
    "    if flexion >= 120:\n",
    "        flexion_desc = \"gute beugung des knies,\"\n",
    "    elif flexion >= 90:\n",
    "        flexion_desc = \"angemessene beugung des knies,\"\n",
    "    else:\n",
    "        flexion_desc = \"eingeschränkte beugung des knies,\"\n",
    "    \n",
    "    # Combine the descriptions into a final string\n",
    "    result = f\",{hyperextension_desc} {extension_deficit_desc} {flexion_desc}\"\n",
    "    return result\n",
    "\n",
    "def preprocess(text):\n",
    "    text = text.lower()  # Convert to lowercase\n",
    "    text = re.sub('ds', 'druckschmerz', text, flags=re.IGNORECASE)\n",
    "    text = re.sub('medial', 'innere', text, flags=re.IGNORECASE)\n",
    "    text = re.sub('gelenkspalt', 'seite des kniegelenks', text, flags=re.IGNORECASE)\n",
    "\n",
    "\n",
    "\n",
    "    text = re.sub('lateral', 'äußere', text, flags=re.IGNORECASE)\n",
    "    text = re.sub('lat', 'äußere', text, flags=re.IGNORECASE)\n",
    "    text = re.sub('gs', 'seite des kniegelenks', text, flags=re.IGNORECASE)\n",
    "    text = re.sub('li ', 'links ', text, flags=re.IGNORECASE)\n",
    "    text = re.sub('re ', 'rechts ', text, flags=re.IGNORECASE)\n",
    "    text = re.sub('gb ', 'gangbild ', text, flags=re.IGNORECASE)\n",
    "    text = re.sub('patellafacette', 'kniescheibe', text, flags=re.IGNORECASE)\n",
    "    text = re.sub('patella', 'kniescheibe', text, flags=re.IGNORECASE)\n",
    "\n",
    "\n",
    "    text = re.sub(pattern_pre, adaptText, text, flags=re.IGNORECASE)\n",
    "\n",
    "    text = re.sub(r'[^\\w\\s/-]', '', text)\n",
    "    return text"
   ],
   "id": "e81fe32be0d0edc7",
   "outputs": [],
   "execution_count": 5
  },
  {
   "metadata": {
    "ExecuteTime": {
     "end_time": "2024-06-19T17:40:11.529291Z",
     "start_time": "2024-06-19T17:40:11.527140Z"
    }
   },
   "cell_type": "code",
   "source": [
    "patterns = [\n",
    "    r'^\\d{1,3}/\\d{1,3}/\\d{1,3}$',  # Pattern for 1-3 digits/numbers/1-3 digits/numbers/1-3 digits/numbers\n",
    "    r'^\\d{1,3}-\\d{1,3}-\\d{1,3}$',  # Pattern for 1-3 digits-numbers-1-3 digits-numbers-1-3 digits-numbers\n",
    "    r'.*gangbild.*',               # Pattern for strings containing \"gangbild\" (case-insensitive)\n",
    "    r'.*druck.*',                  # Pattern for strings containing \"druck\" (case-insensitive)\n",
    "    r'.*ergu.*',                   # Pattern for strings containing \"ergu\" (case-insensitive)\n",
    "    r'.*schwell.*',                # Pattern for strings containing \"schwell\" (case-insensitive)\n",
    "    r'.*rötung.*',                # Pattern for strings containing \"schwell\" (case-insensitive)\n",
    "    r'.*überstreckung.*',                # Pattern for strings containing \"schwell\" (case-insensitive)\n",
    "]\n",
    "\n",
    "# Combine patterns into a single regular expression\n",
    "combined_pattern = r'|'.join(patterns)"
   ],
   "id": "c8b6e1dc499b3b54",
   "outputs": [],
   "execution_count": 11
  },
  {
   "metadata": {
    "ExecuteTime": {
     "end_time": "2024-06-18T18:07:51.861700Z",
     "start_time": "2024-06-18T18:07:51.613540Z"
    }
   },
   "cell_type": "code",
   "source": [
    "\n",
    "\n",
    "# Filter the list\n",
    "for idx, row in df.iterrows():\n",
    "    parts = custom_split(row['Text_Bef'], do_not_split)  # Custom split by exceptions\n",
    "    parts = list(map(preprocess, parts))\n",
    "    df.at[idx, 'All'] = ', '.join(parts)\n",
    "    \n",
    "    filtered_parts = [s for s in parts if s and re.match(combined_pattern, s, re.IGNORECASE)]\n",
    "    \n",
    "    df.at[idx, 'Formatted'] = ', '.join(filtered_parts)"
   ],
   "id": "2b14c90b3ee0dfd",
   "outputs": [],
   "execution_count": 14
  },
  {
   "metadata": {
    "ExecuteTime": {
     "end_time": "2024-06-18T18:07:51.868692Z",
     "start_time": "2024-06-18T18:07:51.862597Z"
    }
   },
   "cell_type": "code",
   "source": "df.head(10)",
   "id": "eae7534c07128d24",
   "outputs": [
    {
     "data": {
      "text/plain": [
       "   Patientid_x                                           Text_Bef  \\\n",
       "0      89078.0  li Knie: diskr. Erguss, kein DS med. GS, kein ...   \n",
       "1      76793.0  Re. Knie: deutlicher Erguss, 0-5-110, reizlose...   \n",
       "2     409850.0  Linkes Kniegelenk: Extension/Flexion 0/3/100°,...   \n",
       "3      76793.0  linke Schulter: GhAbd. 90°, Aro 60°, Iro LWK 1...   \n",
       "4      91686.0  re.Knie: ROM 0-0-140, Lachman neg. fest, DS me...   \n",
       "5     113302.0  Linkes Kniegelenk: Extension/Flexion 0/2/135°,...   \n",
       "6     305785.0  Beinachse gerade Linkes Kniegelenk: Extension/...   \n",
       "7      91686.0  Beinachse gerade Rechtes Kniegelenk: Extension...   \n",
       "8      63950.0  li.Knie:keine Rötung, keine Überwärmung, deutl...   \n",
       "9     113302.0  Beinachse gerade, Beinlänge gleich bzs. re. fr...   \n",
       "\n",
       "                                            Text_ANA Geschlecht  Diagnose  \\\n",
       "0  Schmerzen werden besser, geht heute das dritte...   männlich  Meniskus   \n",
       "1  Am 02.03. beim Trampolinspringen Distorsionstr...   männlich  Meniskus   \n",
       "2  wv mit aktuellem MRT. Beugung besser, Streckun...   männlich  Meniskus   \n",
       "3  Patient berichtet er habe zwischenzeitlich ern...   männlich  Meniskus   \n",
       "4  Belastungserprobung mit Rennrad und Laufen, bi...   männlich  Meniskus   \n",
       "5  Heute Wv bei uns nach 3xAC Spülung nach Gelenk...   männlich  Meniskus   \n",
       "6  Patient hat starke Schmerzen im linken Knie wä...   männlich  Meniskus   \n",
       "7  Seit dem 09.06. nach Kniedistorsion Schmerzen ...   männlich  Meniskus   \n",
       "8                    WV ca. 2,5 Monate postoperativ.   männlich  Meniskus   \n",
       "9  1. tag Post-Op nach AM-Refixation bei luxierte...   männlich  Meniskus   \n",
       "\n",
       "                                                 All  \\\n",
       "0  links knie diskr erguss, kein druckschmerz med...   \n",
       "1  rechts knie deutlicher erguss, keine überstrec...   \n",
       "2  linkes kniegelenk extension/flexion keine über...   \n",
       "3  linke schulter ghabd, 90, aro 60, iro lwk 1, j...   \n",
       "4  reknie rom keine überstreckung des knies kein ...   \n",
       "5  linkes kniegelenk extension/flexion keine über...   \n",
       "6  beinachse gerade linkes kniegelenk extension/f...   \n",
       "7  beinachse gerade rechtes kniegelenk extension/...   \n",
       "8  likniekeine rötung, keine überwärmung, deutlic...   \n",
       "9  beinachse gerade, beinlänge gleich bzs, rechts...   \n",
       "\n",
       "                                           Formatted  \n",
       "0  links knie diskr erguss, kein druckschmerz med...  \n",
       "1  rechts knie deutlicher erguss, keine überstrec...  \n",
       "2  linkes kniegelenk extension/flexion keine über...  \n",
       "3                                                     \n",
       "4  reknie rom keine überstreckung des knies kein ...  \n",
       "5  linkes kniegelenk extension/flexion keine über...  \n",
       "6  beinachse gerade linkes kniegelenk extension/f...  \n",
       "7  beinachse gerade rechtes kniegelenk extension/...  \n",
       "8  likniekeine rötung, deutlicher gelenkerguss, k...  \n",
       "9  5 cm länger linkes kniegelenk extension/flexio...  "
      ],
      "text/html": [
       "<div>\n",
       "<style scoped>\n",
       "    .dataframe tbody tr th:only-of-type {\n",
       "        vertical-align: middle;\n",
       "    }\n",
       "\n",
       "    .dataframe tbody tr th {\n",
       "        vertical-align: top;\n",
       "    }\n",
       "\n",
       "    .dataframe thead th {\n",
       "        text-align: right;\n",
       "    }\n",
       "</style>\n",
       "<table border=\"1\" class=\"dataframe\">\n",
       "  <thead>\n",
       "    <tr style=\"text-align: right;\">\n",
       "      <th></th>\n",
       "      <th>Patientid_x</th>\n",
       "      <th>Text_Bef</th>\n",
       "      <th>Text_ANA</th>\n",
       "      <th>Geschlecht</th>\n",
       "      <th>Diagnose</th>\n",
       "      <th>All</th>\n",
       "      <th>Formatted</th>\n",
       "    </tr>\n",
       "  </thead>\n",
       "  <tbody>\n",
       "    <tr>\n",
       "      <th>0</th>\n",
       "      <td>89078.0</td>\n",
       "      <td>li Knie: diskr. Erguss, kein DS med. GS, kein ...</td>\n",
       "      <td>Schmerzen werden besser, geht heute das dritte...</td>\n",
       "      <td>männlich</td>\n",
       "      <td>Meniskus</td>\n",
       "      <td>links knie diskr erguss, kein druckschmerz med...</td>\n",
       "      <td>links knie diskr erguss, kein druckschmerz med...</td>\n",
       "    </tr>\n",
       "    <tr>\n",
       "      <th>1</th>\n",
       "      <td>76793.0</td>\n",
       "      <td>Re. Knie: deutlicher Erguss, 0-5-110, reizlose...</td>\n",
       "      <td>Am 02.03. beim Trampolinspringen Distorsionstr...</td>\n",
       "      <td>männlich</td>\n",
       "      <td>Meniskus</td>\n",
       "      <td>rechts knie deutlicher erguss, keine überstrec...</td>\n",
       "      <td>rechts knie deutlicher erguss, keine überstrec...</td>\n",
       "    </tr>\n",
       "    <tr>\n",
       "      <th>2</th>\n",
       "      <td>409850.0</td>\n",
       "      <td>Linkes Kniegelenk: Extension/Flexion 0/3/100°,...</td>\n",
       "      <td>wv mit aktuellem MRT. Beugung besser, Streckun...</td>\n",
       "      <td>männlich</td>\n",
       "      <td>Meniskus</td>\n",
       "      <td>linkes kniegelenk extension/flexion keine über...</td>\n",
       "      <td>linkes kniegelenk extension/flexion keine über...</td>\n",
       "    </tr>\n",
       "    <tr>\n",
       "      <th>3</th>\n",
       "      <td>76793.0</td>\n",
       "      <td>linke Schulter: GhAbd. 90°, Aro 60°, Iro LWK 1...</td>\n",
       "      <td>Patient berichtet er habe zwischenzeitlich ern...</td>\n",
       "      <td>männlich</td>\n",
       "      <td>Meniskus</td>\n",
       "      <td>linke schulter ghabd, 90, aro 60, iro lwk 1, j...</td>\n",
       "      <td></td>\n",
       "    </tr>\n",
       "    <tr>\n",
       "      <th>4</th>\n",
       "      <td>91686.0</td>\n",
       "      <td>re.Knie: ROM 0-0-140, Lachman neg. fest, DS me...</td>\n",
       "      <td>Belastungserprobung mit Rennrad und Laufen, bi...</td>\n",
       "      <td>männlich</td>\n",
       "      <td>Meniskus</td>\n",
       "      <td>reknie rom keine überstreckung des knies kein ...</td>\n",
       "      <td>reknie rom keine überstreckung des knies kein ...</td>\n",
       "    </tr>\n",
       "    <tr>\n",
       "      <th>5</th>\n",
       "      <td>113302.0</td>\n",
       "      <td>Linkes Kniegelenk: Extension/Flexion 0/2/135°,...</td>\n",
       "      <td>Heute Wv bei uns nach 3xAC Spülung nach Gelenk...</td>\n",
       "      <td>männlich</td>\n",
       "      <td>Meniskus</td>\n",
       "      <td>linkes kniegelenk extension/flexion keine über...</td>\n",
       "      <td>linkes kniegelenk extension/flexion keine über...</td>\n",
       "    </tr>\n",
       "    <tr>\n",
       "      <th>6</th>\n",
       "      <td>305785.0</td>\n",
       "      <td>Beinachse gerade Linkes Kniegelenk: Extension/...</td>\n",
       "      <td>Patient hat starke Schmerzen im linken Knie wä...</td>\n",
       "      <td>männlich</td>\n",
       "      <td>Meniskus</td>\n",
       "      <td>beinachse gerade linkes kniegelenk extension/f...</td>\n",
       "      <td>beinachse gerade linkes kniegelenk extension/f...</td>\n",
       "    </tr>\n",
       "    <tr>\n",
       "      <th>7</th>\n",
       "      <td>91686.0</td>\n",
       "      <td>Beinachse gerade Rechtes Kniegelenk: Extension...</td>\n",
       "      <td>Seit dem 09.06. nach Kniedistorsion Schmerzen ...</td>\n",
       "      <td>männlich</td>\n",
       "      <td>Meniskus</td>\n",
       "      <td>beinachse gerade rechtes kniegelenk extension/...</td>\n",
       "      <td>beinachse gerade rechtes kniegelenk extension/...</td>\n",
       "    </tr>\n",
       "    <tr>\n",
       "      <th>8</th>\n",
       "      <td>63950.0</td>\n",
       "      <td>li.Knie:keine Rötung, keine Überwärmung, deutl...</td>\n",
       "      <td>WV ca. 2,5 Monate postoperativ.</td>\n",
       "      <td>männlich</td>\n",
       "      <td>Meniskus</td>\n",
       "      <td>likniekeine rötung, keine überwärmung, deutlic...</td>\n",
       "      <td>likniekeine rötung, deutlicher gelenkerguss, k...</td>\n",
       "    </tr>\n",
       "    <tr>\n",
       "      <th>9</th>\n",
       "      <td>113302.0</td>\n",
       "      <td>Beinachse gerade, Beinlänge gleich bzs. re. fr...</td>\n",
       "      <td>1. tag Post-Op nach AM-Refixation bei luxierte...</td>\n",
       "      <td>männlich</td>\n",
       "      <td>Meniskus</td>\n",
       "      <td>beinachse gerade, beinlänge gleich bzs, rechts...</td>\n",
       "      <td>5 cm länger linkes kniegelenk extension/flexio...</td>\n",
       "    </tr>\n",
       "  </tbody>\n",
       "</table>\n",
       "</div>"
      ]
     },
     "execution_count": 15,
     "metadata": {},
     "output_type": "execute_result"
    }
   ],
   "execution_count": 15
  },
  {
   "metadata": {
    "ExecuteTime": {
     "end_time": "2024-06-18T18:07:52.009530Z",
     "start_time": "2024-06-18T18:07:51.869558Z"
    }
   },
   "cell_type": "code",
   "source": [
    "# Define the patterns\n",
    "df.to_excel(\"./data/formatted_examinations.xlsx\", index=False)"
   ],
   "id": "30355f297741f2ea",
   "outputs": [],
   "execution_count": 16
  },
  {
   "metadata": {
    "ExecuteTime": {
     "end_time": "2024-06-19T17:42:42.593847Z",
     "start_time": "2024-06-19T17:42:42.590565Z"
    }
   },
   "cell_type": "code",
   "source": [
    "val = \"Beinachse gerade Rechtes Kniegelenk: Extension/Flexion 0/25/110° (federnde Extensionshemmung), kein Gelenkerguss, Lachman neg. fest, Seitenbänder stabil, Druckschmerz seitlicher Gelenkraum. unauffällige Patella.\"\n",
    "parts = custom_split(val, do_not_split)  # Custom split by exceptions\n",
    "parts = list(map(preprocess, parts))\n",
    "print(parts)\n",
    "    \n",
    "    "
   ],
   "id": "74da9673398a25a4",
   "outputs": [
    {
     "name": "stdout",
     "output_type": "stream",
     "text": [
      "['beinachse gerade rechtes kniegelenk extension/flexion keine überstreckung des knies streckdefizit des knies angemessene beugung des knies federnde extensionshemmung', 'kein gelenkerguss', 'lachman neg fest', 'seitenbänder stabil', 'druckschmerz seitlicher gelenkraum', 'unauffällige patella']\n"
     ]
    }
   ],
   "execution_count": 13
  },
  {
   "metadata": {
    "ExecuteTime": {
     "end_time": "2024-06-19T17:42:43.682008Z",
     "start_time": "2024-06-19T17:42:43.678871Z"
    }
   },
   "cell_type": "code",
   "source": [
    "filtered_parts = [s for s in parts if s and re.match(combined_pattern, s, re.IGNORECASE)]\n",
    "print(filtered_parts)"
   ],
   "id": "9a09dca4c0e6fa9d",
   "outputs": [
    {
     "name": "stdout",
     "output_type": "stream",
     "text": [
      "['beinachse gerade rechtes kniegelenk extension/flexion keine überstreckung des knies streckdefizit des knies angemessene beugung des knies federnde extensionshemmung', 'kein gelenkerguss', 'druckschmerz seitlicher gelenkraum']\n"
     ]
    }
   ],
   "execution_count": 14
  },
  {
   "metadata": {},
   "cell_type": "code",
   "outputs": [],
   "execution_count": null,
   "source": "",
   "id": "64dd677598cb205e"
  }
 ],
 "metadata": {
  "kernelspec": {
   "display_name": "Python 3",
   "language": "python",
   "name": "python3"
  },
  "language_info": {
   "codemirror_mode": {
    "name": "ipython",
    "version": 2
   },
   "file_extension": ".py",
   "mimetype": "text/x-python",
   "name": "python",
   "nbconvert_exporter": "python",
   "pygments_lexer": "ipython2",
   "version": "2.7.6"
  }
 },
 "nbformat": 4,
 "nbformat_minor": 5
}
