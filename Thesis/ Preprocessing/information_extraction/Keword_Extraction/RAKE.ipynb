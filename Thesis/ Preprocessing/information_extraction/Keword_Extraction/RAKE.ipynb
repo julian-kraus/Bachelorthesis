{
 "cells": [
  {
   "cell_type": "code",
   "execution_count": 7,
   "metadata": {},
   "outputs": [
    {
     "name": "stderr",
     "output_type": "stream",
     "text": [
      "[nltk_data] Downloading package stopwords to\n",
      "[nltk_data]     /Users/aleksandratopalova/nltk_data...\n",
      "[nltk_data]   Package stopwords is already up-to-date!\n",
      "[nltk_data] Downloading package punkt to\n",
      "[nltk_data]     /Users/aleksandratopalova/nltk_data...\n",
      "[nltk_data]   Package punkt is already up-to-date!\n"
     ]
    }
   ],
   "source": [
    "from rake_nltk import Rake\n",
    "import nltk\n",
    "nltk.download('stopwords')\n",
    "nltk.download('punkt')\n",
    "\n",
    "# Initialize RAKE\n",
    "r = Rake(include_repeated_phrases=False, min_length=2)\n",
    "\n",
    "# Define the text\n",
    "text = \"1 months ago sudden knee joint blockage left knee joint. Presentation at the hospital Gummersbach. In the course of presentation at the hospital Engelskirchen with X-ray and fracture exclusion. 3 years ago pre-operation in KH-Engelskirchen. As a child already recurring blockade events.The left knee can be extended to a limited extent and flexed with difficulty. There is no fluid accumulation in the knee. There is significant pain on the outside of the knee when pressure is applied.\".replace(\"-\", \"_\")\n",
    "\n",
    "# Extract keywords from the text\n",
    "r.extract_keywords_from_text(text)\n",
    "\n",
    "# Get the ranked phrases\n",
    "keywords_rake = r.get_ranked_phrases()"
   ]
  },
  {
   "cell_type": "code",
   "execution_count": 8,
   "metadata": {},
   "outputs": [
    {
     "data": {
      "text/plain": [
       "['1 months ago sudden knee joint blockage left knee joint',\n",
       " 'child already recurring blockade events',\n",
       " '3 years ago pre_operation',\n",
       " 'left knee',\n",
       " 'significant pain',\n",
       " 'limited extent',\n",
       " 'hospital gummersbach',\n",
       " 'hospital engelskirchen',\n",
       " 'fracture exclusion',\n",
       " 'fluid accumulation']"
      ]
     },
     "execution_count": 8,
     "metadata": {},
     "output_type": "execute_result"
    }
   ],
   "source": [
    "keywords_rake"
   ]
  }
 ],
 "metadata": {
  "kernelspec": {
   "display_name": "ba",
   "language": "python",
   "name": "python3"
  },
  "language_info": {
   "codemirror_mode": {
    "name": "ipython",
    "version": 3
   },
   "file_extension": ".py",
   "mimetype": "text/x-python",
   "name": "python",
   "nbconvert_exporter": "python",
   "pygments_lexer": "ipython3",
   "version": "3.12.3"
  }
 },
 "nbformat": 4,
 "nbformat_minor": 2
}
