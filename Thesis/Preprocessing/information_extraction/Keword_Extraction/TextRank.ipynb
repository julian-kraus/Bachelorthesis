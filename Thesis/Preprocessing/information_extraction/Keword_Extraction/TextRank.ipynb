{
 "cells": [
  {
   "cell_type": "code",
   "execution_count": 7,
   "metadata": {},
   "outputs": [],
   "source": [
    "from summa import keywords\n",
    "\n",
    "text = \"1 months ago sudden knee joint blockage left knee joint. Presentation at the hospital Gummersbach. In the course of presentation at the hospital Engelskirchen with X-ray and fracture exclusion. 3 years ago pre-operation in KH-Engelskirchen. As a child already recurring blockade events.The left knee can be extended to a limited extent and flexed with difficulty. There is no fluid accumulation in the knee. There is significant pain on the outside of the knee when pressure is applied.\".replace(\"-\", \"_\")\n",
    "\n",
    "TR_keywords = keywords.keywords(text, split=True, words=12)"
   ]
  },
  {
   "cell_type": "code",
   "execution_count": 8,
   "metadata": {},
   "outputs": [
    {
     "data": {
      "text/plain": [
       "['ago',\n",
       " 'hospital',\n",
       " 'blockade',\n",
       " 'knee joint',\n",
       " 'exclusion',\n",
       " 'years',\n",
       " 'fluid accumulation',\n",
       " 'limited',\n",
       " 'significant pain']"
      ]
     },
     "execution_count": 8,
     "metadata": {},
     "output_type": "execute_result"
    }
   ],
   "source": [
    "TR_keywords"
   ]
  }
 ],
 "metadata": {
  "kernelspec": {
   "display_name": "ba",
   "language": "python",
   "name": "python3"
  },
  "language_info": {
   "codemirror_mode": {
    "name": "ipython",
    "version": 3
   },
   "file_extension": ".py",
   "mimetype": "text/x-python",
   "name": "python",
   "nbconvert_exporter": "python",
   "pygments_lexer": "ipython3",
   "version": "3.12.3"
  }
 },
 "nbformat": 4,
 "nbformat_minor": 2
}
