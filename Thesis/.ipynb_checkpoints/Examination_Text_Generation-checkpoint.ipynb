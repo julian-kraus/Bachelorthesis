{
 "cells": [
  {
   "metadata": {
    "ExecuteTime": {
     "end_time": "2024-06-18T10:59:38.230700Z",
     "start_time": "2024-06-18T10:59:32.199500Z"
    }
   },
   "cell_type": "code",
   "source": [
    "import pandas as pd\n",
    "from transformers import AutoTokenizer, AutoModelForCausalLM, pipeline\n",
    "import IO"
   ],
   "id": "c66b4c333e83752d",
   "outputs": [
    {
     "name": "stderr",
     "output_type": "stream",
     "text": [
      "/Users/juliankraus/Library/CloudStorage/OneDrive-Personal/Uni/Languages/Code/pythonProject/.venv/lib/python3.9/site-packages/urllib3/__init__.py:35: NotOpenSSLWarning: urllib3 v2 only supports OpenSSL 1.1.1+, currently the 'ssl' module is compiled with 'LibreSSL 2.8.3'. See: https://github.com/urllib3/urllib3/issues/3020\n",
      "  warnings.warn(\n"
     ]
    }
   ],
   "execution_count": 1
  },
  {
   "metadata": {
    "ExecuteTime": {
     "end_time": "2024-06-18T10:59:38.360194Z",
     "start_time": "2024-06-18T10:59:38.231624Z"
    }
   },
   "cell_type": "code",
   "source": [
    "df = IO.load_excel(\"./data/formatted_examinations.xlsx\").dropna()\n",
    "df.head()"
   ],
   "id": "87abcf4eb68ed9ac",
   "outputs": [
    {
     "data": {
      "text/plain": [
       "   Patientid_x                                           Text_Bef  \\\n",
       "0        89078  li Knie: diskr. Erguss, kein DS med. GS, kein ...   \n",
       "1        76793  Re. Knie: deutlicher Erguss, 0-5-110, reizlose...   \n",
       "2       409850  Linkes Kniegelenk: Extension/Flexion 0/3/100°,...   \n",
       "4        91686  re.Knie: ROM 0-0-140, Lachman neg. fest, DS me...   \n",
       "5       113302  Linkes Kniegelenk: Extension/Flexion 0/2/135°,...   \n",
       "\n",
       "                                            Text_ANA Geschlecht  Diagnose  \\\n",
       "0  Schmerzen werden besser, geht heute das dritte...   männlich  Meniskus   \n",
       "1  Am 02.03. beim Trampolinspringen Distorsionstr...   männlich  Meniskus   \n",
       "2  wv mit aktuellem MRT. Beugung besser, Streckun...   männlich  Meniskus   \n",
       "4  Belastungserprobung mit Rennrad und Laufen, bi...   männlich  Meniskus   \n",
       "5  Heute Wv bei uns nach 3xAC Spülung nach Gelenk...   männlich  Meniskus   \n",
       "\n",
       "                                                 All  \\\n",
       "0  links knie, diskr, erguss, kein druckschmerz m...   \n",
       "1  rechts knie, deutlicher erguss, Keine Überstre...   \n",
       "2  linkes kniegelenk, extension/flexion Keine Übe...   \n",
       "4  reknie, rom Keine Überstreckung des Knies Kein...   \n",
       "5  linkes kniegelenk, extension/flexion Keine Übe...   \n",
       "\n",
       "                                           Formatted  \n",
       "0  erguss, kein druckschmerz med äußerechts Seite...  \n",
       "1  deutlicher erguss, Keine Überstreckung des Kni...  \n",
       "2  extension/flexion Keine Überstreckung des Knie...  \n",
       "4  rom Keine Überstreckung des Knies Kein Streckd...  \n",
       "5  extension/flexion Keine Überstreckung des Knie...  "
      ],
      "text/html": [
       "<div>\n",
       "<style scoped>\n",
       "    .dataframe tbody tr th:only-of-type {\n",
       "        vertical-align: middle;\n",
       "    }\n",
       "\n",
       "    .dataframe tbody tr th {\n",
       "        vertical-align: top;\n",
       "    }\n",
       "\n",
       "    .dataframe thead th {\n",
       "        text-align: right;\n",
       "    }\n",
       "</style>\n",
       "<table border=\"1\" class=\"dataframe\">\n",
       "  <thead>\n",
       "    <tr style=\"text-align: right;\">\n",
       "      <th></th>\n",
       "      <th>Patientid_x</th>\n",
       "      <th>Text_Bef</th>\n",
       "      <th>Text_ANA</th>\n",
       "      <th>Geschlecht</th>\n",
       "      <th>Diagnose</th>\n",
       "      <th>All</th>\n",
       "      <th>Formatted</th>\n",
       "    </tr>\n",
       "  </thead>\n",
       "  <tbody>\n",
       "    <tr>\n",
       "      <th>0</th>\n",
       "      <td>89078</td>\n",
       "      <td>li Knie: diskr. Erguss, kein DS med. GS, kein ...</td>\n",
       "      <td>Schmerzen werden besser, geht heute das dritte...</td>\n",
       "      <td>männlich</td>\n",
       "      <td>Meniskus</td>\n",
       "      <td>links knie, diskr, erguss, kein druckschmerz m...</td>\n",
       "      <td>erguss, kein druckschmerz med äußerechts Seite...</td>\n",
       "    </tr>\n",
       "    <tr>\n",
       "      <th>1</th>\n",
       "      <td>76793</td>\n",
       "      <td>Re. Knie: deutlicher Erguss, 0-5-110, reizlose...</td>\n",
       "      <td>Am 02.03. beim Trampolinspringen Distorsionstr...</td>\n",
       "      <td>männlich</td>\n",
       "      <td>Meniskus</td>\n",
       "      <td>rechts knie, deutlicher erguss, Keine Überstre...</td>\n",
       "      <td>deutlicher erguss, Keine Überstreckung des Kni...</td>\n",
       "    </tr>\n",
       "    <tr>\n",
       "      <th>2</th>\n",
       "      <td>409850</td>\n",
       "      <td>Linkes Kniegelenk: Extension/Flexion 0/3/100°,...</td>\n",
       "      <td>wv mit aktuellem MRT. Beugung besser, Streckun...</td>\n",
       "      <td>männlich</td>\n",
       "      <td>Meniskus</td>\n",
       "      <td>linkes kniegelenk, extension/flexion Keine Übe...</td>\n",
       "      <td>extension/flexion Keine Überstreckung des Knie...</td>\n",
       "    </tr>\n",
       "    <tr>\n",
       "      <th>4</th>\n",
       "      <td>91686</td>\n",
       "      <td>re.Knie: ROM 0-0-140, Lachman neg. fest, DS me...</td>\n",
       "      <td>Belastungserprobung mit Rennrad und Laufen, bi...</td>\n",
       "      <td>männlich</td>\n",
       "      <td>Meniskus</td>\n",
       "      <td>reknie, rom Keine Überstreckung des Knies Kein...</td>\n",
       "      <td>rom Keine Überstreckung des Knies Kein Streckd...</td>\n",
       "    </tr>\n",
       "    <tr>\n",
       "      <th>5</th>\n",
       "      <td>113302</td>\n",
       "      <td>Linkes Kniegelenk: Extension/Flexion 0/2/135°,...</td>\n",
       "      <td>Heute Wv bei uns nach 3xAC Spülung nach Gelenk...</td>\n",
       "      <td>männlich</td>\n",
       "      <td>Meniskus</td>\n",
       "      <td>linkes kniegelenk, extension/flexion Keine Übe...</td>\n",
       "      <td>extension/flexion Keine Überstreckung des Knie...</td>\n",
       "    </tr>\n",
       "  </tbody>\n",
       "</table>\n",
       "</div>"
      ]
     },
     "execution_count": 2,
     "metadata": {},
     "output_type": "execute_result"
    }
   ],
   "execution_count": 2
  },
  {
   "cell_type": "code",
   "id": "initial_id",
   "metadata": {
    "collapsed": true,
    "ExecuteTime": {
     "end_time": "2024-06-18T11:01:06.860067Z",
     "start_time": "2024-06-18T11:00:16.975522Z"
    }
   },
   "source": [
    "# Load the Mistral model and tokenizer from Hugging Face\n",
    "model_name = \"jphme/em_german_leo_mistral\"\n",
    "tokenizer = AutoTokenizer.from_pretrained(model_name)\n",
    "model = AutoModelForCausalLM.from_pretrained(model_name)\n",
    "\n",
    "# Create a text generation pipeline\n",
    "text_generation_pipeline = pipeline(\"text-generation\", model=model, tokenizer=tokenizer, device=0)\n",
    "\n",
    "few_shot_examples = [\n",
    "    (\"erguss, kein druckschmerz med äußerechts Seite des Kniegelenks, kein druckschmerz kniescheibe, kein erguss, druckschmerz seitlich kniescheibe\", \n",
    "     \"Das Knie hat keinen Erguss, aber es gibt keinen Druckschmerz auf der äußerechts Seite des Kniegelenks und Kniescheibe. And der seite der Kniescheibe, gibt es Druckschmerz.\"),\n",
    "    (\"extension/flexion Keine Überstreckung des Knies Es besteht eine Streckdefizit des Knies Gute Beugung des Knies, kein gelenkerguss, druckschmerz keiner\", \n",
    "     \"Das Knie kann nicht Überstreckt werden und es besteht auch ein Streckdefiziz. Die Beugung hingegend ist gut möglich. Es gibt keinen Druckschmerz oder Gelenkerguss.\"),\n",
    "]\n",
    "\n",
    "# Construct the few-shot prompt\n",
    "instruction = \"Du bist ein Patient, formuliere die Beschreibung deiner Symptome aus.\"\n",
    "few_shot_prompt = \"\\n\\n\".join([f\"Input: {inp}\\nOutput: {out}\" for inp, out in few_shot_examples]) + f\"\\n\\n{instruction}\"\n",
    "\n",
    "for idx, row in df.head().iterrows():\n",
    "    print(\"New row\")\n",
    "    # Combine the text and instruction\n",
    "    prompt = f\"{few_shot_prompt}\\n\\n{row['Formatted']}\"\n",
    "\n",
    "    # Generate the output\n",
    "    generated_text = text_generation_pipeline(prompt, max_length=300, num_return_sequences=1)[0]['generated_text']\n",
    "    \n",
    "    df['generated_text'] = generated_text\n",
    "    \n",
    "\n",
    "# Save the dataframe to a CSV file\n",
    "#df.to_csv(\"generated_texts.csv\", index=False)\n",
    "\n",
    "# Display the dataframe\n",
    "print(df.head())\n"
   ],
   "outputs": [
    {
     "data": {
      "text/plain": [
       "Loading checkpoint shards:   0%|          | 0/2 [00:00<?, ?it/s]"
      ],
      "application/vnd.jupyter.widget-view+json": {
       "version_major": 2,
       "version_minor": 0,
       "model_id": "1e572f734e904026babac64fec32baef"
      }
     },
     "metadata": {},
     "output_type": "display_data"
    },
    {
     "name": "stderr",
     "output_type": "stream",
     "text": [
      "Truncation was not explicitly activated but `max_length` is provided a specific value, please use `truncation=True` to explicitly truncate examples to max length. Defaulting to 'longest_first' truncation strategy. If you encode pairs of sequences (GLUE-style) with the tokenizer you can select this strategy more precisely by providing a specific strategy to `truncation`.\n",
      "Setting `pad_token_id` to `eos_token_id`:2 for open-end generation.\n"
     ]
    },
    {
     "name": "stdout",
     "output_type": "stream",
     "text": [
      "New row\n"
     ]
    },
    {
     "ename": "ValueError",
     "evalue": "Input length of input_ids is 300, but `max_length` is set to 300. This can lead to unexpected behavior. You should consider increasing `max_length` or, better yet, setting `max_new_tokens`.",
     "output_type": "error",
     "traceback": [
      "\u001B[0;31m---------------------------------------------------------------------------\u001B[0m",
      "\u001B[0;31mValueError\u001B[0m                                Traceback (most recent call last)",
      "Cell \u001B[0;32mIn[4], line 26\u001B[0m\n\u001B[1;32m     23\u001B[0m     prompt \u001B[38;5;241m=\u001B[39m \u001B[38;5;124mf\u001B[39m\u001B[38;5;124m\"\u001B[39m\u001B[38;5;132;01m{\u001B[39;00mfew_shot_prompt\u001B[38;5;132;01m}\u001B[39;00m\u001B[38;5;130;01m\\n\u001B[39;00m\u001B[38;5;130;01m\\n\u001B[39;00m\u001B[38;5;132;01m{\u001B[39;00mrow[\u001B[38;5;124m'\u001B[39m\u001B[38;5;124mFormatted\u001B[39m\u001B[38;5;124m'\u001B[39m]\u001B[38;5;132;01m}\u001B[39;00m\u001B[38;5;124m\"\u001B[39m\n\u001B[1;32m     25\u001B[0m     \u001B[38;5;66;03m# Generate the output\u001B[39;00m\n\u001B[0;32m---> 26\u001B[0m     generated_text \u001B[38;5;241m=\u001B[39m \u001B[43mtext_generation_pipeline\u001B[49m\u001B[43m(\u001B[49m\u001B[43mprompt\u001B[49m\u001B[43m,\u001B[49m\u001B[43m \u001B[49m\u001B[43mmax_length\u001B[49m\u001B[38;5;241;43m=\u001B[39;49m\u001B[38;5;241;43m300\u001B[39;49m\u001B[43m,\u001B[49m\u001B[43m \u001B[49m\u001B[43mnum_return_sequences\u001B[49m\u001B[38;5;241;43m=\u001B[39;49m\u001B[38;5;241;43m1\u001B[39;49m\u001B[43m)\u001B[49m[\u001B[38;5;241m0\u001B[39m][\u001B[38;5;124m'\u001B[39m\u001B[38;5;124mgenerated_text\u001B[39m\u001B[38;5;124m'\u001B[39m]\n\u001B[1;32m     28\u001B[0m     df[\u001B[38;5;124m'\u001B[39m\u001B[38;5;124mgenerated_text\u001B[39m\u001B[38;5;124m'\u001B[39m] \u001B[38;5;241m=\u001B[39m generated_text\n\u001B[1;32m     31\u001B[0m \u001B[38;5;66;03m# Save the dataframe to a CSV file\u001B[39;00m\n\u001B[1;32m     32\u001B[0m \u001B[38;5;66;03m#df.to_csv(\"generated_texts.csv\", index=False)\u001B[39;00m\n\u001B[1;32m     33\u001B[0m \n\u001B[1;32m     34\u001B[0m \u001B[38;5;66;03m# Display the dataframe\u001B[39;00m\n",
      "File \u001B[0;32m~/Library/CloudStorage/OneDrive-Personal/Uni/Languages/Code/pythonProject/.venv/lib/python3.9/site-packages/transformers/pipelines/text_generation.py:263\u001B[0m, in \u001B[0;36mTextGenerationPipeline.__call__\u001B[0;34m(self, text_inputs, **kwargs)\u001B[0m\n\u001B[1;32m    261\u001B[0m         \u001B[38;5;28;01mreturn\u001B[39;00m \u001B[38;5;28msuper\u001B[39m()\u001B[38;5;241m.\u001B[39m\u001B[38;5;21m__call__\u001B[39m(chats, \u001B[38;5;241m*\u001B[39m\u001B[38;5;241m*\u001B[39mkwargs)\n\u001B[1;32m    262\u001B[0m \u001B[38;5;28;01melse\u001B[39;00m:\n\u001B[0;32m--> 263\u001B[0m     \u001B[38;5;28;01mreturn\u001B[39;00m \u001B[38;5;28;43msuper\u001B[39;49m\u001B[43m(\u001B[49m\u001B[43m)\u001B[49m\u001B[38;5;241;43m.\u001B[39;49m\u001B[38;5;21;43m__call__\u001B[39;49m\u001B[43m(\u001B[49m\u001B[43mtext_inputs\u001B[49m\u001B[43m,\u001B[49m\u001B[43m \u001B[49m\u001B[38;5;241;43m*\u001B[39;49m\u001B[38;5;241;43m*\u001B[39;49m\u001B[43mkwargs\u001B[49m\u001B[43m)\u001B[49m\n",
      "File \u001B[0;32m~/Library/CloudStorage/OneDrive-Personal/Uni/Languages/Code/pythonProject/.venv/lib/python3.9/site-packages/transformers/pipelines/base.py:1243\u001B[0m, in \u001B[0;36mPipeline.__call__\u001B[0;34m(self, inputs, num_workers, batch_size, *args, **kwargs)\u001B[0m\n\u001B[1;32m   1235\u001B[0m     \u001B[38;5;28;01mreturn\u001B[39;00m \u001B[38;5;28mnext\u001B[39m(\n\u001B[1;32m   1236\u001B[0m         \u001B[38;5;28miter\u001B[39m(\n\u001B[1;32m   1237\u001B[0m             \u001B[38;5;28mself\u001B[39m\u001B[38;5;241m.\u001B[39mget_iterator(\n\u001B[0;32m   (...)\u001B[0m\n\u001B[1;32m   1240\u001B[0m         )\n\u001B[1;32m   1241\u001B[0m     )\n\u001B[1;32m   1242\u001B[0m \u001B[38;5;28;01melse\u001B[39;00m:\n\u001B[0;32m-> 1243\u001B[0m     \u001B[38;5;28;01mreturn\u001B[39;00m \u001B[38;5;28;43mself\u001B[39;49m\u001B[38;5;241;43m.\u001B[39;49m\u001B[43mrun_single\u001B[49m\u001B[43m(\u001B[49m\u001B[43minputs\u001B[49m\u001B[43m,\u001B[49m\u001B[43m \u001B[49m\u001B[43mpreprocess_params\u001B[49m\u001B[43m,\u001B[49m\u001B[43m \u001B[49m\u001B[43mforward_params\u001B[49m\u001B[43m,\u001B[49m\u001B[43m \u001B[49m\u001B[43mpostprocess_params\u001B[49m\u001B[43m)\u001B[49m\n",
      "File \u001B[0;32m~/Library/CloudStorage/OneDrive-Personal/Uni/Languages/Code/pythonProject/.venv/lib/python3.9/site-packages/transformers/pipelines/base.py:1250\u001B[0m, in \u001B[0;36mPipeline.run_single\u001B[0;34m(self, inputs, preprocess_params, forward_params, postprocess_params)\u001B[0m\n\u001B[1;32m   1248\u001B[0m \u001B[38;5;28;01mdef\u001B[39;00m \u001B[38;5;21mrun_single\u001B[39m(\u001B[38;5;28mself\u001B[39m, inputs, preprocess_params, forward_params, postprocess_params):\n\u001B[1;32m   1249\u001B[0m     model_inputs \u001B[38;5;241m=\u001B[39m \u001B[38;5;28mself\u001B[39m\u001B[38;5;241m.\u001B[39mpreprocess(inputs, \u001B[38;5;241m*\u001B[39m\u001B[38;5;241m*\u001B[39mpreprocess_params)\n\u001B[0;32m-> 1250\u001B[0m     model_outputs \u001B[38;5;241m=\u001B[39m \u001B[38;5;28;43mself\u001B[39;49m\u001B[38;5;241;43m.\u001B[39;49m\u001B[43mforward\u001B[49m\u001B[43m(\u001B[49m\u001B[43mmodel_inputs\u001B[49m\u001B[43m,\u001B[49m\u001B[43m \u001B[49m\u001B[38;5;241;43m*\u001B[39;49m\u001B[38;5;241;43m*\u001B[39;49m\u001B[43mforward_params\u001B[49m\u001B[43m)\u001B[49m\n\u001B[1;32m   1251\u001B[0m     outputs \u001B[38;5;241m=\u001B[39m \u001B[38;5;28mself\u001B[39m\u001B[38;5;241m.\u001B[39mpostprocess(model_outputs, \u001B[38;5;241m*\u001B[39m\u001B[38;5;241m*\u001B[39mpostprocess_params)\n\u001B[1;32m   1252\u001B[0m     \u001B[38;5;28;01mreturn\u001B[39;00m outputs\n",
      "File \u001B[0;32m~/Library/CloudStorage/OneDrive-Personal/Uni/Languages/Code/pythonProject/.venv/lib/python3.9/site-packages/transformers/pipelines/base.py:1150\u001B[0m, in \u001B[0;36mPipeline.forward\u001B[0;34m(self, model_inputs, **forward_params)\u001B[0m\n\u001B[1;32m   1148\u001B[0m     \u001B[38;5;28;01mwith\u001B[39;00m inference_context():\n\u001B[1;32m   1149\u001B[0m         model_inputs \u001B[38;5;241m=\u001B[39m \u001B[38;5;28mself\u001B[39m\u001B[38;5;241m.\u001B[39m_ensure_tensor_on_device(model_inputs, device\u001B[38;5;241m=\u001B[39m\u001B[38;5;28mself\u001B[39m\u001B[38;5;241m.\u001B[39mdevice)\n\u001B[0;32m-> 1150\u001B[0m         model_outputs \u001B[38;5;241m=\u001B[39m \u001B[38;5;28;43mself\u001B[39;49m\u001B[38;5;241;43m.\u001B[39;49m\u001B[43m_forward\u001B[49m\u001B[43m(\u001B[49m\u001B[43mmodel_inputs\u001B[49m\u001B[43m,\u001B[49m\u001B[43m \u001B[49m\u001B[38;5;241;43m*\u001B[39;49m\u001B[38;5;241;43m*\u001B[39;49m\u001B[43mforward_params\u001B[49m\u001B[43m)\u001B[49m\n\u001B[1;32m   1151\u001B[0m         model_outputs \u001B[38;5;241m=\u001B[39m \u001B[38;5;28mself\u001B[39m\u001B[38;5;241m.\u001B[39m_ensure_tensor_on_device(model_outputs, device\u001B[38;5;241m=\u001B[39mtorch\u001B[38;5;241m.\u001B[39mdevice(\u001B[38;5;124m\"\u001B[39m\u001B[38;5;124mcpu\u001B[39m\u001B[38;5;124m\"\u001B[39m))\n\u001B[1;32m   1152\u001B[0m \u001B[38;5;28;01melse\u001B[39;00m:\n",
      "File \u001B[0;32m~/Library/CloudStorage/OneDrive-Personal/Uni/Languages/Code/pythonProject/.venv/lib/python3.9/site-packages/transformers/pipelines/text_generation.py:350\u001B[0m, in \u001B[0;36mTextGenerationPipeline._forward\u001B[0;34m(self, model_inputs, **generate_kwargs)\u001B[0m\n\u001B[1;32m    347\u001B[0m         generate_kwargs[\u001B[38;5;124m\"\u001B[39m\u001B[38;5;124mmin_length\u001B[39m\u001B[38;5;124m\"\u001B[39m] \u001B[38;5;241m+\u001B[39m\u001B[38;5;241m=\u001B[39m prefix_length\n\u001B[1;32m    349\u001B[0m \u001B[38;5;66;03m# BS x SL\u001B[39;00m\n\u001B[0;32m--> 350\u001B[0m generated_sequence \u001B[38;5;241m=\u001B[39m \u001B[38;5;28;43mself\u001B[39;49m\u001B[38;5;241;43m.\u001B[39;49m\u001B[43mmodel\u001B[49m\u001B[38;5;241;43m.\u001B[39;49m\u001B[43mgenerate\u001B[49m\u001B[43m(\u001B[49m\u001B[43minput_ids\u001B[49m\u001B[38;5;241;43m=\u001B[39;49m\u001B[43minput_ids\u001B[49m\u001B[43m,\u001B[49m\u001B[43m \u001B[49m\u001B[43mattention_mask\u001B[49m\u001B[38;5;241;43m=\u001B[39;49m\u001B[43mattention_mask\u001B[49m\u001B[43m,\u001B[49m\u001B[43m \u001B[49m\u001B[38;5;241;43m*\u001B[39;49m\u001B[38;5;241;43m*\u001B[39;49m\u001B[43mgenerate_kwargs\u001B[49m\u001B[43m)\u001B[49m\n\u001B[1;32m    351\u001B[0m out_b \u001B[38;5;241m=\u001B[39m generated_sequence\u001B[38;5;241m.\u001B[39mshape[\u001B[38;5;241m0\u001B[39m]\n\u001B[1;32m    352\u001B[0m \u001B[38;5;28;01mif\u001B[39;00m \u001B[38;5;28mself\u001B[39m\u001B[38;5;241m.\u001B[39mframework \u001B[38;5;241m==\u001B[39m \u001B[38;5;124m\"\u001B[39m\u001B[38;5;124mpt\u001B[39m\u001B[38;5;124m\"\u001B[39m:\n",
      "File \u001B[0;32m~/Library/CloudStorage/OneDrive-Personal/Uni/Languages/Code/pythonProject/.venv/lib/python3.9/site-packages/torch/utils/_contextlib.py:116\u001B[0m, in \u001B[0;36mcontext_decorator.<locals>.decorate_context\u001B[0;34m(*args, **kwargs)\u001B[0m\n\u001B[1;32m    113\u001B[0m \u001B[38;5;129m@functools\u001B[39m\u001B[38;5;241m.\u001B[39mwraps(func)\n\u001B[1;32m    114\u001B[0m \u001B[38;5;28;01mdef\u001B[39;00m \u001B[38;5;21mdecorate_context\u001B[39m(\u001B[38;5;241m*\u001B[39margs, \u001B[38;5;241m*\u001B[39m\u001B[38;5;241m*\u001B[39mkwargs):\n\u001B[1;32m    115\u001B[0m     \u001B[38;5;28;01mwith\u001B[39;00m ctx_factory():\n\u001B[0;32m--> 116\u001B[0m         \u001B[38;5;28;01mreturn\u001B[39;00m \u001B[43mfunc\u001B[49m\u001B[43m(\u001B[49m\u001B[38;5;241;43m*\u001B[39;49m\u001B[43margs\u001B[49m\u001B[43m,\u001B[49m\u001B[43m \u001B[49m\u001B[38;5;241;43m*\u001B[39;49m\u001B[38;5;241;43m*\u001B[39;49m\u001B[43mkwargs\u001B[49m\u001B[43m)\u001B[49m\n",
      "File \u001B[0;32m~/Library/CloudStorage/OneDrive-Personal/Uni/Languages/Code/pythonProject/.venv/lib/python3.9/site-packages/transformers/generation/utils.py:1648\u001B[0m, in \u001B[0;36mGenerationMixin.generate\u001B[0;34m(self, inputs, generation_config, logits_processor, stopping_criteria, prefix_allowed_tokens_fn, synced_gpus, assistant_model, streamer, negative_prompt_ids, negative_prompt_attention_mask, **kwargs)\u001B[0m\n\u001B[1;32m   1642\u001B[0m             \u001B[38;5;28;01mraise\u001B[39;00m \u001B[38;5;167;01mValueError\u001B[39;00m(\n\u001B[1;32m   1643\u001B[0m                 \u001B[38;5;124m\"\u001B[39m\u001B[38;5;124mThis model does not support `cache_implementation=\u001B[39m\u001B[38;5;124m'\u001B[39m\u001B[38;5;124mstatic\u001B[39m\u001B[38;5;124m'\u001B[39m\u001B[38;5;124m`. Please check the following \u001B[39m\u001B[38;5;124m\"\u001B[39m\n\u001B[1;32m   1644\u001B[0m                 \u001B[38;5;124m\"\u001B[39m\u001B[38;5;124missue: https://github.com/huggingface/transformers/issues/28981\u001B[39m\u001B[38;5;124m\"\u001B[39m\n\u001B[1;32m   1645\u001B[0m             )\n\u001B[1;32m   1646\u001B[0m         model_kwargs[\u001B[38;5;124m\"\u001B[39m\u001B[38;5;124mpast_key_values\u001B[39m\u001B[38;5;124m\"\u001B[39m] \u001B[38;5;241m=\u001B[39m \u001B[38;5;28mself\u001B[39m\u001B[38;5;241m.\u001B[39m_get_static_cache(batch_size, generation_config\u001B[38;5;241m.\u001B[39mmax_length)\n\u001B[0;32m-> 1648\u001B[0m \u001B[38;5;28;43mself\u001B[39;49m\u001B[38;5;241;43m.\u001B[39;49m\u001B[43m_validate_generated_length\u001B[49m\u001B[43m(\u001B[49m\u001B[43mgeneration_config\u001B[49m\u001B[43m,\u001B[49m\u001B[43m \u001B[49m\u001B[43minput_ids_length\u001B[49m\u001B[43m,\u001B[49m\u001B[43m \u001B[49m\u001B[43mhas_default_max_length\u001B[49m\u001B[43m)\u001B[49m\n\u001B[1;32m   1650\u001B[0m \u001B[38;5;66;03m# 7. determine generation mode\u001B[39;00m\n\u001B[1;32m   1651\u001B[0m generation_mode \u001B[38;5;241m=\u001B[39m generation_config\u001B[38;5;241m.\u001B[39mget_generation_mode(assistant_model)\n",
      "File \u001B[0;32m~/Library/CloudStorage/OneDrive-Personal/Uni/Languages/Code/pythonProject/.venv/lib/python3.9/site-packages/transformers/generation/utils.py:1176\u001B[0m, in \u001B[0;36mGenerationMixin._validate_generated_length\u001B[0;34m(self, generation_config, input_ids_length, has_default_max_length)\u001B[0m\n\u001B[1;32m   1174\u001B[0m \u001B[38;5;28;01mif\u001B[39;00m input_ids_length \u001B[38;5;241m>\u001B[39m\u001B[38;5;241m=\u001B[39m generation_config\u001B[38;5;241m.\u001B[39mmax_length:\n\u001B[1;32m   1175\u001B[0m     input_ids_string \u001B[38;5;241m=\u001B[39m \u001B[38;5;124m\"\u001B[39m\u001B[38;5;124mdecoder_input_ids\u001B[39m\u001B[38;5;124m\"\u001B[39m \u001B[38;5;28;01mif\u001B[39;00m \u001B[38;5;28mself\u001B[39m\u001B[38;5;241m.\u001B[39mconfig\u001B[38;5;241m.\u001B[39mis_encoder_decoder \u001B[38;5;28;01melse\u001B[39;00m \u001B[38;5;124m\"\u001B[39m\u001B[38;5;124minput_ids\u001B[39m\u001B[38;5;124m\"\u001B[39m\n\u001B[0;32m-> 1176\u001B[0m     \u001B[38;5;28;01mraise\u001B[39;00m \u001B[38;5;167;01mValueError\u001B[39;00m(\n\u001B[1;32m   1177\u001B[0m         \u001B[38;5;124mf\u001B[39m\u001B[38;5;124m\"\u001B[39m\u001B[38;5;124mInput length of \u001B[39m\u001B[38;5;132;01m{\u001B[39;00minput_ids_string\u001B[38;5;132;01m}\u001B[39;00m\u001B[38;5;124m is \u001B[39m\u001B[38;5;132;01m{\u001B[39;00minput_ids_length\u001B[38;5;132;01m}\u001B[39;00m\u001B[38;5;124m, but `max_length` is set to\u001B[39m\u001B[38;5;124m\"\u001B[39m\n\u001B[1;32m   1178\u001B[0m         \u001B[38;5;124mf\u001B[39m\u001B[38;5;124m\"\u001B[39m\u001B[38;5;124m \u001B[39m\u001B[38;5;132;01m{\u001B[39;00mgeneration_config\u001B[38;5;241m.\u001B[39mmax_length\u001B[38;5;132;01m}\u001B[39;00m\u001B[38;5;124m. This can lead to unexpected behavior. You should consider\u001B[39m\u001B[38;5;124m\"\u001B[39m\n\u001B[1;32m   1179\u001B[0m         \u001B[38;5;124m\"\u001B[39m\u001B[38;5;124m increasing `max_length` or, better yet, setting `max_new_tokens`.\u001B[39m\u001B[38;5;124m\"\u001B[39m\n\u001B[1;32m   1180\u001B[0m     )\n\u001B[1;32m   1182\u001B[0m \u001B[38;5;66;03m# 2. Min length warnings due to unfeasible parameter combinations\u001B[39;00m\n\u001B[1;32m   1183\u001B[0m min_length_error_suffix \u001B[38;5;241m=\u001B[39m (\n\u001B[1;32m   1184\u001B[0m     \u001B[38;5;124m\"\u001B[39m\u001B[38;5;124m Generation will stop at the defined maximum length. You should decrease the minimum length and/or \u001B[39m\u001B[38;5;124m\"\u001B[39m\n\u001B[1;32m   1185\u001B[0m     \u001B[38;5;124m\"\u001B[39m\u001B[38;5;124mincrease the maximum length.\u001B[39m\u001B[38;5;124m\"\u001B[39m\n\u001B[1;32m   1186\u001B[0m )\n",
      "\u001B[0;31mValueError\u001B[0m: Input length of input_ids is 300, but `max_length` is set to 300. This can lead to unexpected behavior. You should consider increasing `max_length` or, better yet, setting `max_new_tokens`."
     ]
    }
   ],
   "execution_count": 4
  },
  {
   "metadata": {},
   "cell_type": "code",
   "outputs": [],
   "execution_count": null,
   "source": "",
   "id": "35a70d96abdcaa4b"
  }
 ],
 "metadata": {
  "kernelspec": {
   "display_name": "Python 3",
   "language": "python",
   "name": "python3"
  },
  "language_info": {
   "codemirror_mode": {
    "name": "ipython",
    "version": 2
   },
   "file_extension": ".py",
   "mimetype": "text/x-python",
   "name": "python",
   "nbconvert_exporter": "python",
   "pygments_lexer": "ipython2",
   "version": "2.7.6"
  }
 },
 "nbformat": 4,
 "nbformat_minor": 5
}
