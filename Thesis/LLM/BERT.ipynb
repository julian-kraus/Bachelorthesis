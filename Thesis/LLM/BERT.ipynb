{
 "cells": [
  {
   "cell_type": "markdown",
   "metadata": {},
   "source": [
    "# BERT"
   ]
  },
  {
   "cell_type": "markdown",
   "metadata": {},
   "source": [
    "## Plain BERT without architecture changes, no pre-trained tokenizer, no fine-tuning, default hyperparameters"
   ]
  },
  {
   "cell_type": "markdown",
   "metadata": {},
   "source": [
    "Uses masking and predicts the masked word"
   ]
  },
  {
   "cell_type": "code",
   "execution_count": 1,
   "metadata": {},
   "outputs": [
    {
     "name": "stderr",
     "output_type": "stream",
     "text": [
      "/usr/local/Caskroom/miniconda/base/envs/ba/lib/python3.12/site-packages/tqdm/auto.py:21: TqdmWarning: IProgress not found. Please update jupyter and ipywidgets. See https://ipywidgets.readthedocs.io/en/stable/user_install.html\n",
      "  from .autonotebook import tqdm as notebook_tqdm\n"
     ]
    }
   ],
   "source": [
    "from transformers import pipeline"
   ]
  },
  {
   "cell_type": "code",
   "execution_count": 2,
   "metadata": {},
   "outputs": [],
   "source": [
    "import pandas as pd\n",
    "df = pd.read_csv(\"../data/cleaned_patient_data.csv\")\n",
    "df[\"text\"] = df[\"ANA\"] + \" \" + df[\"EXA\"]"
   ]
  },
  {
   "cell_type": "code",
   "execution_count": 3,
   "metadata": {},
   "outputs": [
    {
     "name": "stdout",
     "output_type": "stream",
     "text": [
      "Beschwerden re. Achillessehne. NMR unauffällig. Verdickung jedoch da; nach und während des Laufen (Sprint) schlimmer. Re. Achillessehne: Verdickung im Bereich der Achillessehne ca. 3 cm proximal; Re. Leiste: Druckschmerz am os pubis zum os ischii hin; auch nach ventral am os pubis Die ICD-10-GM code, enstprechend diese Symptome, ist [MASK]\n"
     ]
    }
   ],
   "source": [
    "prompt = df[\"text\"][0] + \" Die ICD-10-GM code, enstprechend diese Symptome, ist [MASK]\"\n",
    "print(prompt)"
   ]
  },
  {
   "cell_type": "code",
   "execution_count": 4,
   "metadata": {},
   "outputs": [
    {
     "name": "stderr",
     "output_type": "stream",
     "text": [
      "Some weights of the model checkpoint at google-bert/bert-base-german-cased were not used when initializing BertForMaskedLM: ['bert.pooler.dense.bias', 'bert.pooler.dense.weight', 'cls.seq_relationship.bias', 'cls.seq_relationship.weight']\n",
      "- This IS expected if you are initializing BertForMaskedLM from the checkpoint of a model trained on another task or with another architecture (e.g. initializing a BertForSequenceClassification model from a BertForPreTraining model).\n",
      "- This IS NOT expected if you are initializing BertForMaskedLM from the checkpoint of a model that you expect to be exactly identical (initializing a BertForSequenceClassification model from a BertForSequenceClassification model).\n"
     ]
    },
    {
     "data": {
      "text/plain": [
       "[{'score': 0.6519646048545837,\n",
       "  'token': 4813,\n",
       "  'token_str': '[unused_punctuation0]',\n",
       "  'sequence': 'Beschwerden re. Achillessehne. NMR unauffällig. Verdickung jedoch da ; nach und während des Laufen ( Sprint ) schlimmer. Re. Achillessehne : Verdickung im Bereich der Achillessehne ca. 3 cm proximal ; Re. Leiste : Druckschmerz am os pubis zum os ischii hin ; auch nach ventral am os pubis Die ICD - 10 - GM code, enstprechend diese Symptome, ist [unused_punctuation0]'},\n",
       " {'score': 0.22753575444221497,\n",
       "  'token': 5982,\n",
       "  'token_str': '[unused_punctuation6]',\n",
       "  'sequence': 'Beschwerden re. Achillessehne. NMR unauffällig. Verdickung jedoch da ; nach und während des Laufen ( Sprint ) schlimmer. Re. Achillessehne : Verdickung im Bereich der Achillessehne ca. 3 cm proximal ; Re. Leiste : Druckschmerz am os pubis zum os ischii hin ; auch nach ventral am os pubis Die ICD - 10 - GM code, enstprechend diese Symptome, ist [unused_punctuation6]'},\n",
       " {'score': 0.01596972905099392,\n",
       "  'token': 17136,\n",
       "  'token_str': '[unused_punctuation9]',\n",
       "  'sequence': 'Beschwerden re. Achillessehne. NMR unauffällig. Verdickung jedoch da ; nach und während des Laufen ( Sprint ) schlimmer. Re. Achillessehne : Verdickung im Bereich der Achillessehne ca. 3 cm proximal ; Re. Leiste : Druckschmerz am os pubis zum os ischii hin ; auch nach ventral am os pubis Die ICD - 10 - GM code, enstprechend diese Symptome, ist [unused_punctuation9]'},\n",
       " {'score': 0.012365967035293579,\n",
       "  'token': 2,\n",
       "  'token_str': '[UNK]',\n",
       "  'sequence': 'Beschwerden re. Achillessehne. NMR unauffällig. Verdickung jedoch da ; nach und während des Laufen ( Sprint ) schlimmer. Re. Achillessehne : Verdickung im Bereich der Achillessehne ca. 3 cm proximal ; Re. Leiste : Druckschmerz am os pubis zum os ischii hin ; auch nach ventral am os pubis Die ICD - 10 - GM code, enstprechend diese Symptome, ist'},\n",
       " {'score': 0.008531000465154648,\n",
       "  'token': 5133,\n",
       "  'token_str': '[unused_punctuation5]',\n",
       "  'sequence': 'Beschwerden re. Achillessehne. NMR unauffällig. Verdickung jedoch da ; nach und während des Laufen ( Sprint ) schlimmer. Re. Achillessehne : Verdickung im Bereich der Achillessehne ca. 3 cm proximal ; Re. Leiste : Druckschmerz am os pubis zum os ischii hin ; auch nach ventral am os pubis Die ICD - 10 - GM code, enstprechend diese Symptome, ist [unused_punctuation5]'}]"
      ]
     },
     "execution_count": 4,
     "metadata": {},
     "output_type": "execute_result"
    }
   ],
   "source": [
    "from transformers import pipeline\n",
    "unmasker = pipeline('fill-mask', model='google-bert/bert-base-german-cased')\n",
    "unmasker(prompt)"
   ]
  },
  {
   "cell_type": "markdown",
   "metadata": {},
   "source": [
    "## Foreign fine-tuned BERT without architecture changes, no pre-trained tokenizer, default hyperparameters"
   ]
  },
  {
   "cell_type": "markdown",
   "metadata": {},
   "source": [
    "Uses masking and predicts the masked word"
   ]
  },
  {
   "cell_type": "code",
   "execution_count": 5,
   "metadata": {},
   "outputs": [
    {
     "data": {
      "text/plain": [
       "[{'score': 0.07274677604436874,\n",
       "  'token': 5309,\n",
       "  'token_str': 'da',\n",
       "  'sequence': 'Beschwerden re. Achillessehne. NMR unauffällig. Verdickung jedoch da ; nach und während des Laufen ( Sprint ) schlimmer. Re. Achillessehne : Verdickung im Bereich der Achillessehne ca. 3 cm proximal ; Re. Leiste : Druckschmerz am os pubis zum os ischii hin ; auch nach ventral am os pubis Die ICD - 10 - GM code, enstprechend diese Symptome, ist da'},\n",
       " {'score': 0.05531417578458786,\n",
       "  'token': 4825,\n",
       "  'token_str': 'nicht',\n",
       "  'sequence': 'Beschwerden re. Achillessehne. NMR unauffällig. Verdickung jedoch da ; nach und während des Laufen ( Sprint ) schlimmer. Re. Achillessehne : Verdickung im Bereich der Achillessehne ca. 3 cm proximal ; Re. Leiste : Druckschmerz am os pubis zum os ischii hin ; auch nach ventral am os pubis Die ICD - 10 - GM code, enstprechend diese Symptome, ist nicht'},\n",
       " {'score': 0.03201393783092499,\n",
       "  'token': 4698,\n",
       "  'token_str': 'in',\n",
       "  'sequence': 'Beschwerden re. Achillessehne. NMR unauffällig. Verdickung jedoch da ; nach und während des Laufen ( Sprint ) schlimmer. Re. Achillessehne : Verdickung im Bereich der Achillessehne ca. 3 cm proximal ; Re. Leiste : Druckschmerz am os pubis zum os ischii hin ; auch nach ventral am os pubis Die ICD - 10 - GM code, enstprechend diese Symptome, ist in'},\n",
       " {'score': 0.027008671313524246,\n",
       "  'token': 4704,\n",
       "  'token_str': 'die',\n",
       "  'sequence': 'Beschwerden re. Achillessehne. NMR unauffällig. Verdickung jedoch da ; nach und während des Laufen ( Sprint ) schlimmer. Re. Achillessehne : Verdickung im Bereich der Achillessehne ca. 3 cm proximal ; Re. Leiste : Druckschmerz am os pubis zum os ischii hin ; auch nach ventral am os pubis Die ICD - 10 - GM code, enstprechend diese Symptome, ist die'},\n",
       " {'score': 0.022639082744717598,\n",
       "  'token': 5532,\n",
       "  'token_str': 'noch',\n",
       "  'sequence': 'Beschwerden re. Achillessehne. NMR unauffällig. Verdickung jedoch da ; nach und während des Laufen ( Sprint ) schlimmer. Re. Achillessehne : Verdickung im Bereich der Achillessehne ca. 3 cm proximal ; Re. Leiste : Druckschmerz am os pubis zum os ischii hin ; auch nach ventral am os pubis Die ICD - 10 - GM code, enstprechend diese Symptome, ist noch'}]"
      ]
     },
     "execution_count": 5,
     "metadata": {},
     "output_type": "execute_result"
    }
   ],
   "source": [
    "unmasker = pipeline('fill-mask', model='GerMedBERT/medbert-512')\n",
    "unmasker(prompt)"
   ]
  },
  {
   "cell_type": "markdown",
   "metadata": {},
   "source": [
    "Hyperparameter optimization: https://colab.research.google.com/github/huggingface/notebooks/blob/main/examples/text_classification.ipynb#scrollTo=NboJ7kDOIrJq in line best_run = trainer.hyperparameter_search(n_trials=10, direction=\"maximize\")"
   ]
  },
  {
   "cell_type": "code",
   "execution_count": null,
   "metadata": {},
   "outputs": [],
   "source": [
    "## Fine-tuned BERT without architecture changes, no pre-trained tokenizer, default hyperparameters"
   ]
  }
 ],
 "metadata": {
  "kernelspec": {
   "display_name": "ba",
   "language": "python",
   "name": "python3"
  },
  "language_info": {
   "codemirror_mode": {
    "name": "ipython",
    "version": 3
   },
   "file_extension": ".py",
   "mimetype": "text/x-python",
   "name": "python",
   "nbconvert_exporter": "python",
   "pygments_lexer": "ipython3",
   "version": "3.12.3"
  }
 },
 "nbformat": 4,
 "nbformat_minor": 2
}
