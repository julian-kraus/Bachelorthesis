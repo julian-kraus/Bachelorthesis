{
 "cells": [
  {
   "cell_type": "code",
   "execution_count": 1,
   "metadata": {},
   "outputs": [],
   "source": [
    "import pandas as pd\n",
    "from sklearn.model_selection import train_test_split\n",
    "from sklearn.preprocessing import LabelEncoder\n",
    "\n",
    "# Load your data into a pandas DataFrame\n",
    "data = pd.read_csv('../../data/balanced_classification_dataset.csv')  # replace 'your_dataset.csv' with your actual file"
   ]
  },
  {
   "cell_type": "code",
   "execution_count": 2,
   "metadata": {},
   "outputs": [
    {
     "data": {
      "text/html": [
       "<div>\n",
       "<style scoped>\n",
       "    .dataframe tbody tr th:only-of-type {\n",
       "        vertical-align: middle;\n",
       "    }\n",
       "\n",
       "    .dataframe tbody tr th {\n",
       "        vertical-align: top;\n",
       "    }\n",
       "\n",
       "    .dataframe thead th {\n",
       "        text-align: right;\n",
       "    }\n",
       "</style>\n",
       "<table border=\"1\" class=\"dataframe\">\n",
       "  <thead>\n",
       "    <tr style=\"text-align: right;\">\n",
       "      <th></th>\n",
       "      <th>Unnamed: 0.1</th>\n",
       "      <th>Unnamed: 0</th>\n",
       "      <th>patientid</th>\n",
       "      <th>sex</th>\n",
       "      <th>age</th>\n",
       "      <th>ANA</th>\n",
       "      <th>EXA</th>\n",
       "      <th>DIA_text</th>\n",
       "      <th>DIA_code</th>\n",
       "      <th>OP_text</th>\n",
       "      <th>OP_code</th>\n",
       "      <th>label</th>\n",
       "      <th>text</th>\n",
       "    </tr>\n",
       "  </thead>\n",
       "  <tbody>\n",
       "    <tr>\n",
       "      <th>0</th>\n",
       "      <td>0</td>\n",
       "      <td>1</td>\n",
       "      <td>61.0</td>\n",
       "      <td>male</td>\n",
       "      <td>32.0</td>\n",
       "      <td>Beschwerden re. Achillessehne. NMR unauffällig...</td>\n",
       "      <td>Re. Achillessehne: Verdickung im Bereich der A...</td>\n",
       "      <td>Retropatellare Chondromalazie li; Insertionste...</td>\n",
       "      <td>M22.4</td>\n",
       "      <td>NaN</td>\n",
       "      <td>NaN</td>\n",
       "      <td>other</td>\n",
       "      <td>Beschwerden re. Achillessehne. NMR unauffällig...</td>\n",
       "    </tr>\n",
       "    <tr>\n",
       "      <th>1</th>\n",
       "      <td>1</td>\n",
       "      <td>2</td>\n",
       "      <td>67.0</td>\n",
       "      <td>male</td>\n",
       "      <td>41.0</td>\n",
       "      <td>Seit mehreren Monaten Beschwerden re. Achilles...</td>\n",
       "      <td>Re. Achillessehne: Deutliche Auftreibung der A...</td>\n",
       "      <td>V.a.laterale Chondromalazie bei st.n. Außenmen...</td>\n",
       "      <td>M23.3</td>\n",
       "      <td>NaN</td>\n",
       "      <td>NaN</td>\n",
       "      <td>meniskus_urgent</td>\n",
       "      <td>Seit mehreren Monaten Beschwerden re. Achilles...</td>\n",
       "    </tr>\n",
       "    <tr>\n",
       "      <th>2</th>\n",
       "      <td>2</td>\n",
       "      <td>6</td>\n",
       "      <td>72.0</td>\n",
       "      <td>male</td>\n",
       "      <td>19.0</td>\n",
       "      <td>. .Gestern beim Training stechende Schmerzen l...</td>\n",
       "      <td>Klinischer Befund des Oberschenkels li.deutl.V...</td>\n",
       "      <td>Z.n.arthroskopischer Chirurgie des Kniegelenkes.</td>\n",
       "      <td>M23.3</td>\n",
       "      <td>NaN</td>\n",
       "      <td>NaN</td>\n",
       "      <td>meniskus_urgent</td>\n",
       "      <td>. .Gestern beim Training stechende Schmerzen l...</td>\n",
       "    </tr>\n",
       "    <tr>\n",
       "      <th>3</th>\n",
       "      <td>3</td>\n",
       "      <td>7</td>\n",
       "      <td>72.0</td>\n",
       "      <td>male</td>\n",
       "      <td>23.0</td>\n",
       "      <td>beide Knie Schmerzen bei Treppe steigen oder L...</td>\n",
       "      <td>bd. Knie: frei Bewegl.; Patella o.B.; keine MZ...</td>\n",
       "      <td>Z.n.IM-Teilresektion re.</td>\n",
       "      <td>S83.2</td>\n",
       "      <td>NaN</td>\n",
       "      <td>NaN</td>\n",
       "      <td>meniskus_urgent</td>\n",
       "      <td>beide Knie Schmerzen bei Treppe steigen oder L...</td>\n",
       "    </tr>\n",
       "    <tr>\n",
       "      <th>4</th>\n",
       "      <td>4</td>\n",
       "      <td>9</td>\n",
       "      <td>84.0</td>\n",
       "      <td>male</td>\n",
       "      <td>57.0</td>\n",
       "      <td>(08.19 Uhr); bewegungsabhängig.Schmerzen wiede...</td>\n",
       "      <td>Klinischer Befund des Kniegelenks li.: Drucksc...</td>\n",
       "      <td>Beginnende Gonarthrose bds. li. mehr als re.</td>\n",
       "      <td>M17.9</td>\n",
       "      <td>NaN</td>\n",
       "      <td>NaN</td>\n",
       "      <td>other</td>\n",
       "      <td>(08.19 Uhr); bewegungsabhängig.Schmerzen wiede...</td>\n",
       "    </tr>\n",
       "  </tbody>\n",
       "</table>\n",
       "</div>"
      ],
      "text/plain": [
       "   Unnamed: 0.1  Unnamed: 0  patientid   sex   age  \\\n",
       "0             0           1       61.0  male  32.0   \n",
       "1             1           2       67.0  male  41.0   \n",
       "2             2           6       72.0  male  19.0   \n",
       "3             3           7       72.0  male  23.0   \n",
       "4             4           9       84.0  male  57.0   \n",
       "\n",
       "                                                 ANA  \\\n",
       "0  Beschwerden re. Achillessehne. NMR unauffällig...   \n",
       "1  Seit mehreren Monaten Beschwerden re. Achilles...   \n",
       "2  . .Gestern beim Training stechende Schmerzen l...   \n",
       "3  beide Knie Schmerzen bei Treppe steigen oder L...   \n",
       "4  (08.19 Uhr); bewegungsabhängig.Schmerzen wiede...   \n",
       "\n",
       "                                                 EXA  \\\n",
       "0  Re. Achillessehne: Verdickung im Bereich der A...   \n",
       "1  Re. Achillessehne: Deutliche Auftreibung der A...   \n",
       "2  Klinischer Befund des Oberschenkels li.deutl.V...   \n",
       "3  bd. Knie: frei Bewegl.; Patella o.B.; keine MZ...   \n",
       "4  Klinischer Befund des Kniegelenks li.: Drucksc...   \n",
       "\n",
       "                                            DIA_text DIA_code OP_text OP_code  \\\n",
       "0  Retropatellare Chondromalazie li; Insertionste...    M22.4     NaN     NaN   \n",
       "1  V.a.laterale Chondromalazie bei st.n. Außenmen...    M23.3     NaN     NaN   \n",
       "2   Z.n.arthroskopischer Chirurgie des Kniegelenkes.    M23.3     NaN     NaN   \n",
       "3                           Z.n.IM-Teilresektion re.    S83.2     NaN     NaN   \n",
       "4       Beginnende Gonarthrose bds. li. mehr als re.    M17.9     NaN     NaN   \n",
       "\n",
       "             label                                               text  \n",
       "0            other  Beschwerden re. Achillessehne. NMR unauffällig...  \n",
       "1  meniskus_urgent  Seit mehreren Monaten Beschwerden re. Achilles...  \n",
       "2  meniskus_urgent  . .Gestern beim Training stechende Schmerzen l...  \n",
       "3  meniskus_urgent  beide Knie Schmerzen bei Treppe steigen oder L...  \n",
       "4            other  (08.19 Uhr); bewegungsabhängig.Schmerzen wiede...  "
      ]
     },
     "execution_count": 2,
     "metadata": {},
     "output_type": "execute_result"
    }
   ],
   "source": [
    "data = data.rename(columns={'data': 'text'})\n",
    "data.head()"
   ]
  },
  {
   "cell_type": "code",
   "execution_count": 3,
   "metadata": {},
   "outputs": [],
   "source": [
    "# Assuming you have two columns: 'text' and 'label'\n",
    "texts = data['text'].values\n",
    "labels = data['label'].values\n",
    "\n",
    "# Encode the labels\n",
    "label_encoder = LabelEncoder()\n",
    "encoded_labels = label_encoder.fit_transform(labels)\n",
    "\n",
    "# Split the data into train and test sets\n",
    "train_texts, test_texts, train_labels, test_labels = train_test_split(\n",
    "    texts, encoded_labels, test_size=0.2, random_state=42\n",
    ")"
   ]
  },
  {
   "cell_type": "code",
   "execution_count": 4,
   "metadata": {},
   "outputs": [],
   "source": [
    "from transformers import BertTokenizer\n",
    "\n",
    "# Load BERT tokenizer\n",
    "tokenizer = BertTokenizer.from_pretrained(\"GerMedBERT/medbert-512\")\n",
    "\n",
    "# Tokenize the data\n",
    "train_encodings = tokenizer(train_texts.tolist(), truncation=True, padding='max_length', max_length=400)\n",
    "test_encodings = tokenizer(test_texts.tolist(), truncation=True, padding='max_length', max_length=400)"
   ]
  },
  {
   "cell_type": "code",
   "execution_count": 5,
   "metadata": {},
   "outputs": [
    {
     "name": "stderr",
     "output_type": "stream",
     "text": [
      "2024-07-22 16:46:51.052147: I metal_plugin/src/device/metal_device.cc:1154] Metal device set to: Apple M3 Max\n",
      "2024-07-22 16:46:51.052173: I metal_plugin/src/device/metal_device.cc:296] systemMemory: 64.00 GB\n",
      "2024-07-22 16:46:51.052177: I metal_plugin/src/device/metal_device.cc:313] maxCacheSize: 24.00 GB\n",
      "2024-07-22 16:46:51.052189: I tensorflow/core/common_runtime/pluggable_device/pluggable_device_factory.cc:305] Could not identify NUMA node of platform GPU ID 0, defaulting to 0. Your kernel may not have been built with NUMA support.\n",
      "2024-07-22 16:46:51.052199: I tensorflow/core/common_runtime/pluggable_device/pluggable_device_factory.cc:271] Created TensorFlow device (/job:localhost/replica:0/task:0/device:GPU:0 with 0 MB memory) -> physical PluggableDevice (device: 0, name: METAL, pci bus id: <undefined>)\n"
     ]
    }
   ],
   "source": [
    "import tensorflow as tf\n",
    "\n",
    "def create_dataset(encodings, labels):\n",
    "    dataset = tf.data.Dataset.from_tensor_slices((\n",
    "        dict(encodings),\n",
    "        labels\n",
    "    ))\n",
    "    return dataset\n",
    "\n",
    "train_dataset = create_dataset(train_encodings, train_labels)\n",
    "test_dataset = create_dataset(test_encodings, test_labels)"
   ]
  },
  {
   "cell_type": "code",
   "execution_count": 6,
   "metadata": {},
   "outputs": [
    {
     "name": "stderr",
     "output_type": "stream",
     "text": [
      "Some weights of the PyTorch model were not used when initializing the TF 2.0 model TFBertForSequenceClassification: ['bert.embeddings.position_ids']\n",
      "- This IS expected if you are initializing TFBertForSequenceClassification from a PyTorch model trained on another task or with another architecture (e.g. initializing a TFBertForSequenceClassification model from a BertForPreTraining model).\n",
      "- This IS NOT expected if you are initializing TFBertForSequenceClassification from a PyTorch model that you expect to be exactly identical (e.g. initializing a TFBertForSequenceClassification model from a BertForSequenceClassification model).\n",
      "Some weights or buffers of the TF 2.0 model TFBertForSequenceClassification were not initialized from the PyTorch model and are newly initialized: ['bert.pooler.dense.weight', 'bert.pooler.dense.bias', 'classifier.weight', 'classifier.bias']\n",
      "You should probably TRAIN this model on a down-stream task to be able to use it for predictions and inference.\n"
     ]
    }
   ],
   "source": [
    "from transformers import TFBertForSequenceClassification\n",
    "\n",
    "# Load the BERT model for sequence classification with the number of output labels\n",
    "model = TFBertForSequenceClassification.from_pretrained(\"GerMedBERT/medbert-512\", num_labels=len(label_encoder.classes_))"
   ]
  },
  {
   "cell_type": "code",
   "execution_count": 7,
   "metadata": {},
   "outputs": [],
   "source": [
    "# Compile the model\n",
    "model.compile(\n",
    "    optimizer=tf.keras.optimizers.legacy.Adam(learning_rate=3e-5),\n",
    "    loss=tf.keras.losses.SparseCategoricalCrossentropy(from_logits=True),\n",
    "    metrics=['accuracy']\n",
    ")"
   ]
  },
  {
   "cell_type": "code",
   "execution_count": 8,
   "metadata": {},
   "outputs": [
    {
     "name": "stdout",
     "output_type": "stream",
     "text": [
      "Epoch 1/3\n"
     ]
    },
    {
     "name": "stderr",
     "output_type": "stream",
     "text": [
      "2024-07-22 16:47:19.874451: I tensorflow/core/grappler/optimizers/custom_graph_optimizer_registry.cc:117] Plugin optimizer for device_type GPU is enabled.\n"
     ]
    },
    {
     "name": "stdout",
     "output_type": "stream",
     "text": [
      "566/566 [==============================] - 2800s 5s/step - loss: 1.0431 - accuracy: 0.5825\n",
      "Epoch 2/3\n",
      "566/566 [==============================] - 2656s 5s/step - loss: 0.9261 - accuracy: 0.6447\n",
      "Epoch 3/3\n",
      "566/566 [==============================] - 2690s 5s/step - loss: 0.8656 - accuracy: 0.6707\n"
     ]
    },
    {
     "data": {
      "text/plain": [
       "<tf_keras.src.callbacks.History at 0x3d020caf0>"
      ]
     },
     "execution_count": 8,
     "metadata": {},
     "output_type": "execute_result"
    }
   ],
   "source": [
    "# Train the model\n",
    "# f1_2 with 128\n",
    "# f1 was with 64\n",
    "# just bert with 32\n",
    "model.fit(train_dataset.shuffle(1000).batch(64),\n",
    "          epochs=3,\n",
    "          batch_size=32)\n"
   ]
  },
  {
   "cell_type": "code",
   "execution_count": 9,
   "metadata": {},
   "outputs": [
    {
     "name": "stdout",
     "output_type": "stream",
     "text": [
      "283/283 [==============================] - 172s 599ms/step - loss: 0.9826 - accuracy: 0.6240\n",
      "Loss: 0.982631266117096\n",
      "Accuracy: 0.6239504814147949\n"
     ]
    }
   ],
   "source": [
    "# Evaluate the model\n",
    "loss, accuracy = model.evaluate(test_dataset.batch(32))\n",
    "print(f'Loss: {loss}')\n",
    "print(f'Accuracy: {accuracy}')"
   ]
  },
  {
   "cell_type": "code",
   "execution_count": 10,
   "metadata": {},
   "outputs": [
    {
     "name": "stdout",
     "output_type": "stream",
     "text": [
      "283/283 [==============================] - 177s 618ms/step\n"
     ]
    }
   ],
   "source": [
    "import numpy as np\n",
    "predictions = model.predict(test_dataset.batch(32))\n",
    "predicted_labels = np.argmax(predictions.logits, axis=-1)\n",
    "\n",
    "# Decode class labels to original labels\n",
    "decoded_predictions = label_encoder.inverse_transform(predicted_labels)\n",
    "\n",
    "# True labels from the test set\n",
    "true_labels = label_encoder.inverse_transform(test_labels)\n",
    "\n",
    "# Create a DataFrame to compare\n",
    "comparison_df = pd.DataFrame({'Text': test_texts, 'True Label': true_labels, 'Predicted Label': decoded_predictions})"
   ]
  },
  {
   "cell_type": "code",
   "execution_count": 11,
   "metadata": {},
   "outputs": [
    {
     "data": {
      "image/png": "[encoded data removed]",
      "text/plain": [
       "<Figure size 500x400 with 2 Axes>"
      ]
     },
     "metadata": {},
     "output_type": "display_data"
    }
   ],
   "source": [
    "from sklearn.metrics import confusion_matrix\n",
    "import matplotlib.pyplot as plt\n",
    "import seaborn as sns\n",
    "\n",
    "cm = confusion_matrix(true_labels, decoded_predictions, labels=label_encoder.classes_)\n",
    "\n",
    "# Plot the confusion matrix\n",
    "plt.figure(figsize=(5, 4))\n",
    "sns.heatmap(cm, annot=True, fmt='d', cmap='Blues', xticklabels=label_encoder.classes_, yticklabels=label_encoder.classes_)\n",
    "plt.xlabel('Predicted Labels')\n",
    "plt.ylabel('True Labels')\n",
    "plt.title('Confusion Matrix')\n",
    "plt.show()"
   ]
  },
  {
   "cell_type": "code",
   "execution_count": 12,
   "metadata": {},
   "outputs": [
    {
     "name": "stdout",
     "output_type": "stream",
     "text": [
      "                 precision    recall  f1-score   support\n",
      "\n",
      "   cruciate_low       1.00      0.06      0.11        85\n",
      "cruciate_urgent       0.52      0.77      0.62      1296\n",
      "   meniskus_low       0.54      0.05      0.10       492\n",
      "meniskus_urgent       0.66      0.72      0.69      3618\n",
      "          other       0.66      0.59      0.62      3237\n",
      "   other_urgent       0.41      0.30      0.34       324\n",
      "\n",
      "       accuracy                           0.62      9052\n",
      "      macro avg       0.63      0.42      0.41      9052\n",
      "   weighted avg       0.63      0.62      0.61      9052\n",
      "\n"
     ]
    }
   ],
   "source": [
    "from sklearn.metrics import classification_report\n",
    "print(classification_report(true_labels, decoded_predictions, target_names=label_encoder.classes_))"
   ]
  },
  {
   "cell_type": "code",
   "execution_count": 13,
   "metadata": {},
   "outputs": [
    {
     "data": {
      "text/plain": [
       "('german_bert_classify_tokenizer_f1_2/tokenizer_config.json',\n",
       " 'german_bert_classify_tokenizer_f1_2/special_tokens_map.json',\n",
       " 'german_bert_classify_tokenizer_f1_2/vocab.txt',\n",
       " 'german_bert_classify_tokenizer_f1_2/added_tokens.json')"
      ]
     },
     "execution_count": 13,
     "metadata": {},
     "output_type": "execute_result"
    }
   ],
   "source": [
    "model.save_pretrained('german_bert_classify_model_f1_2')  # replace with your desired path\n",
    "tokenizer.save_pretrained('german_bert_classify_tokenizer_f1_2')  # replace with your desired path"
   ]
  }
 ],
 "metadata": {
  "kernelspec": {
   "display_name": "tf2",
   "language": "python",
   "name": "python3"
  },
  "language_info": {
   "codemirror_mode": {
    "name": "ipython",
    "version": 3
   },
   "file_extension": ".py",
   "mimetype": "text/x-python",
   "name": "python",
   "nbconvert_exporter": "python",
   "pygments_lexer": "ipython3",
   "version": "3.10.13"
  }
 },
 "nbformat": 4,
 "nbformat_minor": 2
}
