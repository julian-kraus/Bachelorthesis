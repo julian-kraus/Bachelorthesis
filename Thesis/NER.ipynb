{
 "cells": [
  {
   "metadata": {
    "ExecuteTime": {
     "end_time": "2024-06-04T07:53:55.483770Z",
     "start_time": "2024-06-04T07:53:55.479331Z"
    }
   },
   "cell_type": "code",
   "source": "import IO",
   "id": "afb1ef50f8953f68",
   "outputs": [],
   "execution_count": 13
  },
  {
   "metadata": {
    "ExecuteTime": {
     "end_time": "2024-06-04T07:53:55.488805Z",
     "start_time": "2024-06-04T07:53:55.486191Z"
    }
   },
   "cell_type": "code",
   "source": [
    "from transformers import MarianMTModel, MarianTokenizer\n",
    "def translate_column(column):\n",
    "     return column.apply(translate)\n",
    "\n",
    "def translate(text):\n",
    "    # Load the MarianMT model and tokenizer for German to English translation\n",
    "    model_name = 'Helsinki-NLP/opus-mt-de-en'\n",
    "    tokenizer = MarianTokenizer.from_pretrained(model_name)\n",
    "    model = MarianMTModel.from_pretrained(model_name)\n",
    "    \n",
    "    inputs = tokenizer(text, return_tensors=\"pt\", padding=True)\n",
    "    translated = model.generate(**inputs)\n",
    "    translated_text = tokenizer.batch_decode(translated, skip_special_tokens=True)[0]\n",
    "    return translated_text\n",
    "    \n"
   ],
   "id": "initial_id",
   "outputs": [],
   "execution_count": 14
  },
  {
   "metadata": {
    "ExecuteTime": {
     "end_time": "2024-06-04T07:53:55.491474Z",
     "start_time": "2024-06-04T07:53:55.489481Z"
    }
   },
   "cell_type": "code",
   "source": [
    "import spacy\n",
    "def extract_entities(text):\n",
    "    # Load the SciSpacy model\n",
    "    nlp = spacy.load(\"en_core_sci_md\")\n",
    "    doc = nlp(text)\n",
    "    print(doc)\n",
    "    entities = [(ent.text, ent.label_) for ent in doc.ents]\n",
    "    return entities"
   ],
   "id": "5c37a97188f9ebda",
   "outputs": [],
   "execution_count": 15
  },
  {
   "metadata": {
    "ExecuteTime": {
     "end_time": "2024-06-04T07:53:56.802516Z",
     "start_time": "2024-06-04T07:53:55.493113Z"
    }
   },
   "cell_type": "code",
   "source": [
    "from transformers import AutoTokenizer, AutoModelForTokenClassification\n",
    "from transformers import pipeline\n",
    "from transformers.generation import TFGenerationMixin\n",
    "import tensorflow\n",
    "\n",
    "def extract_entitiesBert(text):\n",
    "    # Load the tokenizer and model\n",
    "    tokenizer = AutoTokenizer.from_pretrained(\"Clinical-AI-Apollo/Medical-NER\")\n",
    "    model = AutoModelForTokenClassification.from_pretrained(\"Clinical-AI-Apollo/Medical-NER\")\n",
    "\n",
    "    # Create a pipeline for NER\n",
    "    nlp = pipeline(\"ner\", model=model, tokenizer=tokenizer, aggregation_strategy=\"none\")\n",
    "\n",
    "    # Get the entities\n",
    "    entities = nlp(text)\n",
    "\n",
    "    # Initialize variables to store results\n",
    "    processed_entities = []\n",
    "    current_entity = \"\"\n",
    "    current_label = \"\"\n",
    "\n",
    "    for entity in entities:\n",
    "        word = entity['word'].replace('▁', '').replace('##', '')\n",
    "        label = entity['entity']\n",
    "\n",
    "        # Check if the current label is part of a new entity or a continuation\n",
    "        if \"NONBIOLOGICAL_LOCATION\" in label:\n",
    "            continue\n",
    "        if label.startswith(\"B-\"):\n",
    "            # Append the previous entity to the result list if it exists\n",
    "            if current_entity:\n",
    "                processed_entities.append(current_entity.strip())\n",
    "            # Start a new entity\n",
    "            current_entity = word\n",
    "            current_label = label\n",
    "        elif label.startswith(\"I-\") and current_label[2:] == label[2:]:\n",
    "            # Continue the current entity\n",
    "            current_entity += \" \" + word\n",
    "        else:\n",
    "            # Append the previous entity to the result list if it exists and reset\n",
    "            if current_entity:\n",
    "                processed_entities.append(current_entity.strip())\n",
    "            current_entity = word\n",
    "            current_label = label\n",
    "\n",
    "    # Append the last entity if it exists\n",
    "    if current_entity:\n",
    "        processed_entities.append(current_entity.strip())\n",
    "\n",
    "    return processed_entities\n",
    "\n",
    "# Example usage:\n",
    "text = \"Aspirin is a medication used to reduce pain, fever, or inflammation.\"\n",
    "entities = extract_entitiesBert(text)\n",
    "print(entities)\n",
    "\n",
    "\n"
   ],
   "id": "28b08de3bbb2ed19",
   "outputs": [
    {
     "name": "stderr",
     "output_type": "stream",
     "text": [
      "Asking to truncate to max_length but no maximum length is provided and the model has no predefined maximum length. Default to no truncation.\n"
     ]
    },
    {
     "name": "stdout",
     "output_type": "stream",
     "text": [
      "['pain', 'fever', 'inflammation']\n"
     ]
    }
   ],
   "execution_count": 16
  },
  {
   "metadata": {
    "ExecuteTime": {
     "end_time": "2024-06-04T07:53:57.446788Z",
     "start_time": "2024-06-04T07:53:56.803789Z"
    }
   },
   "cell_type": "code",
   "source": [
    "text = \"Aspirin is a medication used to reduce pain, fever, or inflammation.\"\n",
    "tokenizer = AutoTokenizer.from_pretrained(\"Clinical-AI-Apollo/Medical-NER\")\n",
    "model = AutoModelForTokenClassification.from_pretrained(\"Clinical-AI-Apollo/Medical-NER\")\n",
    "\n",
    "# Create a pipeline for NER\n",
    "nlp = pipeline(\"ner\", model=model, tokenizer=tokenizer)\n",
    "\n",
    "# Get the entities\n",
    "nlp(text)"
   ],
   "id": "4c39898e7969b466",
   "outputs": [
    {
     "name": "stderr",
     "output_type": "stream",
     "text": [
      "Asking to truncate to max_length but no maximum length is provided and the model has no predefined maximum length. Default to no truncation.\n"
     ]
    },
    {
     "data": {
      "text/plain": [
       "[{'entity': 'B-SIGN_SYMPTOM',\n",
       "  'score': 0.25873363,\n",
       "  'index': 8,\n",
       "  'word': '▁pain',\n",
       "  'start': 38,\n",
       "  'end': 43},\n",
       " {'entity': 'B-SIGN_SYMPTOM',\n",
       "  'score': 0.31540182,\n",
       "  'index': 10,\n",
       "  'word': '▁fever',\n",
       "  'start': 44,\n",
       "  'end': 50},\n",
       " {'entity': 'B-SIGN_SYMPTOM',\n",
       "  'score': 0.25196818,\n",
       "  'index': 13,\n",
       "  'word': '▁inflammation',\n",
       "  'start': 54,\n",
       "  'end': 67}]"
      ]
     },
     "execution_count": 17,
     "metadata": {},
     "output_type": "execute_result"
    }
   ],
   "execution_count": 17
  },
  {
   "metadata": {
    "ExecuteTime": {
     "end_time": "2024-06-04T07:55:19.216126Z",
     "start_time": "2024-06-04T07:54:57.045515Z"
    }
   },
   "cell_type": "code",
   "source": [
    "german_text = IO.load(\"../data/patients++.csv\")['Anamnese + Befund Whole Text']\n",
    "translated_text = [translate(text) for text in german_text]\n",
    "entities = [extract_entitiesBert(text) for text in translated_text]"
   ],
   "id": "f91360af48f2ffa5",
   "outputs": [
    {
     "name": "stderr",
     "output_type": "stream",
     "text": [
      "/Users/juliankraus/Library/CloudStorage/OneDrive-Personal/Uni/Semester 8/Bachelorarbeit/Repo/Bachelorthesis/DataParsing/.venv/lib/python3.9/site-packages/transformers/models/marian/tokenization_marian.py:175: UserWarning: Recommended: pip install sacremoses.\n",
      "  warnings.warn(\"Recommended: pip install sacremoses.\")\n",
      "Asking to truncate to max_length but no maximum length is provided and the model has no predefined maximum length. Default to no truncation.\n",
      "Asking to truncate to max_length but no maximum length is provided and the model has no predefined maximum length. Default to no truncation.\n",
      "Asking to truncate to max_length but no maximum length is provided and the model has no predefined maximum length. Default to no truncation.\n",
      "Asking to truncate to max_length but no maximum length is provided and the model has no predefined maximum length. Default to no truncation.\n",
      "Asking to truncate to max_length but no maximum length is provided and the model has no predefined maximum length. Default to no truncation.\n"
     ]
    }
   ],
   "execution_count": 21
  },
  {
   "metadata": {
    "ExecuteTime": {
     "end_time": "2024-06-04T07:55:19.220171Z",
     "start_time": "2024-06-04T07:55:19.217504Z"
    }
   },
   "cell_type": "code",
   "source": [
    "for i in range(0, len(german_text)):\n",
    "    print(german_text.iloc[i])\n",
    "    print(translated_text[i])\n",
    "    print(entities[i])"
   ],
   "id": "4f88da6c461a73bb",
   "outputs": [
    {
     "name": "stdout",
     "output_type": "stream",
     "text": [
      "Vor 1 Monate Nachts plötzliche Kniegelenksblockade linkes Kniegelenk. Vorstellung im Krankenhaus Gummersbach. Im Verlauf Vorstellung im Krankenhaus Engelskirchen mit Röntgen und Frakturausschluss. Vor 3 Jahren Voroperation im KH-Engelskirchen. Als Kind schon rezdivierende Blockadeereignisse. Das linke Knie kann eingeschränkt ausgestreckt und schwer gebeugt werden. Es gibt keine Flüssigkeitsansammlung im Knie. Es gibt deutliche Schmerzen außen seitlich beim Druck.\n",
      "1 months ago sudden knee joint blockage left knee joint. Presentation at the hospital Gummersbach. In the course of presentation at the hospital Engelskirchen with X-ray and fracture exclusion. 3 years ago pre-operation in KH-Engelskirchen. As a child already recurrent blockade events. The left knee can be stretched out and severely bent. There is no accumulation of fluid in the knee. There is clear pain outside at the pressure.\n",
      "['1 months ago', 'sudden', 'knee joint', 'blockage', 'left knee joint', 'Presentation', 'presentation', 'X - ray', 'fracture', '3 years ago', 'operation', 'recurrent', 'blockade', 'left knee', 'stretched out', 'severely bent', 'accumulation of fluid', 'knee', 'pain', 'outside', 'pressure']\n",
      "am 26.10.22 beim Fußball mit dem Stollenschuh im Rasen hängen geblieben uns das rechte Knie verdreht, ohne Gegnerkontakt. Bewegungseinschränkung. Vorstellung im Mutterkrankenhaus in Trier. Hier Röntgenaufnahme. Vorstellung bei Dr. Krapf, Überweisung zum MRT. aktuell: weiterhin Streckfefizit. Das rechte Knie kann eingeschränkter ausgestreckt und gut gebeugt werden. Keine Flüssigkeitsansammlung im Knie. Es gibt deutliche Schmerzen beim Druck auf der inneren Seite.\n",
      "On 26.10.22 in football with the stud shoe in the lawn the right knee remained twisted, without contact with the opponent. Restriction of movement. Presentation at the mother hospital in Trier. Here X-ray shot. Presentation at Dr. Krapf, transfer to the MRI. current: continue stretch-feficit. The right knee can be stretched out more restricted and well bent. No accumulation of fluid in the knee. There is clear pain in the pressure on the inner side.\n",
      "['26 . 10 . 22', 'football with the stud shoe in the lawn', 'right knee', 'twisted', 'without contact with the opponent', 'Restriction of movement', 'Presentation', 'X - ray', 'Presentation', 'transfer', 'MRI', 'stretch', '-', 'fe fici t', 'right knee', 'stretched', 'restricted', 'well bent', 'accumulation fluid', 'knee', 'pain', 'pressure', 'inner side']\n",
      "Am 04.01.2024 im Schneidersitz gesessen. Dabei knacken und nachfolgende Streckhemmung. Vorstellung im Krankenhaus mit Röntgen und Frakturausschluss. Am Montag MRT Diagnostik mit Diagnose eines Außenmeniskusrisses. Seit ca. 2 Jahren immer wieder leichtere Blockaden, die durch Strecken wieder gelöst werden konnten. Das rechte Knie kann eingeschränkt ausgestreckt und nicht so gut gebeugt werden. Es gibt deutliche Schmerzen beim Druck auf der Außenseite.\n",
      "On 04.01.2024 sat in the tailor's seat. Crack and subsequent stretching inhibition. Presentation in the hospital with X-ray and fracture exclusion. On Monday MRI diagnostics with diagnosis of an external meniscus crack. For about 2 years again and again lighter blockades, which could be solved by distances. The right knee can be stretched out restricted and not bent so well. There is clear pain in the pressure on the outside.\n",
      "['04 . 01 . 2024', 'sat', \"'\", 'Crack', 'stretching inhibition', 'Presentation', 'X - ray', 'fracture', 'Monday', 'MRI', 'external meniscus', 'crack', 'about 2 years', 'blockade s', 'right knee', 'restricted bent so well', 'pain', 'outside']\n",
      "10.03.24 beim Schießen beim Fußballspiel ein Knacken und einschießende Schmerzen im linken Knie bemerkt. Unmittelbar anschließend starke Schwellung und Blockadegefühl, dieses sei jedoch nun rückläufig.Keine Voroperationen am Kniegelenk. AKtuell ohne UAG unterwegs. Arbeitsfähig (Home Office als ITler).Ziel: Rückkehr Fußball. Geht flüssig. Linkes Knie ist mit guter Ausstreckung und eher gute Beugung. Es gibt eine leichte Schwellung im Knie. Es gibt jedoch einen deutlichen Schmerz, wenn Druck auf die innere Seite des Kniegelenks ausgeübt wird.\n",
      "10.03.24 when shooting a football game a cracking and shooting pain in the left knee is noticed. Immediately afterwards strong swelling and blocking feeling, however, this is now declining. No pre-operations on the knee joint. Workable without UAG. Aim: return football. Goes fluid. Left knee is with good stretching and rather good bending. There is a slight swelling in the knee. However, there is a clear pain when pressure is exerted on the inner side of the knee joint.\n",
      "['10 . 03 . 24', 'game', 'cracking shooting', 'pain', 'left knee', 'Immediately afterwards', 'strong', 'swelling', 'blocking feeling', 'operation s', 'knee joint', 'U AG', 'football', 'fluid', 'Left knee', 'good stretching', 'rather good bending', 'slight', 'swelling', 'knee', 'pain', 'inner side of the knee joint']\n",
      "11.03. beim Luftzweikampf beim Fußball auf dem Boden aufgekommen mit Wegknicktrauma rechtes Knie. Innenseitiger Schmerz mit Blockadegefühl. Seit 4 wochen intermittierende Schmerzen im re Kniegelenk. Pat ist Neurologe aus Essen Sport Fussball. Hinkt beim Gehen. Das rechte Knie kann vollständig gestreckt und semi-gut gebeugt werden. Es gibt leichte Schwellung im Knie. Es gibt Schmerzen, wenn Druck auf die innere Seite des Kniegelenks ausgeübt wird.\n",
      "11.03. during the air fight during football on the ground with a straight knee. Inside pain with a feeling of blockage. Since 4 weeks intermittent pain in the re knee joint. Pat is neurologist from Essen Sport Football. Hinges while walking. The right knee can be fully stretched and semi-well bent. There is slight swelling in the knee. There is pain when pressure is exerted on the inner side of the knee joint.\n",
      "['11 . 03', 'air fight football on the ground', 'straight knee', 'Inside', 'pain', 'blockage', '4 weeks', 'intermittent', 'pain', 'knee joint', 'Hinge s walking', 'right knee', 'fully stretched', 'semi - well bent', 'swelling', 'knee', 'pain', 'inner side of knee joint']\n"
     ]
    }
   ],
   "execution_count": 22
  },
  {
   "metadata": {
    "ExecuteTime": {
     "end_time": "2024-06-04T07:54:11.425992Z",
     "start_time": "2024-06-04T07:54:11.424471Z"
    }
   },
   "cell_type": "code",
   "source": "",
   "id": "951a7d04aeed36",
   "outputs": [],
   "execution_count": 20
  }
 ],
 "metadata": {
  "kernelspec": {
   "display_name": "Python 3",
   "language": "python",
   "name": "python3"
  },
  "language_info": {
   "codemirror_mode": {
    "name": "ipython",
    "version": 2
   },
   "file_extension": ".py",
   "mimetype": "text/x-python",
   "name": "python",
   "nbconvert_exporter": "python",
   "pygments_lexer": "ipython2",
   "version": "2.7.6"
  }
 },
 "nbformat": 4,
 "nbformat_minor": 5
}
