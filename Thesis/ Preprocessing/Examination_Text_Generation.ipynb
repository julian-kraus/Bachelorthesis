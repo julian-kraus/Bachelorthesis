{
 "cells": [
  {
   "cell_type": "code",
   "id": "c66b4c333e83752d",
   "metadata": {},
   "source": [
    "import pandas as pd\n",
    "from transformers import AutoTokenizer, AutoModelForCausalLM, pipeline\n",
    "import IO"
   ],
   "outputs": [],
   "execution_count": null
  },
  {
   "cell_type": "code",
   "id": "87abcf4eb68ed9ac",
   "metadata": {},
   "source": [
    "df = IO.load_excel(\"./data/formatted_examinations.xlsx\").dropna()\n",
    "df.head()"
   ],
   "outputs": [],
   "execution_count": null
  },
  {
   "metadata": {},
   "cell_type": "code",
   "source": [
    "# Load the Mistral model and tokenizer from Hugging Face\n",
    "model_name = \"jphme/em_german_leo_mistral\"\n",
    "tokenizer = AutoTokenizer.from_pretrained(model_name)\n",
    "model = AutoModelForCausalLM.from_pretrained(model_name)\n",
    "\n",
    "# Create a text generation pipeline\n",
    "text_generation_pipeline = pipeline(\"text-generation\", model=model, tokenizer=tokenizer, device=0, return_full_text=False)"
   ],
   "id": "1f0dd5f33b37743a",
   "outputs": [],
   "execution_count": null
  },
  {
   "metadata": {},
   "cell_type": "code",
   "source": "val = 194\n",
   "id": "93c6736b216cf5f9",
   "outputs": [],
   "execution_count": null
  },
  {
   "cell_type": "code",
   "id": "initial_id",
   "metadata": {},
   "source": [
    "few_shot_examples = [\n",
    "    (\"links knie diskr erguss, kein anteromedialer druckschmerz med äußerechts Seite des Kniegelenks, kein druckschmerz kniescheiben, keine meniskuszeichen rechts knie kein erguss, druckschmerz seitlich kniescheibe\", \n",
    "     \"Das linke Knie hat keinen Erguss, und es gibt keine Schmerzen beim Drücken auf der äußerechts Seite des Kniegelenks und Kniescheibe. Das rechte Knie hat auch keinen Erguss, aber an der Seite der Kniescheibe, gibt es Schmerzen beim Drücken.\"),\n",
    "    (\"rechts knie deutlicher erguss, keine überstreckung des knies, streckdefizit des knies, angemessene beugung des knies, keine rötung\", \n",
    "     \"Das rechte Knie hat einen deutlichen Erguss, es ist nicht möglich das Knie zu überstrecken und auch nicht es komplett zu strecken. Die Beugung des Knies ist nur angemessen möglich. Das Knie ist nicht gerötet.\"),\n",
    "]\n",
    "# Construct the few-shot prompt\n",
    "instruction = \"Du bist ein Patient, formuliere die Beschreibung deiner Symptome aus.\"\n",
    "few_shot_prompt = f\"{instruction}\\n\\n\" + \"\\n\\n\".join([f\"USER: {inp}\\nASSISTANT: {out}\" for inp, out in few_shot_examples])\n",
    "for idx, row in df[val:].iterrows():\n",
    "    print(val)\n",
    "    # Combine the text and instruction\n",
    "    prompt = f\"{few_shot_prompt}\\n\\nUSER: {row['Formatted']} \\n ASSISTANT:\"\n",
    "    # Generate the output\n",
    "    generated_text = text_generation_pipeline(prompt, max_new_tokens=100)[0]['generated_text']\n",
    "    output_text = generated_text\n",
    "    \n",
    "    df.at[idx, 'generated_text'] = output_text\n",
    "    df.to_excel(\"./data/generated_examinations.xlsx\", index=False)\n",
    "    val += 1"
   ],
   "outputs": [],
   "execution_count": null
  },
  {
   "metadata": {},
   "cell_type": "code",
   "source": "df['generated_text'].head()",
   "id": "74515edf5e932e73",
   "outputs": [],
   "execution_count": null
  },
  {
   "metadata": {
    "ExecuteTime": {
     "end_time": "2024-06-19T17:51:20.923440Z",
     "start_time": "2024-06-19T17:51:20.921393Z"
    }
   },
   "cell_type": "code",
   "source": "val = \"\"\"flüssiges Gangbild unter Vollbelastung, linkes Knie rom keine Hyperextension des Knies kein Extensionsdefizit des Knies gute Flexion des Knies, Gegenseite Hyperextension des Knies möglich kein Extensionsdefizit des Knies gute Flexion des Knies, diskreter Erguss\"\"\"",
   "id": "6cc9b731d5ce1c1d",
   "outputs": [],
   "execution_count": 15
  },
  {
   "metadata": {
    "ExecuteTime": {
     "end_time": "2024-06-19T17:52:13.992271Z",
     "start_time": "2024-06-19T17:51:56.538176Z"
    }
   },
   "cell_type": "code",
   "source": [
    "prompt = f\"{few_shot_prompt}\\n\\nUSER: {val} \\n ASSISTANT:\"\n",
    "# Generate the output\n",
    "generated_text = text_generation_pipeline(prompt, max_new_tokens=200)[0]['generated_text']\n",
    "print(generated_text)"
   ],
   "id": "1f9884bd77d9f008",
   "outputs": [
    {
     "name": "stderr",
     "output_type": "stream",
     "text": [
      "Setting `pad_token_id` to `eos_token_id`:2 for open-end generation.\n"
     ]
    },
    {
     "name": "stdout",
     "output_type": "stream",
     "text": [
      " Unter Vollbelastung zeigt sich ein flüssiges Gangbild. Das linke Knie kann nicht gebeugt werden (Hyperextension), es gibt kein Defizit in der Streckung des Knies. Die Beugung des Knies ist gut möglich. Das rechte Knie kann gebeugt werden (Hyperextension), es gibt kein Defizit in der Streckung des Knies. Die Beugung des Knies ist gut möglich. Es gibt einen diskreten Erguss im linken Knie.\n"
     ]
    }
   ],
   "execution_count": 17
  },
  {
   "metadata": {},
   "cell_type": "code",
   "outputs": [],
   "execution_count": null,
   "source": "",
   "id": "bc8abfe7bf7deac8"
  }
 ],
 "metadata": {
  "kernelspec": {
   "display_name": "Python 3 (ipykernel)",
   "language": "python",
   "name": "python3"
  },
  "language_info": {
   "codemirror_mode": {
    "name": "ipython",
    "version": 3
   },
   "file_extension": ".py",
   "mimetype": "text/x-python",
   "name": "python",
   "nbconvert_exporter": "python",
   "pygments_lexer": "ipython3",
   "version": "3.9.6"
  }
 },
 "nbformat": 4,
 "nbformat_minor": 5
}
