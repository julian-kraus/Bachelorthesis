{
 "cells": [
  {
   "cell_type": "code",
   "execution_count": 1,
   "metadata": {},
   "outputs": [
    {
     "name": "stdout",
     "output_type": "stream",
     "text": [
      "GPU is available\n"
     ]
    }
   ],
   "source": [
    "import os\n",
    "import pandas as pd\n",
    "import tensorflow as tf\n",
    "import os\n",
    "import pandas as pd\n",
    "from sklearn.model_selection import train_test_split\n",
    "from tensorflow.keras.optimizers import Adam\n",
    "import numpy as np\n",
    "from sklearn.preprocessing import OneHotEncoder\n",
    "from sklearn.utils.class_weight import compute_class_weight\n",
    "import matplotlib.pyplot as plt\n",
    "from tensorflow.keras.layers import Input, Embedding, LSTM, Dense, Dropout, Bidirectional, Conv1D, GlobalMaxPooling1D, Concatenate, AdditiveAttention\n",
    "from tensorflow.keras.models import Model\n",
    "from tensorflow.keras.preprocessing.sequence import pad_sequences\n",
    "from tensorflow.keras.preprocessing.text import Tokenizer\n",
    "from tensorflow.keras.utils import to_categorical\n",
    "from tensorflow.keras.callbacks import EarlyStopping\n",
    "from tensorflow.keras.layers import AdditiveAttention\n",
    "from tensorflow.keras.utils import to_categorical\n",
    "from sklearn.preprocessing import LabelEncoder\n",
    "import tensorflow as tf\n",
    "from utils import eval, eval_training, get_train_test_data, save_for_evaluation, process_train_test_data\n",
    "import re\n",
    "import numpy as np\n",
    "import spacy\n",
    "from gensim.models import Word2Vec\n",
    "from transformers import BertTokenizer, TFBertModel\n",
    "\n",
    "\n",
    "os.environ['TF_NUM_INTEROP_THREADS'] = '10'\n",
    "os.environ['TF_NUM_INTRAOP_THREADS'] = '10'\n",
    "\n",
    "# Configure TensorFlow session for multi-threading\n",
    "tf.config.threading.set_inter_op_parallelism_threads(10)\n",
    "tf.config.threading.set_intra_op_parallelism_threads(10)\n",
    "# Ensure TensorFlow is using the Metal backend\n",
    "gpu = len (tf.config.list_physical_devices ('GPU'))>0\n",
    "print (\"GPU is\", \"available\" if gpu else \"NOT AVAILABLE\")"
   ]
  },
  {
   "cell_type": "markdown",
   "metadata": {},
   "source": [
    "# Data preparation"
   ]
  },
  {
   "cell_type": "code",
   "execution_count": 2,
   "metadata": {},
   "outputs": [
    {
     "name": "stdout",
     "output_type": "stream",
     "text": [
      "label\n",
      "other-minor                 44\n",
      "meniskus-urgent             40\n",
      "meniskus-minor               8\n",
      "cruciate-ligament-urgent     6\n",
      "cruciate-ligament-minor      2\n",
      "Name: count, dtype: int64\n"
     ]
    },
    {
     "data": {
      "image/png": "[encoded data removed]",
      "text/plain": [
       "<Figure size 300x200 with 1 Axes>"
      ]
     },
     "metadata": {},
     "output_type": "display_data"
    }
   ],
   "source": [
    "data_label = \"data\"\n",
    "predict_label = \"label\"\n",
    "balanced = False\n",
    "labels = None\n",
    "class_weights = False\n",
    "sample_weights = False\n",
    "df_train = pd.read_csv('../data/data_train.csv')\n",
    "df_valid = pd.read_csv('../data/data_valid.csv')\n",
    "df_test = pd.read_csv('../data/data_test.csv')\n",
    "\n",
    "train_padded, valid_padded, test_padded, train_labels, valid_labels, test_labels, label_encoder, num_classes, max_length, word_index, class_weights, sample_weights = process_train_test_data(df_train, df_valid, df_test, data_label, predict_label, lables=labels, class_weights=class_weights, sample_weights=sample_weights)"
   ]
  },
  {
   "cell_type": "markdown",
   "metadata": {},
   "source": [
    "# Model parameters"
   ]
  },
  {
   "cell_type": "code",
   "execution_count": 3,
   "metadata": {},
   "outputs": [],
   "source": [
    "model_name = \"tuner\""
   ]
  },
  {
   "cell_type": "code",
   "execution_count": 4,
   "metadata": {},
   "outputs": [
    {
     "name": "stderr",
     "output_type": "stream",
     "text": [
      "2024-07-26 10:42:24.447136: I metal_plugin/src/device/metal_device.cc:1154] Metal device set to: Apple M3 Max\n",
      "2024-07-26 10:42:24.447168: I metal_plugin/src/device/metal_device.cc:296] systemMemory: 64.00 GB\n",
      "2024-07-26 10:42:24.447182: I metal_plugin/src/device/metal_device.cc:313] maxCacheSize: 24.00 GB\n",
      "2024-07-26 10:42:24.447211: I tensorflow/core/common_runtime/pluggable_device/pluggable_device_factory.cc:305] Could not identify NUMA node of platform GPU ID 0, defaulting to 0. Your kernel may not have been built with NUMA support.\n",
      "2024-07-26 10:42:24.447235: I tensorflow/core/common_runtime/pluggable_device/pluggable_device_factory.cc:271] Created TensorFlow device (/job:localhost/replica:0/task:0/device:GPU:0 with 0 MB memory) -> physical PluggableDevice (device: 0, name: METAL, pci bus id: <undefined>)\n"
     ]
    }
   ],
   "source": [
    "from utils import get_standard_parameters\n",
    "\n",
    "optimizer, loss, metrics, early_stopping_callback, embedding_dim, lstm_units, epochs, batch_size = get_standard_parameters()"
   ]
  },
  {
   "cell_type": "markdown",
   "metadata": {},
   "source": [
    "# Model definition and training"
   ]
  },
  {
   "cell_type": "code",
   "execution_count": 7,
   "metadata": {},
   "outputs": [
    {
     "name": "stdout",
     "output_type": "stream",
     "text": [
      "Trial 10 Complete [00h 00m 11s]\n",
      "val_f1_score: 0.10802918672561646\n",
      "\n",
      "Best val_f1_score So Far: 0.10802918672561646\n",
      "Total elapsed time: 00h 01m 35s\n",
      "Best hyperparameters found:\n",
      "embedding_dim: 64\n",
      "units: 32\n",
      "dropout_1: 0.0\n",
      "dropout_2: 0.30000000000000004\n"
     ]
    }
   ],
   "source": [
    "from tensorflow.keras.models import Model\n",
    "from tensorflow.keras.layers import Input, Embedding, Bidirectional, LSTM, Dropout, Dense\n",
    "from tensorflow.keras.callbacks import EarlyStopping\n",
    "from kerastuner import HyperModel, RandomSearch\n",
    "\n",
    "class LSTMHyperModel(HyperModel):\n",
    "    def build(self, hp):\n",
    "        # Define the input layer\n",
    "        input_text = Input(shape=(max_length,), dtype='int32', name='text_input')\n",
    "        \n",
    "        # Embedding layer\n",
    "        embedding = Embedding(input_dim=len(word_index), output_dim=hp.Int('embedding_dim', min_value=32, max_value=256, step=32))(input_text)\n",
    "        \n",
    "        # LSTM layers\n",
    "        lstm_units = hp.Int('units', min_value=32, max_value=512, step=32)\n",
    "        lstm_units2 = hp.Int('units', min_value=32, max_value=512, step=32)\n",
    "\n",
    "        x = Bidirectional(LSTM(units=lstm_units, return_sequences=True))(embedding)\n",
    "        x = Dropout(hp.Float('dropout_1', min_value=0.0, max_value=0.8, step=0.1))(x)\n",
    "        x = Bidirectional(LSTM(units=lstm_units2))(x)\n",
    "        x = Dropout(hp.Float('dropout_2', min_value=0.0, max_value=0.8, step=0.1))(x)\n",
    "        \n",
    "        # Output layer\n",
    "        output = Dense(num_classes, activation='softmax')(x)\n",
    "        \n",
    "        # Build and compile the model\n",
    "        model = Model(inputs=input_text, outputs=output)\n",
    "        model.compile(optimizer=\"adam\", loss=loss, metrics=metrics)\n",
    "        \n",
    "        return model\n",
    "\n",
    "# Set up the tuner with the RandomSearch algorithm\n",
    "tuner = RandomSearch(\n",
    "    LSTMHyperModel(),\n",
    "    objective='val_f1_score',\n",
    "    max_trials=10,\n",
    "    executions_per_trial=1,\n",
    "    directory='model_tuning',\n",
    "    project_name='LSTM_Classification'\n",
    ")\n",
    "\n",
    "# Search for the best hyperparameters\n",
    "tuner.search(train_padded, train_labels, epochs=5, validation_data=(valid_padded, valid_labels), callbacks=[early_stopping_callback])\n",
    "\n",
    "# Retrieve the best model\n",
    "best_model = tuner.get_best_models(num_models=1)[0]\n",
    "best_hps = tuner.get_best_hyperparameters(num_trials=1)[0]\n",
    "\n",
    "print(\"Best hyperparameters found:\")\n",
    "for hp in best_hps.space:\n",
    "    print(f\"{hp.name}: {best_hps.get(hp.name)}\")"
   ]
  },
  {
   "cell_type": "code",
   "execution_count": 6,
   "metadata": {},
   "outputs": [
    {
     "ename": "NameError",
     "evalue": "name 'history' is not defined",
     "output_type": "error",
     "traceback": [
      "\u001b[0;31m---------------------------------------------------------------------------\u001b[0m",
      "\u001b[0;31mNameError\u001b[0m                                 Traceback (most recent call last)",
      "Cell \u001b[0;32mIn[6], line 1\u001b[0m\n\u001b[0;32m----> 1\u001b[0m save_for_evaluation(best_model, \u001b[43mhistory\u001b[49m, model_name, test_padded, test_labels, label_encoder)\n",
      "\u001b[0;31mNameError\u001b[0m: name 'history' is not defined"
     ]
    }
   ],
   "source": [
    "save_for_evaluation(best_model, history, model_name, test_padded, test_labels, label_encoder)"
   ]
  },
  {
   "cell_type": "code",
   "execution_count": null,
   "metadata": {},
   "outputs": [],
   "source": [
    "#eval_training(history, metrics)"
   ]
  },
  {
   "cell_type": "code",
   "execution_count": null,
   "metadata": {},
   "outputs": [],
   "source": [
    "eval(best_model, test_padded, test_labels, label_encoder)"
   ]
  }
 ],
 "metadata": {
  "kernelspec": {
   "display_name": "tf2",
   "language": "python",
   "name": "python3"
  },
  "language_info": {
   "codemirror_mode": {
    "name": "ipython",
    "version": 3
   },
   "file_extension": ".py",
   "mimetype": "text/x-python",
   "name": "python",
   "nbconvert_exporter": "python",
   "pygments_lexer": "ipython3",
   "version": "3.10.13"
  }
 },
 "nbformat": 4,
 "nbformat_minor": 2
}
