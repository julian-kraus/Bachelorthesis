{
 "cells": [
  {
   "cell_type": "code",
   "id": "initial_id",
   "metadata": {
    "collapsed": true,
    "ExecuteTime": {
     "end_time": "2024-06-16T19:59:51.795443Z",
     "start_time": "2024-06-16T19:59:51.755185Z"
    }
   },
   "source": [
    "import pandas as pd\n",
    "from transformers import AutoTokenizer, AutoModelForCausalLM, TextGenerationPipeline\n",
    "\n",
    "# Load the Mistral model and tokenizer from Hugging Face\n",
    "model_name = \"jphme/em_german_leo_mistral\" \n",
    "tokenizer = AutoTokenizer.from_pretrained(model_name)\n",
    "model = AutoModelForCausalLM.from_pretrained(model_name)\n",
    "\n",
    "# Create a text generation pipeline\n",
    "pipeline = TextGenerationPipeline(model=model, tokenizer=tokenizer, device=0)\n",
    "\n",
    "# Define the text and instruction\n",
    "input_text = \"Patient: Herr Müller, 45 Jahre alt, klagt über Kopfschmerzen seit drei Tagen.\"\n",
    "instruction = \"Geben Sie eine Zusammenfassung des Patientenberichts.\"\n",
    "\n",
    "# Combine the text and instruction\n",
    "prompt = f\"{instruction}\\n\\n{input_text}\"\n",
    "\n",
    "# Generate the output\n",
    "generated_text = pipeline(prompt, max_length=150, num_return_sequences=1)[0]['generated_text']\n",
    "\n",
    "# Save the result in a dataframe\n",
    "data = {\n",
    "    \"Input Text\": [input_text],\n",
    "    \"Instruction\": [instruction],\n",
    "    \"Generated Text\": [generated_text]\n",
    "}\n",
    "df = pd.DataFrame(data)\n",
    "\n",
    "# Save the dataframe to a CSV file\n",
    "df.to_csv(\"generated_texts.csv\", index=False)\n",
    "\n",
    "# Display the dataframe\n",
    "print(df)\n"
   ],
   "outputs": [
    {
     "ename": "ModuleNotFoundError",
     "evalue": "No module named 'transformers'",
     "output_type": "error",
     "traceback": [
      "\u001B[0;31m---------------------------------------------------------------------------\u001B[0m",
      "\u001B[0;31mModuleNotFoundError\u001B[0m                       Traceback (most recent call last)",
      "Cell \u001B[0;32mIn[2], line 2\u001B[0m\n\u001B[1;32m      1\u001B[0m \u001B[38;5;28;01mimport\u001B[39;00m \u001B[38;5;21;01mpandas\u001B[39;00m \u001B[38;5;28;01mas\u001B[39;00m \u001B[38;5;21;01mpd\u001B[39;00m\n\u001B[0;32m----> 2\u001B[0m \u001B[38;5;28;01mfrom\u001B[39;00m \u001B[38;5;21;01mtransformers\u001B[39;00m \u001B[38;5;28;01mimport\u001B[39;00m AutoTokenizer, AutoModelForCausalLM, TextGenerationPipeline\n\u001B[1;32m      4\u001B[0m \u001B[38;5;66;03m# Load the Mistral model and tokenizer from Hugging Face\u001B[39;00m\n\u001B[1;32m      5\u001B[0m model_name \u001B[38;5;241m=\u001B[39m \u001B[38;5;124m\"\u001B[39m\u001B[38;5;124mjphme/em_german_leo_mistral\u001B[39m\u001B[38;5;124m\"\u001B[39m \n",
      "\u001B[0;31mModuleNotFoundError\u001B[0m: No module named 'transformers'"
     ]
    }
   ],
   "execution_count": 2
  },
  {
   "metadata": {},
   "cell_type": "code",
   "outputs": [],
   "execution_count": null,
   "source": "",
   "id": "35a70d96abdcaa4b"
  }
 ],
 "metadata": {
  "kernelspec": {
   "display_name": "Python 3",
   "language": "python",
   "name": "python3"
  },
  "language_info": {
   "codemirror_mode": {
    "name": "ipython",
    "version": 2
   },
   "file_extension": ".py",
   "mimetype": "text/x-python",
   "name": "python",
   "nbconvert_exporter": "python",
   "pygments_lexer": "ipython2",
   "version": "2.7.6"
  }
 },
 "nbformat": 4,
 "nbformat_minor": 5
}
