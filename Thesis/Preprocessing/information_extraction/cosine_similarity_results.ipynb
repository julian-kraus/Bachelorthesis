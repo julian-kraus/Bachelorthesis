{
 "cells": [
  {
   "cell_type": "code",
   "execution_count": 1,
   "metadata": {},
   "outputs": [],
   "source": [
    "from nltk.corpus import stopwords \n",
    "from nltk.tokenize import word_tokenize "
   ]
  },
  {
   "cell_type": "code",
   "execution_count": 16,
   "metadata": {},
   "outputs": [],
   "source": [
    "diag_prediction_list = [('Right displaced lateral meniscus bucket-handle tear, operative', 'Right meniscus bucket-handle tear, operative'),\n",
    "('Acute left medial meniscus bucket-handle tear, operative','Left meniscus bucket-handle tear, operative'),\n",
    "('Right medial meniscus bucket-handle tear, operative','Right meniscus bucket-handle tear, operative')]"
   ]
  },
  {
   "cell_type": "code",
   "execution_count": 17,
   "metadata": {},
   "outputs": [
    {
     "name": "stdout",
     "output_type": "stream",
     "text": [
      "similarity between 'Right displaced lateral meniscus bucket-handle tear, operative' and 'Right meniscus bucket-handle tear, operative' 0.8660254037844387\n",
      "similarity between 'Acute left medial meniscus bucket-handle tear, operative' and 'Left meniscus bucket-handle tear, operative' 0.7216878364870323\n",
      "similarity between 'Right medial meniscus bucket-handle tear, operative' and 'Right meniscus bucket-handle tear, operative' 0.9258200997725514\n"
     ]
    }
   ],
   "source": [
    "\n",
    "for (X,Y) in diag_prediction_list:\n",
    "    # tokenization \n",
    "    X_list = word_tokenize(X)  \n",
    "    Y_list = word_tokenize(Y) \n",
    "    \n",
    "    # sw contains the list of stopwords \n",
    "    sw = stopwords.words('english')  \n",
    "    l1 =[];l2 =[] \n",
    "    \n",
    "    # remove stop words from the string \n",
    "    X_set = {w for w in X_list if not w in sw}  \n",
    "    Y_set = {w for w in Y_list if not w in sw} \n",
    "    \n",
    "    # form a set containing keywords of both strings  \n",
    "    rvector = X_set.union(Y_set)  \n",
    "    for w in rvector: \n",
    "        if w in X_set: l1.append(1) # create a vector \n",
    "        else: l1.append(0) \n",
    "        if w in Y_set: l2.append(1) \n",
    "        else: l2.append(0) \n",
    "    c = 0\n",
    "    \n",
    "    # cosine formula  \n",
    "    for i in range(len(rvector)): \n",
    "            c+= l1[i]*l2[i] \n",
    "    cosine = c / float((sum(l1)*sum(l2))**0.5) \n",
    "    print(f\"similarity between '{X}' and '{Y}'\", cosine) "
   ]
  }
 ],
 "metadata": {
  "kernelspec": {
   "display_name": "ba",
   "language": "python",
   "name": "python3"
  },
  "language_info": {
   "name": "python",
   "version": "3.12.3"
  }
 },
 "nbformat": 4,
 "nbformat_minor": 2
}
