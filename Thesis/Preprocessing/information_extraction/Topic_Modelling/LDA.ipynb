{
 "cells": [
  {
   "cell_type": "code",
   "execution_count": 9,
   "metadata": {},
   "outputs": [
    {
     "name": "stderr",
     "output_type": "stream",
     "text": [
      "[nltk_data] Downloading package stopwords to\n",
      "[nltk_data]     /Users/aleksandratopalova/nltk_data...\n",
      "[nltk_data]   Package stopwords is already up-to-date!\n",
      "[nltk_data] Downloading package punkt to\n",
      "[nltk_data]     /Users/aleksandratopalova/nltk_data...\n",
      "[nltk_data]   Package punkt is already up-to-date!\n"
     ]
    }
   ],
   "source": [
    "from scipy.linalg import triu\n",
    "from gensim import corpora, models\n",
    "from nltk.corpus import stopwords\n",
    "from nltk.tokenize import word_tokenize\n",
    "import nltk\n",
    "\n",
    "# Ensure you have the necessary resources downloaded\n",
    "nltk.download('stopwords')\n",
    "nltk.download('punkt')\n",
    "\n",
    "# Example text - replace this with your symptom description\n",
    "text = \"1 months ago sudden knee joint blockage left knee joint. Presentation at the hospital Gummersbach. In the course of presentation at the hospital Engelskirchen with X-ray and fracture exclusion. 3 years ago pre-operation in KH-Engelskirchen. As a child already recurring blockade events.The left knee can be extended to a limited extent and flexed with difficulty. There is no fluid accumulation in the knee. There is significant pain on the outside of the knee when pressure is applied.\".replace(\"-\", \"_\")\n",
    "\n",
    "# Tokenize and remove stopwords\n",
    "stop_words = set(stopwords.words('english'))\n",
    "tokens = [word for word in word_tokenize(text.lower()) if word.isalpha() and word not in stop_words]\n",
    "\n",
    "# Create a dictionary and corpus needed for LDA\n",
    "dictionary = corpora.Dictionary([tokens])\n",
    "corpus = [dictionary.doc2bow(tokens)]\n",
    "\n",
    "# Applying LDA model\n",
    "lda_model = models.LsiModel(corpus, num_topics=1, id2word=dictionary)\n",
    "\n",
    "# Output the topics\n",
    "topics = lda_model.print_topics(num_words=12)"
   ]
  },
  {
   "cell_type": "code",
   "execution_count": 10,
   "metadata": {},
   "outputs": [
    {
     "data": {
      "text/plain": [
       "[(0,\n",
       "  '0.598*\"knee\" + 0.239*\"hospital\" + 0.239*\"joint\" + 0.239*\"left\" + 0.239*\"presentation\" + 0.239*\"ago\" + 0.120*\"applied\" + 0.120*\"already\" + 0.120*\"extended\" + 0.120*\"gummersbach\" + 0.120*\"fracture\" + 0.120*\"pressure\"')]"
      ]
     },
     "execution_count": 10,
     "metadata": {},
     "output_type": "execute_result"
    }
   ],
   "source": [
    "topics"
   ]
  }
 ],
 "metadata": {
  "kernelspec": {
   "display_name": "ba",
   "language": "python",
   "name": "python3"
  },
  "language_info": {
   "codemirror_mode": {
    "name": "ipython",
    "version": 3
   },
   "file_extension": ".py",
   "mimetype": "text/x-python",
   "name": "python",
   "nbconvert_exporter": "python",
   "pygments_lexer": "ipython3",
   "version": "3.12.3"
  }
 },
 "nbformat": 4,
 "nbformat_minor": 2
}
