{
 "cells": [
  {
   "cell_type": "markdown",
   "metadata": {},
   "source": [
    "# BERT"
   ]
  },
  {
   "cell_type": "markdown",
   "metadata": {},
   "source": [
    "## Plain BERT without architecture changes, no pre-trained tokenizer, no fine-tuning, default hyperparameters"
   ]
  },
  {
   "cell_type": "markdown",
   "metadata": {},
   "source": [
    "Uses masking and predicts the masked word"
   ]
  },
  {
   "cell_type": "code",
   "execution_count": 1,
   "metadata": {},
   "outputs": [],
   "source": [
    "from transformers import pipeline"
   ]
  },
  {
   "cell_type": "code",
   "execution_count": 2,
   "metadata": {},
   "outputs": [],
   "source": [
    "import pandas as pd\n",
    "df = pd.read_csv(\"../datasets/data_test.csv\")"
   ]
  },
  {
   "cell_type": "code",
   "execution_count": 5,
   "metadata": {},
   "outputs": [
    {
     "name": "stdout",
     "output_type": "stream",
     "text": [
      "31.0 Jahre alt männlich Vor 2 1/2 Jahren vordere Kreuzbandruptur beim Fußballspielen. In Bergneustadt Arthroskopie mit Stumpfresektion. Im Dezember 2013 Giving way beim Fußballspielen. Patient möchte Joggen und Wintersport machen können.. Mein rechtes Knie hat eine diskrete bis mäßige Schwellung, und es gibt keine Überstreckung und auch kein Streckdefizit. Die Beugung des Knies ist gut möglich und endgradig. Es gibt Schmerzen auf der medialen Seite des Kniegelenks beim Drücken. Hier sind 5 Klassifizierungslabels, die die verletzte Kniestruktur und die Schwere der Verletzung beschreiben: meniscus-urgent, meniscus-minor, cruiciate-ligament-urgent, cruciate-ligament-minor, other-minor. Von diesen am passendsten für die Symptombeschreibung ist der Label [MASK].\n"
     ]
    }
   ],
   "source": [
    "prompt = df[\"data\"][0] + \" Hier sind 5 Klassifizierungslabels, die die verletzte Kniestruktur und die Schwere der Verletzung beschreiben: meniscus-urgent, meniscus-minor, cruiciate-ligament-urgent, cruciate-ligament-minor, other-minor. Von diesen am passendsten für die Symptombeschreibung ist der Label [MASK].\"\n",
    "print(prompt)"
   ]
  },
  {
   "cell_type": "code",
   "execution_count": 6,
   "metadata": {},
   "outputs": [
    {
     "name": "stderr",
     "output_type": "stream",
     "text": [
      "Some weights of the model checkpoint at google-bert/bert-base-german-cased were not used when initializing BertForMaskedLM: ['bert.pooler.dense.bias', 'bert.pooler.dense.weight', 'cls.seq_relationship.bias', 'cls.seq_relationship.weight']\n",
      "- This IS expected if you are initializing BertForMaskedLM from the checkpoint of a model trained on another task or with another architecture (e.g. initializing a BertForSequenceClassification model from a BertForPreTraining model).\n",
      "- This IS NOT expected if you are initializing BertForMaskedLM from the checkpoint of a model that you expect to be exactly identical (initializing a BertForSequenceClassification model from a BertForSequenceClassification model).\n",
      "Hardware accelerator e.g. GPU is available in the environment, but no `device` argument is passed to the `Pipeline` object. Model will be on CPU.\n"
     ]
    },
    {
     "data": {
      "text/plain": [
       "[{'score': 0.37574276328086853,\n",
       "  'token': 7980,\n",
       "  'token_str': '##name',\n",
       "  'sequence': '31. 0 Jahre alt männlich Vor 2 1 / 2 Jahren vordere Kreuzbandruptur beim Fußballspielen. In Bergneustadt Arthroskopie mit Stumpfresektion. Im Dezember 2013 Giving way beim Fußballspielen. Patient möchte Joggen und Wintersport machen können.. Mein rechtes Knie hat eine diskrete bis mäßige Schwellung, und es gibt keine Überstreckung und auch kein Streckdefizit. Die Beugung des Knies ist gut möglich und endgradig. Es gibt Schmerzen auf der medialen Seite des Kniegelenks beim Drücken. Hier sind 5 Klassifizierungslabels, die die verletzte Kniestruktur und die Schwere der Verletzung beschreiben : meniscus - urgent, meniscus - minor, cruiciate - ligament - urgent, cruciate - ligament - minor, other - minor. Von diesen am passendsten für die Symptombeschreibung ist der Labelname.'},\n",
       " {'score': 0.1462392508983612,\n",
       "  'token': 24864,\n",
       "  'token_str': '##code',\n",
       "  'sequence': '31. 0 Jahre alt männlich Vor 2 1 / 2 Jahren vordere Kreuzbandruptur beim Fußballspielen. In Bergneustadt Arthroskopie mit Stumpfresektion. Im Dezember 2013 Giving way beim Fußballspielen. Patient möchte Joggen und Wintersport machen können.. Mein rechtes Knie hat eine diskrete bis mäßige Schwellung, und es gibt keine Überstreckung und auch kein Streckdefizit. Die Beugung des Knies ist gut möglich und endgradig. Es gibt Schmerzen auf der medialen Seite des Kniegelenks beim Drücken. Hier sind 5 Klassifizierungslabels, die die verletzte Kniestruktur und die Schwere der Verletzung beschreiben : meniscus - urgent, meniscus - minor, cruiciate - ligament - urgent, cruciate - ligament - minor, other - minor. Von diesen am passendsten für die Symptombeschreibung ist der Labelcode.'},\n",
       " {'score': 0.05155779793858528,\n",
       "  'token': 1859,\n",
       "  'token_str': '##bereich',\n",
       "  'sequence': '31. 0 Jahre alt männlich Vor 2 1 / 2 Jahren vordere Kreuzbandruptur beim Fußballspielen. In Bergneustadt Arthroskopie mit Stumpfresektion. Im Dezember 2013 Giving way beim Fußballspielen. Patient möchte Joggen und Wintersport machen können.. Mein rechtes Knie hat eine diskrete bis mäßige Schwellung, und es gibt keine Überstreckung und auch kein Streckdefizit. Die Beugung des Knies ist gut möglich und endgradig. Es gibt Schmerzen auf der medialen Seite des Kniegelenks beim Drücken. Hier sind 5 Klassifizierungslabels, die die verletzte Kniestruktur und die Schwere der Verletzung beschreiben : meniscus - urgent, meniscus - minor, cruiciate - ligament - urgent, cruciate - ligament - minor, other - minor. Von diesen am passendsten für die Symptombeschreibung ist der Labelbereich.'},\n",
       " {'score': 0.038051847368478775,\n",
       "  'token': 6138,\n",
       "  'token_str': '##namen',\n",
       "  'sequence': '31. 0 Jahre alt männlich Vor 2 1 / 2 Jahren vordere Kreuzbandruptur beim Fußballspielen. In Bergneustadt Arthroskopie mit Stumpfresektion. Im Dezember 2013 Giving way beim Fußballspielen. Patient möchte Joggen und Wintersport machen können.. Mein rechtes Knie hat eine diskrete bis mäßige Schwellung, und es gibt keine Überstreckung und auch kein Streckdefizit. Die Beugung des Knies ist gut möglich und endgradig. Es gibt Schmerzen auf der medialen Seite des Kniegelenks beim Drücken. Hier sind 5 Klassifizierungslabels, die die verletzte Kniestruktur und die Schwere der Verletzung beschreiben : meniscus - urgent, meniscus - minor, cruiciate - ligament - urgent, cruciate - ligament - minor, other - minor. Von diesen am passendsten für die Symptombeschreibung ist der Labelnamen.'},\n",
       " {'score': 0.027312323451042175,\n",
       "  'token': 26902,\n",
       "  'token_str': '##s',\n",
       "  'sequence': '31. 0 Jahre alt männlich Vor 2 1 / 2 Jahren vordere Kreuzbandruptur beim Fußballspielen. In Bergneustadt Arthroskopie mit Stumpfresektion. Im Dezember 2013 Giving way beim Fußballspielen. Patient möchte Joggen und Wintersport machen können.. Mein rechtes Knie hat eine diskrete bis mäßige Schwellung, und es gibt keine Überstreckung und auch kein Streckdefizit. Die Beugung des Knies ist gut möglich und endgradig. Es gibt Schmerzen auf der medialen Seite des Kniegelenks beim Drücken. Hier sind 5 Klassifizierungslabels, die die verletzte Kniestruktur und die Schwere der Verletzung beschreiben : meniscus - urgent, meniscus - minor, cruiciate - ligament - urgent, cruciate - ligament - minor, other - minor. Von diesen am passendsten für die Symptombeschreibung ist der Labels.'}]"
      ]
     },
     "execution_count": 6,
     "metadata": {},
     "output_type": "execute_result"
    }
   ],
   "source": [
    "from transformers import pipeline\n",
    "unmasker = pipeline('fill-mask', model='google-bert/bert-base-german-cased')\n",
    "unmasker(prompt)"
   ]
  },
  {
   "cell_type": "markdown",
   "metadata": {},
   "source": [
    "## Foreign fine-tuned BERT without architecture changes, no pre-trained tokenizer, default hyperparameters"
   ]
  },
  {
   "cell_type": "markdown",
   "metadata": {},
   "source": [
    "Uses masking and predicts the masked word"
   ]
  },
  {
   "cell_type": "code",
   "execution_count": 5,
   "metadata": {},
   "outputs": [
    {
     "data": {
      "text/plain": [
       "[{'score': 0.07274677604436874,\n",
       "  'token': 5309,\n",
       "  'token_str': 'da',\n",
       "  'sequence': 'Beschwerden re. Achillessehne. NMR unauffällig. Verdickung jedoch da ; nach und während des Laufen ( Sprint ) schlimmer. Re. Achillessehne : Verdickung im Bereich der Achillessehne ca. 3 cm proximal ; Re. Leiste : Druckschmerz am os pubis zum os ischii hin ; auch nach ventral am os pubis Die ICD - 10 - GM code, enstprechend diese Symptome, ist da'},\n",
       " {'score': 0.05531417578458786,\n",
       "  'token': 4825,\n",
       "  'token_str': 'nicht',\n",
       "  'sequence': 'Beschwerden re. Achillessehne. NMR unauffällig. Verdickung jedoch da ; nach und während des Laufen ( Sprint ) schlimmer. Re. Achillessehne : Verdickung im Bereich der Achillessehne ca. 3 cm proximal ; Re. Leiste : Druckschmerz am os pubis zum os ischii hin ; auch nach ventral am os pubis Die ICD - 10 - GM code, enstprechend diese Symptome, ist nicht'},\n",
       " {'score': 0.03201393783092499,\n",
       "  'token': 4698,\n",
       "  'token_str': 'in',\n",
       "  'sequence': 'Beschwerden re. Achillessehne. NMR unauffällig. Verdickung jedoch da ; nach und während des Laufen ( Sprint ) schlimmer. Re. Achillessehne : Verdickung im Bereich der Achillessehne ca. 3 cm proximal ; Re. Leiste : Druckschmerz am os pubis zum os ischii hin ; auch nach ventral am os pubis Die ICD - 10 - GM code, enstprechend diese Symptome, ist in'},\n",
       " {'score': 0.027008671313524246,\n",
       "  'token': 4704,\n",
       "  'token_str': 'die',\n",
       "  'sequence': 'Beschwerden re. Achillessehne. NMR unauffällig. Verdickung jedoch da ; nach und während des Laufen ( Sprint ) schlimmer. Re. Achillessehne : Verdickung im Bereich der Achillessehne ca. 3 cm proximal ; Re. Leiste : Druckschmerz am os pubis zum os ischii hin ; auch nach ventral am os pubis Die ICD - 10 - GM code, enstprechend diese Symptome, ist die'},\n",
       " {'score': 0.022639082744717598,\n",
       "  'token': 5532,\n",
       "  'token_str': 'noch',\n",
       "  'sequence': 'Beschwerden re. Achillessehne. NMR unauffällig. Verdickung jedoch da ; nach und während des Laufen ( Sprint ) schlimmer. Re. Achillessehne : Verdickung im Bereich der Achillessehne ca. 3 cm proximal ; Re. Leiste : Druckschmerz am os pubis zum os ischii hin ; auch nach ventral am os pubis Die ICD - 10 - GM code, enstprechend diese Symptome, ist noch'}]"
      ]
     },
     "execution_count": 5,
     "metadata": {},
     "output_type": "execute_result"
    }
   ],
   "source": [
    "unmasker = pipeline('fill-mask', model='GerMedBERT/medbert-512')\n",
    "unmasker(prompt)"
   ]
  },
  {
   "cell_type": "markdown",
   "metadata": {},
   "source": [
    "Hyperparameter optimization: https://colab.research.google.com/github/huggingface/notebooks/blob/main/examples/text_classification.ipynb#scrollTo=NboJ7kDOIrJq in line best_run = trainer.hyperparameter_search(n_trials=10, direction=\"maximize\")"
   ]
  },
  {
   "cell_type": "code",
   "execution_count": null,
   "metadata": {},
   "outputs": [],
   "source": [
    "## Fine-tuned BERT without architecture changes, no pre-trained tokenizer, default hyperparameters"
   ]
  }
 ],
 "metadata": {
  "kernelspec": {
   "display_name": "ba",
   "language": "python",
   "name": "python3"
  },
  "language_info": {
   "codemirror_mode": {
    "name": "ipython",
    "version": 3
   },
   "file_extension": ".py",
   "mimetype": "text/x-python",
   "name": "python",
   "nbconvert_exporter": "python",
   "pygments_lexer": "ipython3",
   "version": "3.10.13"
  }
 },
 "nbformat": 4,
 "nbformat_minor": 2
}
