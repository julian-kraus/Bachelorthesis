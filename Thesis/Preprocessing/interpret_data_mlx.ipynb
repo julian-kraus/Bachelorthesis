{
 "cells": [
  {
   "cell_type": "code",
   "execution_count": 1,
   "metadata": {},
   "outputs": [],
   "source": [
    "from mlx_lm import load, generate\n",
    "import pandas as pd"
   ]
  },
  {
   "cell_type": "code",
   "execution_count": 2,
   "metadata": {},
   "outputs": [],
   "source": [
    "# %%bash\n",
    "# python -m mlx_lm.convert --hf-path jphme/em_german_leo_mistral --mlx-path model/ -q "
   ]
  },
  {
   "cell_type": "code",
   "execution_count": 3,
   "metadata": {},
   "outputs": [],
   "source": [
    "# TODO: Choose one\n",
    "# df = pd.read_csv(\"test.csv\")\n",
    "df = pd.read_csv(\"interpreted_data_mlx_test2.csv\")"
   ]
  },
  {
   "cell_type": "code",
   "execution_count": 4,
   "metadata": {},
   "outputs": [],
   "source": [
    "# TODO: Choose which row to start from\n",
    "n=12213\n",
    "inter_df = df.iloc[n:]"
   ]
  },
  {
   "cell_type": "code",
   "execution_count": 5,
   "metadata": {},
   "outputs": [
    {
     "data": {
      "text/html": [
       "<div>\n",
       "<style scoped>\n",
       "    .dataframe tbody tr th:only-of-type {\n",
       "        vertical-align: middle;\n",
       "    }\n",
       "\n",
       "    .dataframe tbody tr th {\n",
       "        vertical-align: top;\n",
       "    }\n",
       "\n",
       "    .dataframe thead th {\n",
       "        text-align: right;\n",
       "    }\n",
       "</style>\n",
       "<table border=\"1\" class=\"dataframe\">\n",
       "  <thead>\n",
       "    <tr style=\"text-align: right;\">\n",
       "      <th></th>\n",
       "      <th>Unnamed: 0</th>\n",
       "      <th>patientid</th>\n",
       "      <th>sex</th>\n",
       "      <th>age</th>\n",
       "      <th>ANA</th>\n",
       "      <th>EXA</th>\n",
       "      <th>DIA_text</th>\n",
       "      <th>DIA_code</th>\n",
       "      <th>OP_text</th>\n",
       "      <th>OP_code</th>\n",
       "      <th>EXA_formatted</th>\n",
       "      <th>EXA_interpreted</th>\n",
       "    </tr>\n",
       "  </thead>\n",
       "  <tbody>\n",
       "    <tr>\n",
       "      <th>12213</th>\n",
       "      <td>12213</td>\n",
       "      <td>62388.0</td>\n",
       "      <td>male</td>\n",
       "      <td>43.0</td>\n",
       "      <td>Vorstellung präop; trägt Brace täglich; keine ...</td>\n",
       "      <td>Beinachse:                        Gangbild: an...</td>\n",
       "      <td>Sonstige Spontanruptur eines oder mehrerer Bän...</td>\n",
       "      <td>M23.61 Z</td>\n",
       "      <td>NaN</td>\n",
       "      <td>NaN</td>\n",
       "      <td>beinachse                        gangbild an u...</td>\n",
       "      <td>NaN</td>\n",
       "    </tr>\n",
       "    <tr>\n",
       "      <th>12214</th>\n",
       "      <td>12214</td>\n",
       "      <td>62391.0</td>\n",
       "      <td>male</td>\n",
       "      <td>63.0</td>\n",
       "      <td>NaN</td>\n",
       "      <td>NaN</td>\n",
       "      <td>Z.n.AC re Schulter m.RM-Debridement</td>\n",
       "      <td>M23.3- Z</td>\n",
       "      <td>NaN</td>\n",
       "      <td>NaN</td>\n",
       "      <td>NaN</td>\n",
       "      <td>NaN</td>\n",
       "    </tr>\n",
       "    <tr>\n",
       "      <th>12215</th>\n",
       "      <td>12215</td>\n",
       "      <td>62395.0</td>\n",
       "      <td>female</td>\n",
       "      <td>19.0</td>\n",
       "      <td>Pat stellt sich mit den MRT Bildern vor.</td>\n",
       "      <td>li Knie: keine Rötung/Überwärmung; klin.kein E...</td>\n",
       "      <td>Habituelle Luxation der Patella</td>\n",
       "      <td>M22.0 G</td>\n",
       "      <td>NaN</td>\n",
       "      <td>NaN</td>\n",
       "      <td>links knie keine rötung/überwärmung, kein ergu...</td>\n",
       "      <td>NaN</td>\n",
       "    </tr>\n",
       "    <tr>\n",
       "      <th>12216</th>\n",
       "      <td>12216</td>\n",
       "      <td>62399.0</td>\n",
       "      <td>male</td>\n",
       "      <td>28.0</td>\n",
       "      <td>Beruf; Tunnelelektriker; Sport: Capoira; Schwi...</td>\n",
       "      <td>Beinachse:  genuvarum 2 QF Gangbild: flüssig l...</td>\n",
       "      <td>Chondropathia patellae links</td>\n",
       "      <td>M22.4 G</td>\n",
       "      <td>NaN</td>\n",
       "      <td>NaN</td>\n",
       "      <td>beinachse  genuvarum 2 qf gangbild flüssig lin...</td>\n",
       "      <td>NaN</td>\n",
       "    </tr>\n",
       "    <tr>\n",
       "      <th>12217</th>\n",
       "      <td>12217</td>\n",
       "      <td>62400.0</td>\n",
       "      <td>male</td>\n",
       "      <td>57.0</td>\n",
       "      <td>6 Wochen nach OP. Pat. berichtet nach 4 Tagen ...</td>\n",
       "      <td>Beinachse: genuvarum 3 QF; Gangbild: flüssig l...</td>\n",
       "      <td>IV° Chondromalazie mediale Femurkondyle li.Knie</td>\n",
       "      <td>M22.4 Z</td>\n",
       "      <td>NaN</td>\n",
       "      <td>NaN</td>\n",
       "      <td>gangbild flüssig links knie keine überstreckun...</td>\n",
       "      <td>NaN</td>\n",
       "    </tr>\n",
       "  </tbody>\n",
       "</table>\n",
       "</div>"
      ],
      "text/plain": [
       "       Unnamed: 0  patientid     sex   age  \\\n",
       "12213       12213    62388.0    male  43.0   \n",
       "12214       12214    62391.0    male  63.0   \n",
       "12215       12215    62395.0  female  19.0   \n",
       "12216       12216    62399.0    male  28.0   \n",
       "12217       12217    62400.0    male  57.0   \n",
       "\n",
       "                                                     ANA  \\\n",
       "12213  Vorstellung präop; trägt Brace täglich; keine ...   \n",
       "12214                                                NaN   \n",
       "12215           Pat stellt sich mit den MRT Bildern vor.   \n",
       "12216  Beruf; Tunnelelektriker; Sport: Capoira; Schwi...   \n",
       "12217  6 Wochen nach OP. Pat. berichtet nach 4 Tagen ...   \n",
       "\n",
       "                                                     EXA  \\\n",
       "12213  Beinachse:                        Gangbild: an...   \n",
       "12214                                                NaN   \n",
       "12215  li Knie: keine Rötung/Überwärmung; klin.kein E...   \n",
       "12216  Beinachse:  genuvarum 2 QF Gangbild: flüssig l...   \n",
       "12217  Beinachse: genuvarum 3 QF; Gangbild: flüssig l...   \n",
       "\n",
       "                                                DIA_text  DIA_code OP_text  \\\n",
       "12213  Sonstige Spontanruptur eines oder mehrerer Bän...  M23.61 Z     NaN   \n",
       "12214                Z.n.AC re Schulter m.RM-Debridement  M23.3- Z     NaN   \n",
       "12215                    Habituelle Luxation der Patella   M22.0 G     NaN   \n",
       "12216                       Chondropathia patellae links   M22.4 G     NaN   \n",
       "12217    IV° Chondromalazie mediale Femurkondyle li.Knie   M22.4 Z     NaN   \n",
       "\n",
       "      OP_code                                      EXA_formatted  \\\n",
       "12213     NaN  beinachse                        gangbild an u...   \n",
       "12214     NaN                                                NaN   \n",
       "12215     NaN  links knie keine rötung/überwärmung, kein ergu...   \n",
       "12216     NaN  beinachse  genuvarum 2 qf gangbild flüssig lin...   \n",
       "12217     NaN  gangbild flüssig links knie keine überstreckun...   \n",
       "\n",
       "      EXA_interpreted  \n",
       "12213             NaN  \n",
       "12214             NaN  \n",
       "12215             NaN  \n",
       "12216             NaN  \n",
       "12217             NaN  "
      ]
     },
     "execution_count": 5,
     "metadata": {},
     "output_type": "execute_result"
    }
   ],
   "source": [
    "inter_df.head()"
   ]
  },
  {
   "cell_type": "code",
   "execution_count": 6,
   "metadata": {},
   "outputs": [],
   "source": [
    "model, tokenizer = load(\"model/\")"
   ]
  },
  {
   "cell_type": "code",
   "execution_count": 7,
   "metadata": {},
   "outputs": [],
   "source": [
    "few_shot_examples = [\n",
    "    (\"links knie diskr schwellung, kein anteromedialer druckschmerz med äußerechts Seite des Kniegelenks, kein druckschmerz kniescheiben, keine meniskuszeichen rechts knie keine schwellung, druckschmerz proximal seitlich kniescheibe\", \n",
    "     \"Mein linkes Knie hat keine Schwellung, und es gibt keine Schmerzen beim Drücken auf der äußerechts Seite des Kniegelenks und der Kniescheibe. Mein rechtes Knie hat auch keine Schwellung, aber in der Nähe der Seite der Kniescheibe, gibt es Schmerzen beim Drücken.\"),\n",
    "    (\"rechts knie deutlicher schwellung, keine überstreckung des knies, streckdefizit des knies, angemessene beugung des knies, keine rötung\", \n",
    "     \"Mein rechtes Knie hat eine Schwellung, ich kann es nicht überstrecken und auch nicht komplett strecken. Die Beugung des Knies ist nur angemessen möglich. Mein Knie ist nicht gerötet.\"),\n",
    "]\n",
    "\n",
    "# Construct the few-shot prompt\n",
    "instruction = \"Du bist ein Patient mit den folgenden Symptomen. Ersetze alle lateinischen und deutschen Fachbegriffe und formuliere es umgangssprachlich aus deiner Sicht.\"\n",
    "few_shot_prompt = f\"{instruction}\\n\\n\" + \"\\n\\n\".join([f\"USER: {inp}\\nASSISTANT: {out}\" for inp, out in few_shot_examples])"
   ]
  },
  {
   "cell_type": "code",
   "execution_count": 8,
   "metadata": {},
   "outputs": [],
   "source": [
    "def generate_response(text):\n",
    "    if (text != \"\") and (text is not None) and not (isinstance(text, float)):\n",
    "        prompt = f\"{few_shot_prompt}\\n\\nUSER: {text}\\nASSISTANT:\"\n",
    "        generated_text = generate(model, tokenizer, prompt=prompt, max_tokens=200, verbose=False)\n",
    "        return generated_text\n",
    "    return \"\""
   ]
  },
  {
   "cell_type": "code",
   "execution_count": 9,
   "metadata": {},
   "outputs": [],
   "source": [
    "def remove_after_newline(text):\n",
    "    return text.split('\\n')[0] if isinstance(text, str) else text"
   ]
  },
  {
   "cell_type": "code",
   "execution_count": 10,
   "metadata": {},
   "outputs": [],
   "source": [
    "for idx, row in inter_df.iterrows():\n",
    "    text = row['EXA_formatted']\n",
    "    ouput_text = generate_response(text)\n",
    "    inter_df.at[idx, 'EXA_interpreted'] = ouput_text"
   ]
  },
  {
   "cell_type": "code",
   "execution_count": 11,
   "metadata": {},
   "outputs": [
    {
     "name": "stderr",
     "output_type": "stream",
     "text": [
      "/var/folders/sg/lvbmg7vj0wsc8c5sn3vhh4rc0000gn/T/ipykernel_4491/1584057196.py:1: SettingWithCopyWarning: \n",
      "A value is trying to be set on a copy of a slice from a DataFrame.\n",
      "Try using .loc[row_indexer,col_indexer] = value instead\n",
      "\n",
      "See the caveats in the documentation: https://pandas.pydata.org/pandas-docs/stable/user_guide/indexing.html#returning-a-view-versus-a-copy\n",
      "  inter_df[\"EXA_interpreted\"] = inter_df[\"EXA_interpreted\"].apply(remove_after_newline)\n"
     ]
    }
   ],
   "source": [
    "inter_df[\"EXA_interpreted\"] = inter_df[\"EXA_interpreted\"].apply(remove_after_newline)"
   ]
  },
  {
   "cell_type": "code",
   "execution_count": 12,
   "metadata": {},
   "outputs": [],
   "source": [
    "inter_df.to_csv(\"interpreted_data_mlx_test2_2.csv\", index=False)"
   ]
  },
  {
   "cell_type": "code",
   "execution_count": 13,
   "metadata": {},
   "outputs": [],
   "source": [
    "# TODO: Use this value when rerunning notebook!\n",
    "n = inter_df.EXA_interpreted.count()"
   ]
  },
  {
   "cell_type": "code",
   "execution_count": 14,
   "metadata": {},
   "outputs": [
    {
     "data": {
      "text/plain": [
       "7917"
      ]
     },
     "execution_count": 14,
     "metadata": {},
     "output_type": "execute_result"
    }
   ],
   "source": [
    "n"
   ]
  }
 ],
 "metadata": {
  "kernelspec": {
   "display_name": "tf_mlx",
   "language": "python",
   "name": "python3"
  },
  "language_info": {
   "codemirror_mode": {
    "name": "ipython",
    "version": 3
   },
   "file_extension": ".py",
   "mimetype": "text/x-python",
   "name": "python",
   "nbconvert_exporter": "python",
   "pygments_lexer": "ipython3",
   "version": "3.10.13"
  }
 },
 "nbformat": 4,
 "nbformat_minor": 2
}
