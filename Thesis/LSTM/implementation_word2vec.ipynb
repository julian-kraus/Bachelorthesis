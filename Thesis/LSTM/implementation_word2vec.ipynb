{
 "cells": [
  {
   "cell_type": "code",
   "execution_count": 9,
   "metadata": {},
   "outputs": [
    {
     "name": "stdout",
     "output_type": "stream",
     "text": [
      "GPU is available\n"
     ]
    }
   ],
   "source": [
    "import os\n",
    "import pandas as pd\n",
    "import tensorflow as tf\n",
    "import os\n",
    "import pandas as pd\n",
    "from sklearn.model_selection import train_test_split\n",
    "from tensorflow.keras.optimizers import Adam\n",
    "import numpy as np\n",
    "from sklearn.preprocessing import OneHotEncoder\n",
    "from sklearn.utils.class_weight import compute_class_weight\n",
    "import matplotlib.pyplot as plt\n",
    "from tensorflow.keras.layers import Input, Embedding, LSTM, Dense, Dropout, Bidirectional, Conv1D, GlobalMaxPooling1D, Concatenate, AdditiveAttention\n",
    "from tensorflow.keras.models import Model\n",
    "from tensorflow.keras.preprocessing.sequence import pad_sequences\n",
    "from tensorflow.keras.preprocessing.text import Tokenizer\n",
    "from tensorflow.keras.utils import to_categorical\n",
    "from tensorflow.keras.callbacks import EarlyStopping\n",
    "from tensorflow.keras.layers import AdditiveAttention\n",
    "from tensorflow.keras.utils import to_categorical\n",
    "from sklearn.preprocessing import LabelEncoder\n",
    "import tensorflow as tf\n",
    "from utils import eval, eval_training, get_train_test_data, save_for_evaluation, process_train_test_data\n",
    "import re\n",
    "import numpy as np\n",
    "import spacy\n",
    "from gensim.models import Word2Vec\n",
    "from transformers import BertTokenizer, TFBertModel\n",
    "\n",
    "\n",
    "os.environ['TF_NUM_INTEROP_THREADS'] = '10'\n",
    "os.environ['TF_NUM_INTRAOP_THREADS'] = '10'\n",
    "\n",
    "# Configure TensorFlow session for multi-threading\n",
    "tf.config.threading.set_inter_op_parallelism_threads(10)\n",
    "tf.config.threading.set_intra_op_parallelism_threads(10)\n",
    "# Ensure TensorFlow is using the Metal backend\n",
    "gpu = len (tf.config.list_physical_devices ('GPU'))>0\n",
    "print (\"GPU is\", \"available\" if gpu else \"NOT AVAILABLE\")"
   ]
  },
  {
   "cell_type": "markdown",
   "metadata": {},
   "source": [
    "# Data preparation"
   ]
  },
  {
   "cell_type": "code",
   "execution_count": 10,
   "metadata": {},
   "outputs": [],
   "source": [
    "data_label = \"data\"\n",
    "predict_label = \"label\"\n",
    "balanced = False\n",
    "labels = None\n",
    "class_weights = False\n",
    "sample_weights = False\n",
    "df_train = pd.read_csv('../data/data_train.csv')\n",
    "df_valid = pd.read_csv('../data/data_valid.csv')\n",
    "df_test = pd.read_csv('../data/data_test.csv')\n",
    "\n",
    "train_texts = df_train[data_label]\n",
    "valid_texts = df_valid[data_label]\n",
    "test_texts = df_test[data_label]"
   ]
  },
  {
   "cell_type": "code",
   "execution_count": 11,
   "metadata": {},
   "outputs": [],
   "source": [
    "# Initialize the label encoder\n",
    "all_labels = pd.concat([df_train[predict_label], df_valid[predict_label], df_test[predict_label]])\n",
    "label_encoder = LabelEncoder()\n",
    "label_encoder.fit(all_labels)\n",
    "# Fit label encoder and return encoded labels as integers\n",
    "train_labels_enc = label_encoder.transform(df_train[predict_label])\n",
    "valid_labels_enc = label_encoder.transform(df_valid[predict_label])\n",
    "test_labels_enc = label_encoder.transform(df_test[predict_label])\n",
    "\n",
    "# Convert labels to categorical one-hot encoding\n",
    "train_labels = to_categorical(train_labels_enc)\n",
    "valid_labels = to_categorical(valid_labels_enc)\n",
    "test_labels = to_categorical(test_labels_enc)\n",
    "\n",
    "num_classes = len(df_train[predict_label].unique())"
   ]
  },
  {
   "cell_type": "code",
   "execution_count": 12,
   "metadata": {},
   "outputs": [],
   "source": [
    "# Load spaCy model\n",
    "nlp = spacy.load('de_core_news_sm')\n",
    "\n",
    "def preprocess_text(text):\n",
    "    # Remove non-alphabetic characters\n",
    "    text = re.sub(r'[^a-zA-ZäöüÄÖÜß\\s]', '', text)\n",
    "    doc = nlp(text)\n",
    "    stop_words = spacy.lang.de.stop_words.STOP_WORDS\n",
    "    words = [token.text for token in doc if token.text.lower() not in stop_words and token.is_alpha]\n",
    "    return words\n",
    "\n",
    "def get_word2vec_embeddings(text, model, vector_size=300):\n",
    "    tokens = preprocess_text(text)\n",
    "    embeddings = np.zeros((len(tokens), vector_size))\n",
    "    for i, token in enumerate(tokens):\n",
    "        if token in model.wv:\n",
    "            embeddings[i] = model.wv[token]\n",
    "        else:\n",
    "            embeddings[i] = np.zeros(vector_size)\n",
    "    return embeddings\n",
    "\n",
    "# Load pre-trained Word2Vec embeddings\n",
    "w2v = Word2Vec.load(\"../data/word2vec.model\")\n",
    "\n",
    "w2v_train_embeddings = [get_word2vec_embeddings(text, w2v) for text in train_texts]\n",
    "w2v_valid_embeddings = [get_word2vec_embeddings(text, w2v) for text in valid_texts]\n",
    "w2v_test_embeddings = [get_word2vec_embeddings(text, w2v) for text in test_texts]\n",
    "max_length = max(len(embedding) for embedding in w2v_train_embeddings)\n",
    "w2v_padded_train_embeddings = pad_sequences(w2v_train_embeddings, maxlen=max_length, padding='post', dtype='float32')\n",
    "w2v_padded_valid_embeddings = pad_sequences(w2v_valid_embeddings, maxlen=max_length, padding='post', dtype='float32')\n",
    "w2v_padded_test_embeddings = pad_sequences(w2v_test_embeddings, maxlen=max_length, padding='post', dtype='float32')"
   ]
  },
  {
   "cell_type": "markdown",
   "metadata": {},
   "source": [
    "# Model parameters"
   ]
  },
  {
   "cell_type": "code",
   "execution_count": 13,
   "metadata": {},
   "outputs": [],
   "source": [
    "embedding_dim = 300\n",
    "lstm_units = 64\n",
    "epochs = 15\n",
    "batch_size = 32\n",
    "model_name = \"word2vec\""
   ]
  },
  {
   "cell_type": "code",
   "execution_count": 21,
   "metadata": {},
   "outputs": [],
   "source": [
    "optimizer = Adam()\n",
    "loss = tf.keras.losses.CategoricalCrossentropy()\n",
    "metrics=[\n",
    "      tf.keras.metrics.CategoricalAccuracy(name='accuracy'),\n",
    "      tf.keras.metrics.AUC(name='auc'),\n",
    "      tf.keras.metrics.F1Score(average=\"macro\", name='f1_score'),\n",
    "]\n",
    "early_stopping_callback = EarlyStopping(\n",
    "    monitor='val_f1_score',  \n",
    "    patience=3,         \n",
    "    restore_best_weights=True,\n",
    "    verbose=1\n",
    ")"
   ]
  },
  {
   "cell_type": "markdown",
   "metadata": {},
   "source": [
    "# Model definition and training"
   ]
  },
  {
   "cell_type": "code",
   "execution_count": 22,
   "metadata": {},
   "outputs": [],
   "source": [
    "# Define the input layer\n",
    "input_text = Input(shape=(max_length, embedding_dim), dtype='float32', name='text_input')\n",
    "\n",
    "# Two LSTM layers\n",
    "x = Bidirectional(LSTM(units=lstm_units, return_sequences=True))(input_text)\n",
    "x = Dropout(0.5)(x)\n",
    "x = Bidirectional(LSTM(units=lstm_units))(x)\n",
    "\n",
    "# Output layer\n",
    "output = Dense(num_classes, activation='softmax')(x)\n",
    "\n",
    "# Define the model\n",
    "model = Model(inputs=input_text, outputs=output)\n",
    "\n",
    "# Compile the model\n",
    "model.compile(optimizer=optimizer, loss=loss, metrics=metrics)"
   ]
  },
  {
   "cell_type": "code",
   "execution_count": 23,
   "metadata": {},
   "outputs": [
    {
     "name": "stdout",
     "output_type": "stream",
     "text": [
      "Epoch 1/10\n",
      "\u001b[1m736/736\u001b[0m \u001b[32m━━━━━━━━━━━━━━━━━━━━\u001b[0m\u001b[37m\u001b[0m \u001b[1m95s\u001b[0m 127ms/step - accuracy: 0.4262 - auc: 0.7879 - f1_score: 0.2061 - loss: 1.2251 - val_accuracy: 0.4776 - val_auc: 0.8246 - val_f1_score: 0.2106 - val_loss: 1.1321\n",
      "Epoch 2/10\n",
      "\u001b[1m736/736\u001b[0m \u001b[32m━━━━━━━━━━━━━━━━━━━━\u001b[0m\u001b[37m\u001b[0m \u001b[1m92s\u001b[0m 125ms/step - accuracy: 0.4856 - auc: 0.8287 - f1_score: 0.2483 - loss: 1.1199 - val_accuracy: 0.4986 - val_auc: 0.8334 - val_f1_score: 0.3007 - val_loss: 1.1110\n",
      "Epoch 3/10\n",
      "\u001b[1m736/736\u001b[0m \u001b[32m━━━━━━━━━━━━━━━━━━━━\u001b[0m\u001b[37m\u001b[0m \u001b[1m91s\u001b[0m 124ms/step - accuracy: 0.5160 - auc: 0.8377 - f1_score: 0.3005 - loss: 1.1026 - val_accuracy: 0.5005 - val_auc: 0.8381 - val_f1_score: 0.3016 - val_loss: 1.0996\n",
      "Epoch 4/10\n",
      "\u001b[1m736/736\u001b[0m \u001b[32m━━━━━━━━━━━━━━━━━━━━\u001b[0m\u001b[37m\u001b[0m \u001b[1m93s\u001b[0m 127ms/step - accuracy: 0.5262 - auc: 0.8461 - f1_score: 0.3129 - loss: 1.0754 - val_accuracy: 0.5069 - val_auc: 0.8402 - val_f1_score: 0.3110 - val_loss: 1.0919\n",
      "Epoch 5/10\n",
      "\u001b[1m736/736\u001b[0m \u001b[32m━━━━━━━━━━━━━━━━━━━━\u001b[0m\u001b[37m\u001b[0m \u001b[1m92s\u001b[0m 124ms/step - accuracy: 0.5367 - auc: 0.8499 - f1_score: 0.3206 - loss: 1.0651 - val_accuracy: 0.5228 - val_auc: 0.8444 - val_f1_score: 0.3187 - val_loss: 1.0835\n",
      "Epoch 6/10\n",
      "\u001b[1m736/736\u001b[0m \u001b[32m━━━━━━━━━━━━━━━━━━━━\u001b[0m\u001b[37m\u001b[0m \u001b[1m92s\u001b[0m 125ms/step - accuracy: 0.5512 - auc: 0.8589 - f1_score: 0.3395 - loss: 1.0357 - val_accuracy: 0.5241 - val_auc: 0.8440 - val_f1_score: 0.3379 - val_loss: 1.0835\n",
      "Epoch 7/10\n",
      "\u001b[1m736/736\u001b[0m \u001b[32m━━━━━━━━━━━━━━━━━━━━\u001b[0m\u001b[37m\u001b[0m \u001b[1m91s\u001b[0m 124ms/step - accuracy: 0.5665 - auc: 0.8652 - f1_score: 0.3654 - loss: 1.0154 - val_accuracy: 0.5391 - val_auc: 0.8505 - val_f1_score: 0.3278 - val_loss: 1.0731\n",
      "Epoch 8/10\n",
      "\u001b[1m736/736\u001b[0m \u001b[32m━━━━━━━━━━━━━━━━━━━━\u001b[0m\u001b[37m\u001b[0m \u001b[1m93s\u001b[0m 126ms/step - accuracy: 0.5884 - auc: 0.8752 - f1_score: 0.3919 - loss: 0.9786 - val_accuracy: 0.5413 - val_auc: 0.8528 - val_f1_score: 0.3409 - val_loss: 1.0611\n",
      "Epoch 9/10\n",
      "\u001b[1m736/736\u001b[0m \u001b[32m━━━━━━━━━━━━━━━━━━━━\u001b[0m\u001b[37m\u001b[0m \u001b[1m98s\u001b[0m 133ms/step - accuracy: 0.6183 - auc: 0.8886 - f1_score: 0.4324 - loss: 0.9290 - val_accuracy: 0.5451 - val_auc: 0.8539 - val_f1_score: 0.3604 - val_loss: 1.0545\n",
      "Epoch 10/10\n",
      "\u001b[1m736/736\u001b[0m \u001b[32m━━━━━━━━━━━━━━━━━━━━\u001b[0m\u001b[37m\u001b[0m \u001b[1m125s\u001b[0m 170ms/step - accuracy: 0.6333 - auc: 0.8949 - f1_score: 0.4528 - loss: 0.9048 - val_accuracy: 0.5655 - val_auc: 0.8595 - val_f1_score: 0.3552 - val_loss: 1.0579\n",
      "Restoring model weights from the end of the best epoch: 9.\n"
     ]
    }
   ],
   "source": [
    "history = model.fit(w2v_padded_train_embeddings, train_labels, epochs=epochs, batch_size=batch_size,\n",
    "                    validation_data=(w2v_padded_valid_embeddings, valid_labels), callbacks=[early_stopping_callback])"
   ]
  },
  {
   "cell_type": "code",
   "execution_count": null,
   "metadata": {},
   "outputs": [],
   "source": [
    "save_for_evaluation(model, history, model_name, w2v_padded_test_embeddings, test_labels, label_encoder)"
   ]
  },
  {
   "cell_type": "code",
   "execution_count": null,
   "metadata": {},
   "outputs": [],
   "source": [
    "eval_training(history, metrics)"
   ]
  },
  {
   "cell_type": "code",
   "execution_count": null,
   "metadata": {},
   "outputs": [],
   "source": [
    "eval(model, w2v_padded_test_embeddings, test_labels, label_encoder)"
   ]
  }
 ],
 "metadata": {
  "kernelspec": {
   "display_name": "tf2",
   "language": "python",
   "name": "python3"
  },
  "language_info": {
   "codemirror_mode": {
    "name": "ipython",
    "version": 3
   },
   "file_extension": ".py",
   "mimetype": "text/x-python",
   "name": "python",
   "nbconvert_exporter": "python",
   "pygments_lexer": "ipython3",
   "version": "3.10.13"
  }
 },
 "nbformat": 4,
 "nbformat_minor": 2
}
