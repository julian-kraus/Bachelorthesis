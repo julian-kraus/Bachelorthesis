{
 "cells": [
  {
   "cell_type": "code",
   "execution_count": 1,
   "metadata": {
    "ExecuteTime": {
     "end_time": "2024-07-22T20:49:54.543139Z",
     "start_time": "2024-07-22T20:49:54.541442Z"
    }
   },
   "outputs": [],
   "source": [
    "import os\n",
    "import pandas as pd\n",
    "import numpy as np"
   ]
  },
  {
   "cell_type": "code",
   "execution_count": 2,
   "metadata": {},
   "outputs": [],
   "source": [
    "data = pd.read_csv(\"./data/questionnaire_data.csv\").dropna()\n",
    "data.EXA = data.EXA.str.replace(\"\\\\n\", \" \")\n",
    "data.ANA = data.ANA.str.replace(\"\\\\n\", \" \")\n",
    "\n"
   ]
  },
  {
   "cell_type": "markdown",
   "metadata": {},
   "source": [
    "# Examination Interpretation"
   ]
  },
  {
   "cell_type": "code",
   "execution_count": 3,
   "metadata": {
    "ExecuteTime": {
     "end_time": "2024-07-22T20:50:21.413845Z",
     "start_time": "2024-07-22T20:50:20.851490Z"
    }
   },
   "outputs": [
    {
     "name": "stderr",
     "output_type": "stream",
     "text": [
      "[nltk_data] Downloading package punkt to\n",
      "[nltk_data]     /Users/juliankraus/nltk_data...\n",
      "[nltk_data]   Package punkt is already up-to-date!\n",
      "[nltk_data] Downloading package stopwords to\n",
      "[nltk_data]     /Users/juliankraus/nltk_data...\n",
      "[nltk_data]   Package stopwords is already up-to-date!\n"
     ]
    },
    {
     "data": {
      "text/plain": [
       "True"
      ]
     },
     "execution_count": 3,
     "metadata": {},
     "output_type": "execute_result"
    }
   ],
   "source": [
    "import pandas as pd\n",
    "import re\n",
    "import nltk\n",
    "nltk.download('punkt')\n",
    "nltk.download('stopwords')"
   ]
  },
  {
   "cell_type": "markdown",
   "metadata": {},
   "source": [
    "## Textual Adaptions"
   ]
  },
  {
   "cell_type": "code",
   "execution_count": 4,
   "metadata": {
    "ExecuteTime": {
     "end_time": "2024-07-22T20:50:21.416856Z",
     "start_time": "2024-07-22T20:50:21.414541Z"
    }
   },
   "outputs": [],
   "source": [
    "# List of strings that should not be split\n",
    "do_not_split = [\n",
    "    \"li.\",\n",
    "    \"bds.\",\n",
    "    \"med.\",\n",
    "    \"neg.\",\n",
    "    \"lat.\",\n",
    "    'pos.',\n",
    "    \"re.\",\n",
    "    \"mm, links\",\n",
    "    \"mm, rechts\",\n",
    "    \"mm, li\",\n",
    "    \"mm, re\",\n",
    "    \"o.B\",\n",
    "    \"mm, verletzt\",\n",
    "    \"mm, Seitendifferenz\",\n",
    "    \"diskr.\",\n",
    "    \"flüssig und mit\"\n",
    "]\n",
    "def custom_split(text, exceptions):\n",
    "    for exception in exceptions:\n",
    "        text = re.sub(re.escape(exception), re.sub(r'[^\\w\\s]', '', exception), text, flags=re.IGNORECASE)\n",
    "    parts = re.split(r'[.,;]|\\sund\\s', text)\n",
    "    parts = [part.strip() for part in parts if part.strip()]\n",
    "    return parts"
   ]
  },
  {
   "cell_type": "code",
   "execution_count": 5,
   "metadata": {
    "ExecuteTime": {
     "end_time": "2024-07-22T20:50:21.423457Z",
     "start_time": "2024-07-22T20:50:21.417434Z"
    }
   },
   "outputs": [],
   "source": [
    "# Preprocess the text\n",
    "pattern_pre = r'\\d{1,3}/\\d{1,3}/\\d{1,3}|\\d{1,3}-\\d{1,3}-\\d{1,3}'\n",
    "\n",
    "pattern_side = r'(\\b\\d+[\\d.,]*\\b)\\s*seitendifferenz|\\bseitendifferenz\\s*(\\d+[\\d.,]*\\b)'\n",
    "\n",
    "\n",
    "def adaptText(match):\n",
    "    # Extract the matched text\n",
    "    matched_text = match.group(0)\n",
    "    \n",
    "    # Split the matched text by either '/' or '-'\n",
    "    if '/' in matched_text:\n",
    "        parts = matched_text.split('/')\n",
    "    elif '-' in matched_text:\n",
    "        parts = matched_text.split('-')\n",
    "    \n",
    "    # Convert parts to integers\n",
    "    parts = list(map(int, parts))\n",
    "    \n",
    "    # Evaluate each part in the context of the \"Neutral-Null-Methode\"\n",
    "    hyperextension = parts[0]\n",
    "    extension_deficit = parts[1]\n",
    "    flexion = parts[2]\n",
    "    \n",
    "    # Create descriptions based on the measurements\n",
    "    if hyperextension > 0:\n",
    "        hyperextension_desc = \"überstreckung des knies ist möglich,\"\n",
    "    else:\n",
    "        hyperextension_desc = \"keine überstreckung des knies,\"\n",
    "    \n",
    "    if extension_deficit > 0:\n",
    "        extension_deficit_desc = \"streckdefizit des knies,\"\n",
    "    else:\n",
    "        extension_deficit_desc = \"kein streckdefizit des knies,\"\n",
    "    \n",
    "    if flexion >= 120:\n",
    "        flexion_desc = \"gute beugung des knies,\"\n",
    "    elif flexion >= 90:\n",
    "        flexion_desc = \"angemessene beugung des knies,\"\n",
    "    else:\n",
    "        flexion_desc = \"eingeschränkte beugung des knies,\"\n",
    "    \n",
    "    # Combine the descriptions into a final string\n",
    "    result = f\",{hyperextension_desc} {extension_deficit_desc} {flexion_desc}\"\n",
    "    return result\n",
    "\n",
    "def adaptText_2(match):\n",
    "    # Extract the matched text\n",
    "    matched_text = match.group(0)\n",
    "    \n",
    "    number = match.group(1) if match.group(1) else match.group(2)\n",
    "    if int(number) > 3:\n",
    "        return \"wacklig\"\n",
    "    else:\n",
    "        return \"\"\n",
    "\n",
    "def preprocess(text):\n",
    "    text = text.lower()  # Convert to lowercase\n",
    "    text = re.sub('ds', 'druckschmerz', text, flags=re.IGNORECASE)\n",
    "    text = re.sub('medial', 'innere', text, flags=re.IGNORECASE)\n",
    "    text = re.sub('gelenkspalt', 'seite des kniegelenks', text, flags=re.IGNORECASE)\n",
    "\n",
    "\n",
    "\n",
    "    text = re.sub('lateral', 'äußere', text, flags=re.IGNORECASE)\n",
    "    text = re.sub('lat', 'äußere', text, flags=re.IGNORECASE)\n",
    "    text = re.sub('gs', 'seite des kniegelenks', text, flags=re.IGNORECASE)\n",
    "    text = re.sub('li ', 'links ', text, flags=re.IGNORECASE)\n",
    "    text = re.sub('re ', 'rechts ', text, flags=re.IGNORECASE)\n",
    "    text = re.sub('gb ', 'gangbild ', text, flags=re.IGNORECASE)\n",
    "    text = re.sub('patellafacette', 'kniescheibe', text, flags=re.IGNORECASE)\n",
    "    text = re.sub('patella', 'kniescheibe', text, flags=re.IGNORECASE)\n",
    "    text = re.sub('erguss', 'schwellung', text, flags=re.IGNORECASE)\n",
    "    text = re.sub('lcp', 'fühle mich', text, flags=re.IGNORECASE)\n",
    "    text = re.sub('lachman neg', '', text, flags=re.IGNORECASE)\n",
    "    text = re.sub('lachman pos', 'fühle mich unsicher', text, flags=re.IGNORECASE)\n",
    "\n",
    "\n",
    "    text = re.sub(pattern_side, adaptText_2, text, flags=re.IGNORECASE)\n",
    "\n",
    "\n",
    "    text = re.sub(pattern_pre, adaptText, text, flags=re.IGNORECASE)\n",
    "\n",
    "    text = re.sub(r'[^\\w\\s/-]', '', text)\n",
    "    return text"
   ]
  },
  {
   "cell_type": "code",
   "execution_count": 6,
   "metadata": {
    "ExecuteTime": {
     "end_time": "2024-07-22T20:50:21.425774Z",
     "start_time": "2024-07-22T20:50:21.424019Z"
    }
   },
   "outputs": [],
   "source": [
    "patterns = [\n",
    "    r'^\\d{1,3}/\\d{1,3}/\\d{1,3}$',  # Pattern for 1-3 digits/numbers/1-3 digits/numbers/1-3 digits/numbers\n",
    "    r'^\\d{1,3}-\\d{1,3}-\\d{1,3}$',  # Pattern for 1-3 digits-numbers-1-3 digits-numbers-1-3 digits-numbers\n",
    "    r'.*gangbild.*',               \n",
    "    r'.*druck.*',                 \n",
    "    r'.*ergu.*',              \n",
    "    r'.*schwell.*',       \n",
    "    r'.*rötung.*',          \n",
    "    r'.*überstreckung.*',     \n",
    "    r'.*fühle.*',   \n",
    "    r'.*wacklig.*',     \n",
    "\n",
    "\n",
    "]\n",
    "\n",
    "# Combine patterns into a single regular expression\n",
    "combined_pattern = r'|'.join(patterns)"
   ]
  },
  {
   "cell_type": "code",
   "execution_count": 7,
   "metadata": {
    "ExecuteTime": {
     "end_time": "2024-07-22T20:50:26.926064Z",
     "start_time": "2024-07-22T20:50:21.426321Z"
    }
   },
   "outputs": [],
   "source": [
    "inter_df = data.copy()\n",
    "inter_df = inter_df.fillna(value=\"\")\n",
    "\n",
    "# Filter the list\n",
    "for idx, row in inter_df.iterrows():\n",
    "    text = row['EXA']\n",
    "    if (text is not None) and text != \"\":\n",
    "        parts = custom_split(text, do_not_split)  # Custom split by exceptions\n",
    "        parts = list(map(preprocess, parts))\n",
    "        \n",
    "        filtered_parts = [s for s in parts if s and re.match(combined_pattern, s, re.IGNORECASE)]\n",
    "        \n",
    "        inter_df.at[idx, 'EXA_formatted'] = ', '.join(filtered_parts)\n",
    "            \n",
    "    else:\n",
    "        inter_df.at[idx, 'EXA_formatted'] = \"\""
   ]
  },
  {
   "cell_type": "code",
   "execution_count": 8,
   "metadata": {},
   "outputs": [
    {
     "data": {
      "text/html": [
       "<div>\n",
       "<style scoped>\n",
       "    .dataframe tbody tr th:only-of-type {\n",
       "        vertical-align: middle;\n",
       "    }\n",
       "\n",
       "    .dataframe tbody tr th {\n",
       "        vertical-align: top;\n",
       "    }\n",
       "\n",
       "    .dataframe thead th {\n",
       "        text-align: right;\n",
       "    }\n",
       "</style>\n",
       "<table border=\"1\" class=\"dataframe\">\n",
       "  <thead>\n",
       "    <tr style=\"text-align: right;\">\n",
       "      <th></th>\n",
       "      <th>patientID</th>\n",
       "      <th>DIA</th>\n",
       "      <th>DIA_text</th>\n",
       "      <th>ANA</th>\n",
       "      <th>EXA</th>\n",
       "      <th>gender</th>\n",
       "      <th>age</th>\n",
       "      <th>questionnaire</th>\n",
       "      <th>EXA_formatted</th>\n",
       "    </tr>\n",
       "  </thead>\n",
       "  <tbody>\n",
       "    <tr>\n",
       "      <th>0</th>\n",
       "      <td>308184</td>\n",
       "      <td>M23.32</td>\n",
       "      <td>Z.n. Sonstige Meniskusschädigungen: Hinterhorn...</td>\n",
       "      <td>Am 5.8.24 beim Aufrichten aus der Hocke plötzl...</td>\n",
       "      <td>Beinachse gerade, Linkes Kniegelenk: Extension...</td>\n",
       "      <td>Männlich</td>\n",
       "      <td>37</td>\n",
       "      <td>Beim ausrechnen aus der tiefen Hocke\\t Leicht...</td>\n",
       "      <td>linkes kniegelenk extension/flexion keine über...</td>\n",
       "    </tr>\n",
       "    <tr>\n",
       "      <th>1</th>\n",
       "      <td>308194</td>\n",
       "      <td>M23.32</td>\n",
       "      <td>Innenmeniskus-Komplexriss im Hinterhorn links</td>\n",
       "      <td>2005 und 2014 AC Knie mit IM Teilresektion im ...</td>\n",
       "      <td>Beinachse 2 QF varisch, \\nLinkes Kniegelenk: E...</td>\n",
       "      <td>Männlich</td>\n",
       "      <td>63</td>\n",
       "      <td>Grundsätzlich kein akutes Ereignis außer jetzt...</td>\n",
       "      <td>linkes kniegelenk extension/flexion keine über...</td>\n",
       "    </tr>\n",
       "    <tr>\n",
       "      <th>2</th>\n",
       "      <td>308197</td>\n",
       "      <td>M23.34</td>\n",
       "      <td>Sonstige Meniskusschädigungen: Vorderhorn des ...</td>\n",
       "      <td>2019 AC Knie re wegen AM VORderhornganglion un...</td>\n",
       "      <td>Beinachse gerade\\nRechtes Kniegelenk: Extensio...</td>\n",
       "      <td>Männlich</td>\n",
       "      <td>61</td>\n",
       "      <td>Nach dem aufstehen aus der Hocke Schwellung l...</td>\n",
       "      <td>kein gelenkschwellung, fühle mich stabil, mäßi...</td>\n",
       "    </tr>\n",
       "    <tr>\n",
       "      <th>3</th>\n",
       "      <td>60081</td>\n",
       "      <td>M23.32</td>\n",
       "      <td>Innenmeniskus-Riss im Hinterhorn links</td>\n",
       "      <td>WV mit MRT Bildern links, vor einer Woche nach...</td>\n",
       "      <td>Beinachse gerade\\nLinkes Kniegelenk: Extension...</td>\n",
       "      <td>Männlich</td>\n",
       "      <td>48</td>\n",
       "      <td>Beim gehen umgeknickt. Beschwerden und Schmerz...</td>\n",
       "      <td>kein gelenkschwellung, fühle mich stabil, druc...</td>\n",
       "    </tr>\n",
       "    <tr>\n",
       "      <th>4</th>\n",
       "      <td>307082</td>\n",
       "      <td>S83.2</td>\n",
       "      <td>Innenmeniskuskorbhenkelruptur links</td>\n",
       "      <td>Z.n. AC Knie rechts mit Im TR in domo 06/24. M...</td>\n",
       "      <td>Beinachse gerade\\nGB flüssig\\nLinkes Kniegelen...</td>\n",
       "      <td>Männlich</td>\n",
       "      <td>49</td>\n",
       "      <td>Danach schlimmer geworden gesagt Position\\t K...</td>\n",
       "      <td>kein gelenkschwellung, fühle mich stabil, druc...</td>\n",
       "    </tr>\n",
       "  </tbody>\n",
       "</table>\n",
       "</div>"
      ],
      "text/plain": [
       "   patientID     DIA                                           DIA_text  \\\n",
       "0     308184  M23.32  Z.n. Sonstige Meniskusschädigungen: Hinterhorn...   \n",
       "1     308194  M23.32      Innenmeniskus-Komplexriss im Hinterhorn links   \n",
       "2     308197  M23.34  Sonstige Meniskusschädigungen: Vorderhorn des ...   \n",
       "3      60081  M23.32             Innenmeniskus-Riss im Hinterhorn links   \n",
       "4     307082   S83.2                Innenmeniskuskorbhenkelruptur links   \n",
       "\n",
       "                                                 ANA  \\\n",
       "0  Am 5.8.24 beim Aufrichten aus der Hocke plötzl...   \n",
       "1  2005 und 2014 AC Knie mit IM Teilresektion im ...   \n",
       "2  2019 AC Knie re wegen AM VORderhornganglion un...   \n",
       "3  WV mit MRT Bildern links, vor einer Woche nach...   \n",
       "4  Z.n. AC Knie rechts mit Im TR in domo 06/24. M...   \n",
       "\n",
       "                                                 EXA       gender  age  \\\n",
       "0  Beinachse gerade, Linkes Kniegelenk: Extension...     Männlich   37   \n",
       "1  Beinachse 2 QF varisch, \\nLinkes Kniegelenk: E...     Männlich   63   \n",
       "2  Beinachse gerade\\nRechtes Kniegelenk: Extensio...    Männlich    61   \n",
       "3  Beinachse gerade\\nLinkes Kniegelenk: Extension...     Männlich   48   \n",
       "4  Beinachse gerade\\nGB flüssig\\nLinkes Kniegelen...     Männlich   49   \n",
       "\n",
       "                                       questionnaire  \\\n",
       "0   Beim ausrechnen aus der tiefen Hocke\\t Leicht...   \n",
       "1  Grundsätzlich kein akutes Ereignis außer jetzt...   \n",
       "2   Nach dem aufstehen aus der Hocke Schwellung l...   \n",
       "3  Beim gehen umgeknickt. Beschwerden und Schmerz...   \n",
       "4   Danach schlimmer geworden gesagt Position\\t K...   \n",
       "\n",
       "                                       EXA_formatted  \n",
       "0  linkes kniegelenk extension/flexion keine über...  \n",
       "1  linkes kniegelenk extension/flexion keine über...  \n",
       "2  kein gelenkschwellung, fühle mich stabil, mäßi...  \n",
       "3  kein gelenkschwellung, fühle mich stabil, druc...  \n",
       "4  kein gelenkschwellung, fühle mich stabil, druc...  "
      ]
     },
     "execution_count": 8,
     "metadata": {},
     "output_type": "execute_result"
    }
   ],
   "source": [
    "inter_df"
   ]
  },
  {
   "cell_type": "markdown",
   "metadata": {},
   "source": [
    "## Formulation"
   ]
  },
  {
   "cell_type": "code",
   "execution_count": 9,
   "metadata": {},
   "outputs": [],
   "source": [
    "from mlx_lm import load, generate\n",
    "import pandas as pd\n"
   ]
  },
  {
   "cell_type": "code",
   "execution_count": 10,
   "metadata": {},
   "outputs": [
    {
     "name": "stdout",
     "output_type": "stream",
     "text": [
      "[INFO] Loading\n"
     ]
    },
    {
     "name": "stderr",
     "output_type": "stream",
     "text": [
      "Fetching 8 files: 100%|██████████| 8/8 [00:00<00:00, 143395.01it/s]\n"
     ]
    },
    {
     "name": "stdout",
     "output_type": "stream",
     "text": [
      "[INFO] Quantizing\n"
     ]
    }
   ],
   "source": [
    "%%bash\n",
    "python -m mlx_lm.convert --hf-path jphme/em_german_leo_mistral --mlx-path model/ -q "
   ]
  },
  {
   "cell_type": "code",
   "execution_count": 11,
   "metadata": {},
   "outputs": [],
   "source": [
    "model, tokenizer = load(\"model/\")"
   ]
  },
  {
   "cell_type": "code",
   "execution_count": 12,
   "metadata": {},
   "outputs": [],
   "source": [
    "few_shot_examples = [\n",
    "    (\"links knie diskr schwellung, kein anteromedialer druckschmerz med äußerechts Seite des Kniegelenks, kein druckschmerz kniescheiben, keine meniskuszeichen rechts knie keine schwellung, druckschmerz proximal seitlich kniescheibe\", \n",
    "     \"Mein linkes Knie hat keine Schwellung, und es gibt keine Schmerzen beim Drücken auf der äußerechts Seite des Kniegelenks und der Kniescheibe. Mein rechtes Knie hat auch keine Schwellung, aber in der Nähe der Seite der Kniescheibe, gibt es Schmerzen beim Drücken.\"),\n",
    "    (\"rechts knie deutlicher schwellung, keine überstreckung des knies, streckdefizit des knies, angemessene beugung des knies, keine rötung\", \n",
    "     \"Mein rechtes Knie hat eine Schwellung, ich kann es nicht überstrecken und auch nicht komplett strecken. Die Beugung des Knies ist nur angemessen möglich. Mein Knie ist nicht gerötet.\"),\n",
    "]\n",
    "\n",
    "# Construct the few-shot prompt\n",
    "instruction = \"Du bist ein Patient mit den folgenden Symptomen. Ersetze alle lateinischen und deutschen Fachbegriffe und formuliere es umgangssprachlich aus deiner Sicht.\"\n",
    "few_shot_prompt = f\"{instruction}\\n\\n\" + \"\\n\\n\".join([f\"USER: {inp}\\nASSISTANT: {out}\" for inp, out in few_shot_examples])"
   ]
  },
  {
   "cell_type": "code",
   "execution_count": 13,
   "metadata": {},
   "outputs": [],
   "source": [
    "def generate_response(text):\n",
    "    if (text != \"\") and (text is not None) and not (isinstance(text, float)):\n",
    "        prompt = f\"{few_shot_prompt}\\n\\nUSER: {text}\\nASSISTANT:\"\n",
    "        generated_text = generate(model, tokenizer, prompt=prompt, max_tokens=200, verbose=False)\n",
    "        return generated_text\n",
    "    return \"\""
   ]
  },
  {
   "cell_type": "code",
   "execution_count": 14,
   "metadata": {},
   "outputs": [],
   "source": [
    "def remove_after_newline(text):\n",
    "    return text.split('\\n')[0] if isinstance(text, str) else text"
   ]
  },
  {
   "cell_type": "code",
   "execution_count": 15,
   "metadata": {},
   "outputs": [],
   "source": [
    "for idx, row in inter_df.iterrows():\n",
    "    text = row['EXA_formatted']\n",
    "    ouput_text = generate_response(text)\n",
    "    inter_df.at[idx, 'EXA_interpreted'] = remove_after_newline(ouput_text)"
   ]
  },
  {
   "cell_type": "markdown",
   "metadata": {},
   "source": [
    "## Labels"
   ]
  },
  {
   "cell_type": "code",
   "execution_count": 16,
   "metadata": {},
   "outputs": [],
   "source": [
    "inter_df.to_csv(\"./data/questionnaire_inter.csv\")"
   ]
  },
  {
   "cell_type": "code",
   "execution_count": 2,
   "metadata": {},
   "outputs": [],
   "source": [
    "import pandas as pd\n",
    "inter_df = pd.read_csv(\"./data/questionnaire_inter.csv\")"
   ]
  },
  {
   "cell_type": "code",
   "execution_count": 3,
   "metadata": {},
   "outputs": [
    {
     "data": {
      "text/html": [
       "<div>\n",
       "<style scoped>\n",
       "    .dataframe tbody tr th:only-of-type {\n",
       "        vertical-align: middle;\n",
       "    }\n",
       "\n",
       "    .dataframe tbody tr th {\n",
       "        vertical-align: top;\n",
       "    }\n",
       "\n",
       "    .dataframe thead th {\n",
       "        text-align: right;\n",
       "    }\n",
       "</style>\n",
       "<table border=\"1\" class=\"dataframe\">\n",
       "  <thead>\n",
       "    <tr style=\"text-align: right;\">\n",
       "      <th></th>\n",
       "      <th>Unnamed: 0</th>\n",
       "      <th>patientID</th>\n",
       "      <th>DIA</th>\n",
       "      <th>DIA_text</th>\n",
       "      <th>ANA</th>\n",
       "      <th>EXA</th>\n",
       "      <th>gender</th>\n",
       "      <th>age</th>\n",
       "      <th>questionnaire</th>\n",
       "      <th>EXA_formatted</th>\n",
       "      <th>EXA_interpreted</th>\n",
       "    </tr>\n",
       "  </thead>\n",
       "  <tbody>\n",
       "    <tr>\n",
       "      <th>0</th>\n",
       "      <td>0</td>\n",
       "      <td>308184</td>\n",
       "      <td>M23.32</td>\n",
       "      <td>Z.n. Sonstige Meniskusschädigungen: Hinterhorn...</td>\n",
       "      <td>Am 5.8.24 beim Aufrichten aus der Hocke plötzl...</td>\n",
       "      <td>Beinachse gerade, Linkes Kniegelenk: Extension...</td>\n",
       "      <td>Männlich</td>\n",
       "      <td>37</td>\n",
       "      <td>Beim ausrechnen aus der tiefen Hocke\\t Leicht...</td>\n",
       "      <td>linkes kniegelenk extension/flexion keine über...</td>\n",
       "      <td>Mein linkes Kniegelenk hat keine Überstreckung...</td>\n",
       "    </tr>\n",
       "    <tr>\n",
       "      <th>1</th>\n",
       "      <td>1</td>\n",
       "      <td>308194</td>\n",
       "      <td>M23.32</td>\n",
       "      <td>Innenmeniskus-Komplexriss im Hinterhorn links</td>\n",
       "      <td>2005 und 2014 AC Knie mit IM Teilresektion im ...</td>\n",
       "      <td>Beinachse 2 QF varisch, \\nLinkes Kniegelenk: E...</td>\n",
       "      <td>Männlich</td>\n",
       "      <td>63</td>\n",
       "      <td>Grundsätzlich kein akutes Ereignis außer jetzt...</td>\n",
       "      <td>linkes kniegelenk extension/flexion keine über...</td>\n",
       "      <td>Mein linkes Kniegelenk hat keine Schwellung, i...</td>\n",
       "    </tr>\n",
       "    <tr>\n",
       "      <th>2</th>\n",
       "      <td>2</td>\n",
       "      <td>308197</td>\n",
       "      <td>M23.34</td>\n",
       "      <td>Sonstige Meniskusschädigungen: Vorderhorn des ...</td>\n",
       "      <td>2019 AC Knie re wegen AM VORderhornganglion un...</td>\n",
       "      <td>Beinachse gerade\\nRechtes Kniegelenk: Extensio...</td>\n",
       "      <td>Männlich</td>\n",
       "      <td>61</td>\n",
       "      <td>Nach dem aufstehen aus der Hocke Schwellung l...</td>\n",
       "      <td>kein gelenkschwellung, fühle mich stabil, mäßi...</td>\n",
       "      <td>Ich habe keine Gelenkschwellung und fühle mich...</td>\n",
       "    </tr>\n",
       "    <tr>\n",
       "      <th>3</th>\n",
       "      <td>3</td>\n",
       "      <td>60081</td>\n",
       "      <td>M23.32</td>\n",
       "      <td>Innenmeniskus-Riss im Hinterhorn links</td>\n",
       "      <td>WV mit MRT Bildern links, vor einer Woche nach...</td>\n",
       "      <td>Beinachse gerade\\nLinkes Kniegelenk: Extension...</td>\n",
       "      <td>Männlich</td>\n",
       "      <td>48</td>\n",
       "      <td>Beim gehen umgeknickt. Beschwerden und Schmerz...</td>\n",
       "      <td>kein gelenkschwellung, fühle mich stabil, druc...</td>\n",
       "      <td>Ich habe keine Gelenkschwellung und fühle mich...</td>\n",
       "    </tr>\n",
       "    <tr>\n",
       "      <th>4</th>\n",
       "      <td>4</td>\n",
       "      <td>307082</td>\n",
       "      <td>S83.2</td>\n",
       "      <td>Innenmeniskuskorbhenkelruptur links</td>\n",
       "      <td>Z.n. AC Knie rechts mit Im TR in domo 06/24. M...</td>\n",
       "      <td>Beinachse gerade\\nGB flüssig\\nLinkes Kniegelen...</td>\n",
       "      <td>Männlich</td>\n",
       "      <td>49</td>\n",
       "      <td>Danach schlimmer geworden gesagt Position\\t K...</td>\n",
       "      <td>kein gelenkschwellung, fühle mich stabil, druc...</td>\n",
       "      <td>Ich habe keine Gelenkschwellung und fühle mich...</td>\n",
       "    </tr>\n",
       "  </tbody>\n",
       "</table>\n",
       "</div>"
      ],
      "text/plain": [
       "   Unnamed: 0  patientID     DIA  \\\n",
       "0           0     308184  M23.32   \n",
       "1           1     308194  M23.32   \n",
       "2           2     308197  M23.34   \n",
       "3           3      60081  M23.32   \n",
       "4           4     307082   S83.2   \n",
       "\n",
       "                                            DIA_text  \\\n",
       "0  Z.n. Sonstige Meniskusschädigungen: Hinterhorn...   \n",
       "1      Innenmeniskus-Komplexriss im Hinterhorn links   \n",
       "2  Sonstige Meniskusschädigungen: Vorderhorn des ...   \n",
       "3             Innenmeniskus-Riss im Hinterhorn links   \n",
       "4                Innenmeniskuskorbhenkelruptur links   \n",
       "\n",
       "                                                 ANA  \\\n",
       "0  Am 5.8.24 beim Aufrichten aus der Hocke plötzl...   \n",
       "1  2005 und 2014 AC Knie mit IM Teilresektion im ...   \n",
       "2  2019 AC Knie re wegen AM VORderhornganglion un...   \n",
       "3  WV mit MRT Bildern links, vor einer Woche nach...   \n",
       "4  Z.n. AC Knie rechts mit Im TR in domo 06/24. M...   \n",
       "\n",
       "                                                 EXA       gender  age  \\\n",
       "0  Beinachse gerade, Linkes Kniegelenk: Extension...     Männlich   37   \n",
       "1  Beinachse 2 QF varisch, \\nLinkes Kniegelenk: E...     Männlich   63   \n",
       "2  Beinachse gerade\\nRechtes Kniegelenk: Extensio...    Männlich    61   \n",
       "3  Beinachse gerade\\nLinkes Kniegelenk: Extension...     Männlich   48   \n",
       "4  Beinachse gerade\\nGB flüssig\\nLinkes Kniegelen...     Männlich   49   \n",
       "\n",
       "                                       questionnaire  \\\n",
       "0   Beim ausrechnen aus der tiefen Hocke\\t Leicht...   \n",
       "1  Grundsätzlich kein akutes Ereignis außer jetzt...   \n",
       "2   Nach dem aufstehen aus der Hocke Schwellung l...   \n",
       "3  Beim gehen umgeknickt. Beschwerden und Schmerz...   \n",
       "4   Danach schlimmer geworden gesagt Position\\t K...   \n",
       "\n",
       "                                       EXA_formatted  \\\n",
       "0  linkes kniegelenk extension/flexion keine über...   \n",
       "1  linkes kniegelenk extension/flexion keine über...   \n",
       "2  kein gelenkschwellung, fühle mich stabil, mäßi...   \n",
       "3  kein gelenkschwellung, fühle mich stabil, druc...   \n",
       "4  kein gelenkschwellung, fühle mich stabil, druc...   \n",
       "\n",
       "                                     EXA_interpreted  \n",
       "0  Mein linkes Kniegelenk hat keine Überstreckung...  \n",
       "1  Mein linkes Kniegelenk hat keine Schwellung, i...  \n",
       "2  Ich habe keine Gelenkschwellung und fühle mich...  \n",
       "3  Ich habe keine Gelenkschwellung und fühle mich...  \n",
       "4  Ich habe keine Gelenkschwellung und fühle mich...  "
      ]
     },
     "execution_count": 3,
     "metadata": {},
     "output_type": "execute_result"
    }
   ],
   "source": [
    "inter_df"
   ]
  },
  {
   "cell_type": "code",
   "execution_count": 4,
   "metadata": {},
   "outputs": [],
   "source": [
    "# Function to translate sex\n",
    "def translate_sex(sex):\n",
    "    if sex == 'male':\n",
    "        return 'männlich '\n",
    "    elif sex == 'female':\n",
    "        return 'weiblich '\n",
    "    else:\n",
    "        return \"\"\n",
    "    \n",
    "def format_age(age):\n",
    "    if not pd.isna(age):\n",
    "        return str(age) + \" Jahre alt \"\n",
    "    else:\n",
    "        return \"\"\n",
    "\n",
    "cols = ['ANA', 'EXA_interpreted']\n",
    "\n",
    "# Ensure age and sex are included in the DataFrame and handle NaN values\n",
    "inter_df['data'] = inter_df.apply(lambda row: (format_age(row['age']) + translate_sex(row['gender']) + \". \".join(row[cols].dropna().astype(str))\n",
    "), axis=1)"
   ]
  },
  {
   "cell_type": "code",
   "execution_count": 5,
   "metadata": {},
   "outputs": [],
   "source": [
    "meniskus = [\n",
    "    \"M23.3\",\n",
    "    \"S83.2\", # Rupture\n",
    "]\n",
    "meniskus_low = [\n",
    "    \"M23.0\", # Ganglion doesn't seem to urgent\n",
    "    \"M23.1\", # something you have from birth\n",
    "    \"M23.2\", # problems because of old rupture\n",
    "    \"M23.9\"  # Same as M23.8\n",
    "]\n",
    "cruciate = [\n",
    "    \"M23.6\", # Ruptur\n",
    "    \"S83.50\", # might be rupture\n",
    "    \"S83.53\", # Rupture\n",
    "    \"S83.54\", # Rupture\n",
    "    \"S83.7\" # Multiple areas\n",
    "]\n",
    "cruciate_low = [\n",
    "    \"M23.8\", # Seems to be no rupture, rather weakness, still operations\n",
    "    \"S83.51\", # Distorsion\n",
    "    \"S83.52\", # Distorsion\n",
    "]\n",
    "other_urgent = [\n",
    "    \"S83.3\" # Rupture Kniegelenkknorpel\n",
    "    \"S83.4\" # Rupture Seitenband\n",
    "]\n",
    "other = [\n",
    "    \"M17\",\n",
    "    \"M22\",  \n",
    "    \"M23.4\", # Freikörper, does have a lot of operations\n",
    "    \"M23.5\", # instability\n",
    "    \"S83.1\", # Only luxation\n",
    "    \"S83.6\" # Distorsion somewhere\n",
    "]\n",
    "def createLabel(code):\n",
    "    if any(elem in code for elem in meniskus):\n",
    "        return \"meniskus-urgent\"\n",
    "    elif any(elem in code for elem in meniskus_low):\n",
    "        return \"meniskus-minor\"\n",
    "    elif any(elem in code for elem in cruciate):\n",
    "        return \"cruciate-ligament-urgent\"\n",
    "    elif any(elem in code for elem in cruciate_low):\n",
    "        return \"cruciate-ligament-minor\"\n",
    "    elif any(elem in code for elem in other_urgent):\n",
    "        return \"other-urgent\"\n",
    "    elif any(elem in code for elem in other):\n",
    "        return \"other-minor\"\n",
    "    else:\n",
    "        return \"other-minor\"\n",
    "    \n",
    "inter_df['label'] = inter_df['DIA'].apply(createLabel)"
   ]
  },
  {
   "cell_type": "code",
   "execution_count": 6,
   "metadata": {
    "ExecuteTime": {
     "end_time": "2024-07-23T08:28:54.682676Z",
     "start_time": "2024-07-23T08:28:54.682567Z"
    }
   },
   "outputs": [],
   "source": [
    "from tensorflow.keras.preprocessing.text import Tokenizer\n",
    "from tensorflow.keras.preprocessing.sequence import pad_sequences\n",
    "import pickle\n",
    "import numpy as np\n",
    "import math\n",
    "def preprocess_lstm(text):\n",
    "    with open(\"tokenizer.pickle\", 'rb') as file:\n",
    "        tokenizer = pickle.load(file)\n",
    "    tokens = tokenizer.texts_to_sequences([text])\n",
    "\n",
    "    max_length = 222\n",
    "    # Padding sequences\n",
    "    text_padded = pad_sequences(tokens, maxlen=max_length, padding='post')\n",
    "    return text_padded\n",
    "\n",
    "def eval_lstm(prediction, label_encoder):\n",
    "   \n",
    "    probabilities = prediction[0]\n",
    "\n",
    "    # Decode all class labels\n",
    "    all_labels = label_encoder.inverse_transform(np.arange(len(probabilities)))\n",
    "\n",
    "    # Build the prediction string and sum probabilities for \"major\" labels\n",
    "    prediction_string = \"\"\n",
    "    sum_major_probabilities = 0.0\n",
    "    for idx in range(len(probabilities)):\n",
    "        label = all_labels[idx]\n",
    "        probability = probabilities[idx]\n",
    "        prediction_string += f\"{label}: {probability:.4f}; \"\n",
    "        if \"urgent\" in label:\n",
    "            sum_major_probabilities += probability\n",
    "\n",
    "    sum_major_probabilities = math.floor(sum_major_probabilities * 100) / 100\n",
    "\n",
    "    print(sum_major_probabilities)\n",
    "    print(prediction_string)\n",
    "\n",
    "\n",
    "    return sum_major_probabilities, prediction_string\n",
    "\n",
    "\n"
   ]
  },
  {
   "cell_type": "code",
   "execution_count": 8,
   "metadata": {},
   "outputs": [
    {
     "name": "stderr",
     "output_type": "stream",
     "text": [
      "2024-08-13 14:25:34.374616: I metal_plugin/src/device/metal_device.cc:1154] Metal device set to: Apple M3 Max\n",
      "2024-08-13 14:25:34.374648: I metal_plugin/src/device/metal_device.cc:296] systemMemory: 64.00 GB\n",
      "2024-08-13 14:25:34.374655: I metal_plugin/src/device/metal_device.cc:313] maxCacheSize: 24.00 GB\n",
      "2024-08-13 14:25:34.374670: I tensorflow/core/common_runtime/pluggable_device/pluggable_device_factory.cc:305] Could not identify NUMA node of platform GPU ID 0, defaulting to 0. Your kernel may not have been built with NUMA support.\n",
      "2024-08-13 14:25:34.374686: I tensorflow/core/common_runtime/pluggable_device/pluggable_device_factory.cc:271] Created TensorFlow device (/job:localhost/replica:0/task:0/device:GPU:0 with 0 MB memory) -> physical PluggableDevice (device: 0, name: METAL, pci bus id: <undefined>)\n",
      "WARNING:absl:Compiled the loaded model, but the compiled metrics have yet to be built. `model.compile_metrics` will be empty until you train or evaluate the model.\n"
     ]
    },
    {
     "name": "stdout",
     "output_type": "stream",
     "text": [
      "Model loaded from ./models/lstm/final_keywords/final_keywords.h5\n"
     ]
    },
    {
     "name": "stderr",
     "output_type": "stream",
     "text": [
      "/opt/homebrew/Caskroom/miniconda/base/envs/tf2/lib/python3.10/site-packages/keras/src/saving/saving_lib.py:576: UserWarning: Skipping variable loading for optimizer 'rmsprop', because it has 15 variables whereas the saved optimizer has 28 variables. \n",
      "  saveable.load_own_variables(weights_store.get(inner_path))\n"
     ]
    },
    {
     "name": "stdout",
     "output_type": "stream",
     "text": [
      "Data loaded successfully\n"
     ]
    }
   ],
   "source": [
    "from keras.models import load_model\n",
    "import pickle\n",
    "# Define paths for the saved files\n",
    "model_type = 'lstm'\n",
    "model_name = 'final_keywords'\n",
    "model_path = f'./models/{model_type}/{model_name}/{model_name}.h5'\n",
    "history_path = f'./data/{model_type}/{model_name}/{model_name}_history.pkl'\n",
    "data_path = f'./data/{model_type}/{model_name}/{model_name}_test_data.pkl'\n",
    "label_path = f'./data/{model_type}/{model_name}/{model_name}_test_label.pkl'\n",
    "encoder_path = f'./data/{model_type}/{model_name}/{model_name}_encoder.pkl'\n",
    "\n",
    "# Load the model\n",
    "model = load_model(model_path)\n",
    "print(f\"Model loaded from {model_path}\")\n",
    "\n",
    "# Load the history\n",
    "with open(history_path, 'rb') as file:\n",
    "    history = pickle.load(file)\n",
    "\n",
    "# Load the test data\n",
    "with open(data_path, 'rb') as file:\n",
    "    test_data = pickle.load(file)\n",
    "\n",
    "# Load the test labels\n",
    "with open(label_path, 'rb') as file:\n",
    "    test_labels = pickle.load(file)\n",
    "\n",
    "# Load the encoder\n",
    "with open(encoder_path, 'rb') as file:\n",
    "    label_encoder = pickle.load(file)\n",
    "\n",
    "print(\"Data loaded successfully\")\n"
   ]
  },
  {
   "cell_type": "code",
   "execution_count": 9,
   "metadata": {},
   "outputs": [
    {
     "name": "stdout",
     "output_type": "stream",
     "text": [
      "\u001b[1m1/1\u001b[0m \u001b[32m━━━━━━━━━━━━━━━━━━━━\u001b[0m\u001b[37m\u001b[0m \u001b[1m0s\u001b[0m 245ms/step\n"
     ]
    },
    {
     "name": "stderr",
     "output_type": "stream",
     "text": [
      "2024-08-13 14:25:38.480927: I tensorflow/core/grappler/optimizers/custom_graph_optimizer_registry.cc:117] Plugin optimizer for device_type GPU is enabled.\n"
     ]
    },
    {
     "name": "stdout",
     "output_type": "stream",
     "text": [
      "0.91\n",
      "cruciate-ligament-minor: 0.0000; cruciate-ligament-urgent: 0.0000; meniskus-minor: 0.0000; meniskus-urgent: 0.9151; other-minor: 0.0849; \n",
      "\u001b[1m1/1\u001b[0m \u001b[32m━━━━━━━━━━━━━━━━━━━━\u001b[0m\u001b[37m\u001b[0m \u001b[1m0s\u001b[0m 26ms/step\n",
      "0.14\n",
      "cruciate-ligament-minor: 0.0001; cruciate-ligament-urgent: 0.0002; meniskus-minor: 0.0252; meniskus-urgent: 0.1456; other-minor: 0.8289; \n",
      "\u001b[1m1/1\u001b[0m \u001b[32m━━━━━━━━━━━━━━━━━━━━\u001b[0m\u001b[37m\u001b[0m \u001b[1m0s\u001b[0m 22ms/step\n",
      "0.99\n",
      "cruciate-ligament-minor: 0.0000; cruciate-ligament-urgent: 0.0000; meniskus-minor: 0.0001; meniskus-urgent: 0.9987; other-minor: 0.0013; \n",
      "\u001b[1m1/1\u001b[0m \u001b[32m━━━━━━━━━━━━━━━━━━━━\u001b[0m\u001b[37m\u001b[0m \u001b[1m0s\u001b[0m 23ms/step\n",
      "0.99\n",
      "cruciate-ligament-minor: 0.0000; cruciate-ligament-urgent: 0.0000; meniskus-minor: 0.0000; meniskus-urgent: 0.9998; other-minor: 0.0002; \n",
      "\u001b[1m1/1\u001b[0m \u001b[32m━━━━━━━━━━━━━━━━━━━━\u001b[0m\u001b[37m\u001b[0m \u001b[1m0s\u001b[0m 22ms/step\n",
      "0.99\n",
      "cruciate-ligament-minor: 0.0000; cruciate-ligament-urgent: 0.0000; meniskus-minor: 0.0000; meniskus-urgent: 1.0000; other-minor: 0.0000; \n"
     ]
    }
   ],
   "source": [
    "data_label = 'data'\n",
    "for idx, row in inter_df.iterrows():    \n",
    "    text = preprocess_lstm(row[data_label])\n",
    "\n",
    "    prediction = model.predict(text)\n",
    "\n",
    "    risk, risk_string = eval_lstm(prediction, label_encoder)    \n",
    "\n",
    "    inter_df.at[idx, \"\" + data_label + \"_prediction\"] = risk_string"
   ]
  },
  {
   "cell_type": "code",
   "execution_count": 10,
   "metadata": {},
   "outputs": [
    {
     "name": "stdout",
     "output_type": "stream",
     "text": [
      "1\n",
      "1\n",
      "\u001b[1m1/1\u001b[0m \u001b[32m━━━━━━━━━━━━━━━━━━━━\u001b[0m\u001b[37m\u001b[0m \u001b[1m0s\u001b[0m 29ms/step\n",
      "1\n",
      "0.97\n",
      "cruciate-ligament-minor: 0.0000; cruciate-ligament-urgent: 0.0000; meniskus-minor: 0.0000; meniskus-urgent: 0.9717; other-minor: 0.0283; \n",
      "1\n",
      "1\n",
      "1\n",
      "\u001b[1m1/1\u001b[0m \u001b[32m━━━━━━━━━━━━━━━━━━━━\u001b[0m\u001b[37m\u001b[0m \u001b[1m0s\u001b[0m 22ms/step\n",
      "1\n",
      "0.0\n",
      "cruciate-ligament-minor: 0.0000; cruciate-ligament-urgent: 0.0000; meniskus-minor: 0.0000; meniskus-urgent: 0.0005; other-minor: 0.9994; \n",
      "1\n",
      "1\n",
      "1\n",
      "\u001b[1m1/1\u001b[0m \u001b[32m━━━━━━━━━━━━━━━━━━━━\u001b[0m\u001b[37m\u001b[0m \u001b[1m0s\u001b[0m 22ms/step\n",
      "1\n",
      "0.99\n",
      "cruciate-ligament-minor: 0.0000; cruciate-ligament-urgent: 0.0000; meniskus-minor: 0.0003; meniskus-urgent: 0.9940; other-minor: 0.0057; \n",
      "1\n",
      "1\n",
      "1\n",
      "\u001b[1m1/1\u001b[0m \u001b[32m━━━━━━━━━━━━━━━━━━━━\u001b[0m\u001b[37m\u001b[0m \u001b[1m0s\u001b[0m 23ms/step\n",
      "1\n",
      "0.99\n",
      "cruciate-ligament-minor: 0.0000; cruciate-ligament-urgent: 0.0000; meniskus-minor: 0.0000; meniskus-urgent: 1.0000; other-minor: 0.0000; \n",
      "1\n",
      "1\n",
      "1\n",
      "\u001b[1m1/1\u001b[0m \u001b[32m━━━━━━━━━━━━━━━━━━━━\u001b[0m\u001b[37m\u001b[0m \u001b[1m0s\u001b[0m 22ms/step\n",
      "1\n",
      "0.71\n",
      "cruciate-ligament-minor: 0.0028; cruciate-ligament-urgent: 0.0117; meniskus-minor: 0.0873; meniskus-urgent: 0.7038; other-minor: 0.1945; \n",
      "1\n"
     ]
    }
   ],
   "source": [
    "data_label = 'questionnaire'\n",
    "for idx, row in inter_df.iterrows():    \n",
    "    print(\"1\")\n",
    "    text = preprocess_lstm(row[data_label])\n",
    "    print(\"1\")\n",
    "\n",
    "    prediction = model.predict(text)\n",
    "    print(\"1\")\n",
    "\n",
    "    risk, risk_string = eval_lstm(prediction, label_encoder)    \n",
    "    print(\"1\")\n",
    "\n",
    "    inter_df.at[idx, \"\" + data_label + \"_prediction\"] = risk_string"
   ]
  },
  {
   "cell_type": "code",
   "execution_count": null,
   "metadata": {},
   "outputs": [],
   "source": [
    "inter_df.to_csv(\"./data/questionnaire_pred.csv\")"
   ]
  }
 ],
 "metadata": {
  "kernelspec": {
   "display_name": "Python 3 (ipykernel)",
   "language": "python",
   "name": "python3"
  },
  "language_info": {
   "codemirror_mode": {
    "name": "ipython",
    "version": 3
   },
   "file_extension": ".py",
   "mimetype": "text/x-python",
   "name": "python",
   "nbconvert_exporter": "python",
   "pygments_lexer": "ipython3",
   "version": "3.10.13"
  }
 },
 "nbformat": 4,
 "nbformat_minor": 4
}
