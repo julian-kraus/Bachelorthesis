{
 "cells": [
  {
   "cell_type": "code",
   "execution_count": 1,
   "metadata": {},
   "outputs": [],
   "source": [
    "import pandas as pd"
   ]
  },
  {
   "cell_type": "code",
   "execution_count": 3,
   "metadata": {},
   "outputs": [],
   "source": [
    "def minimize_report(df, model_name):\n",
    "    df = df.drop(df.index[[0, 1, 2, 3, 4]])\n",
    "    acc = df[\"precision\"].iloc[0]\n",
    "    pw = df[\"precision\"].iloc[2]\n",
    "    rw = df[\"recall\"].iloc[2]\n",
    "    fw = df[\"f1-score\"].iloc[2]\n",
    "    fm = df[\"f1-score\"].iloc[1]\n",
    "    data = {\n",
    "        \"model\": [model_name.replace(\"_\", \"-\")],\n",
    "        \"$accuracy$\": [acc],\n",
    "        \"$precision_{w}$\": [pw],\n",
    "        \"$recall_{w}$\": [rw],\n",
    "        \"$f1_{w}$\": [fw],\n",
    "        \"$f1_{mac}$\": [fm],\n",
    "    }\n",
    "    return pd.DataFrame(data).round(2)"
   ]
  },
  {
   "cell_type": "code",
   "execution_count": 25,
   "metadata": {},
   "outputs": [],
   "source": [
    "# Single\n",
    "model_name = \"bert_baseline\"\n",
    "report_name = model_name + \"_report.csv\"\n",
    "df = pd.read_csv(report_name)\n",
    "df_formatted = minimize_report(df, model_name)\n",
    "df_formatted.to_csv(\"./formatted/\" + model_name + \"_report_formatted.csv\", index=False)"
   ]
  },
  {
   "cell_type": "code",
   "execution_count": 12,
   "metadata": {},
   "outputs": [],
   "source": [
    "# Double\n",
    "model_names = [\"bert_baseline\", \"bert_final\"]\n",
    "formatted_models = []\n",
    "for model_name in model_names:\n",
    "    report_name = model_name + \"_report.csv\"\n",
    "    df = pd.read_csv(report_name)\n",
    "    df_formatted = minimize_report(df, model_name)\n",
    "    formatted_models.append(df_formatted)\n",
    "concated = pd.concat(formatted_models)\n",
    "concated.to_csv(\"_\".join(model_names) + \"_comp.csv\", index=False)"
   ]
  }
 ],
 "metadata": {
  "kernelspec": {
   "display_name": "tf2",
   "language": "python",
   "name": "python3"
  },
  "language_info": {
   "codemirror_mode": {
    "name": "ipython",
    "version": 3
   },
   "file_extension": ".py",
   "mimetype": "text/x-python",
   "name": "python",
   "nbconvert_exporter": "python",
   "pygments_lexer": "ipython3",
   "version": "3.10.13"
  }
 },
 "nbformat": 4,
 "nbformat_minor": 2
}
