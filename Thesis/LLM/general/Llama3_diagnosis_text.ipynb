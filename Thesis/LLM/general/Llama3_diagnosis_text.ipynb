{
 "cells": [
  {
   "cell_type": "markdown",
   "metadata": {},
   "source": [
    "# Llama 3"
   ]
  },
  {
   "cell_type": "markdown",
   "metadata": {},
   "source": [
    "Llama 3 8B (instruction-tuned) outperforms Gemma 7B and Mistral 7B Instruct. Llama 3 70 broadly outperforms Gemini Pro 1.5 and Claude 3 Sonnet and falls a bit behind on the MATH benchmark when compared to Gemini Pro 1.5."
   ]
  },
  {
   "cell_type": "code",
   "execution_count": 1,
   "metadata": {},
   "outputs": [],
   "source": [
    "import pandas as pd\n",
    "df = pd.read_csv(\"../data/cleaned_patient_data.csv\")\n",
    "df[\"text\"] = df[\"ANA\"] + \". \" + df[\"EXA\"]"
   ]
  },
  {
   "cell_type": "markdown",
   "metadata": {},
   "source": [
    "## German Llama 3 no architectural changes, no fine-tuning, no pre-trained tokenizer, default hyperparameteres"
   ]
  },
  {
   "cell_type": "markdown",
   "metadata": {},
   "source": [
    "### Text generation with 0-shot prompting (No prompt engineering)"
   ]
  },
  {
   "cell_type": "code",
   "execution_count": 2,
   "metadata": {},
   "outputs": [],
   "source": [
    "from transformers import AutoModelForCausalLM, AutoTokenizer\n",
    "import torch"
   ]
  },
  {
   "cell_type": "code",
   "execution_count": 3,
   "metadata": {},
   "outputs": [
    {
     "data": {
      "application/vnd.jupyter.widget-view+json": {
       "model_id": "f5fced6fba4948d6b7971c6a8998b5f1",
       "version_major": 2,
       "version_minor": 0
      },
      "text/plain": [
       "Loading checkpoint shards:   0%|          | 0/4 [00:00<?, ?it/s]"
      ]
     },
     "metadata": {},
     "output_type": "display_data"
    },
    {
     "name": "stderr",
     "output_type": "stream",
     "text": [
      "Special tokens have been added in the vocabulary, make sure the associated word embeddings are fine-tuned or trained.\n"
     ]
    }
   ],
   "source": [
    "model = AutoModelForCausalLM.from_pretrained(\n",
    "    \"DiscoResearch/Llama3-DiscoLeo-Instruct-8B-v0.1\",\n",
    "    torch_dtype=\"auto\"\n",
    ")\n",
    "tokenizer = AutoTokenizer.from_pretrained(\"DiscoResearch/Llama3-DiscoLeo-Instruct-8B-v0.1\")"
   ]
  },
  {
   "cell_type": "code",
   "execution_count": 4,
   "metadata": {},
   "outputs": [
    {
     "name": "stdout",
     "output_type": "stream",
     "text": [
      "Beschwerden re. Achillessehne. NMR unauffällig. Verdickung jedoch da; nach und während des Laufen (Sprint) schlimmer.. Re. Achillessehne: Verdickung im Bereich der Achillessehne ca. 3 cm proximal; Re. Leiste: Druckschmerz am os pubis zum os ischii hin; auch nach ventral am os pubis Die Diagnose ist: \n"
     ]
    }
   ],
   "source": [
    "prompt = df[\"text\"][0] + \" Die Diagnose ist: \"\n",
    "print(prompt)"
   ]
  },
  {
   "cell_type": "code",
   "execution_count": 5,
   "metadata": {},
   "outputs": [
    {
     "name": "stderr",
     "output_type": "stream",
     "text": [
      "The attention mask and the pad token id were not set. As a consequence, you may observe unexpected behavior. Please pass your input's `attention_mask` to obtain reliable results.\n",
      "Setting `pad_token_id` to `eos_token_id`:128001 for open-end generation.\n",
      "The attention mask is not set and cannot be inferred from input because pad token is same as eos token.As a consequence, you may observe unexpected behavior. Please pass your input's `attention_mask` to obtain reliable results.\n"
     ]
    }
   ],
   "source": [
    "messages = [\n",
    "    {\"role\": \"system\", \"content\": \"Du bist ein Arzt, der von einem Patienten eine Beschreibung der Symptome eines Knieproblems erhält. Du musst den Patienten diagnostizieren und diese Diagnose vorhersagen. Gib nur die endgültige Diagnose aus.\"},\n",
    "    {\"role\": \"user\", \"content\": prompt}\n",
    "]\n",
    "text = tokenizer.apply_chat_template(\n",
    "    messages,\n",
    "    tokenize=False,\n",
    "    add_generation_prompt=True\n",
    ")\n",
    "model_inputs = tokenizer([text], return_tensors=\"pt\")\n",
    "\n",
    "generated_ids = model.generate(\n",
    "    model_inputs.input_ids,\n",
    "    max_new_tokens=512\n",
    ")\n",
    "generated_ids = [\n",
    "    output_ids[len(input_ids):] for input_ids, output_ids in zip(model_inputs.input_ids, generated_ids)\n",
    "]\n",
    "\n",
    "response = tokenizer.batch_decode(generated_ids, skip_special_tokens=True)[0]"
   ]
  },
  {
   "cell_type": "code",
   "execution_count": 6,
   "metadata": {},
   "outputs": [
    {
     "data": {
      "text/plain": [
       "'Achillessehnenentzündung.'"
      ]
     },
     "execution_count": 6,
     "metadata": {},
     "output_type": "execute_result"
    }
   ],
   "source": [
    "response"
   ]
  },
  {
   "cell_type": "markdown",
   "metadata": {},
   "source": [
    "### Text generation with few-shot prompting"
   ]
  },
  {
   "cell_type": "code",
   "execution_count": 7,
   "metadata": {},
   "outputs": [
    {
     "name": "stdout",
     "output_type": "stream",
     "text": [
      "Beschwerden re. Achillessehne. NMR unauffällig. Verdickung jedoch da; nach und während des Laufen (Sprint) schlimmer.. Re. Achillessehne: Verdickung im Bereich der Achillessehne ca. 3 cm proximal; Re. Leiste: Druckschmerz am os pubis zum os ischii hin; auch nach ventral am os pubis Ausgabe: \n"
     ]
    }
   ],
   "source": [
    "prompt = df[\"text\"][0] + \" Ausgabe: \"\n",
    "print(prompt)"
   ]
  },
  {
   "cell_type": "code",
   "execution_count": 8,
   "metadata": {},
   "outputs": [],
   "source": [
    "df[\"DIA_code\"] = df[\"DIA_code\"].apply(lambda x: x.split(\" \")[0])\n",
    "unique_df = df.drop_duplicates(subset=[\"DIA_code\"], keep='first')"
   ]
  },
  {
   "cell_type": "code",
   "execution_count": 9,
   "metadata": {},
   "outputs": [
    {
     "data": {
      "text/html": [
       "<div>\n",
       "<style scoped>\n",
       "    .dataframe tbody tr th:only-of-type {\n",
       "        vertical-align: middle;\n",
       "    }\n",
       "\n",
       "    .dataframe tbody tr th {\n",
       "        vertical-align: top;\n",
       "    }\n",
       "\n",
       "    .dataframe thead th {\n",
       "        text-align: right;\n",
       "    }\n",
       "</style>\n",
       "<table border=\"1\" class=\"dataframe\">\n",
       "  <thead>\n",
       "    <tr style=\"text-align: right;\">\n",
       "      <th></th>\n",
       "      <th>Unnamed: 0</th>\n",
       "      <th>patientid</th>\n",
       "      <th>sex</th>\n",
       "      <th>age</th>\n",
       "      <th>ANA</th>\n",
       "      <th>EXA</th>\n",
       "      <th>DIA_text</th>\n",
       "      <th>DIA_code</th>\n",
       "      <th>OP_text</th>\n",
       "      <th>OP_code</th>\n",
       "      <th>text</th>\n",
       "    </tr>\n",
       "  </thead>\n",
       "  <tbody>\n",
       "    <tr>\n",
       "      <th>0</th>\n",
       "      <td>1</td>\n",
       "      <td>61.0</td>\n",
       "      <td>male</td>\n",
       "      <td>32.0</td>\n",
       "      <td>Beschwerden re. Achillessehne. NMR unauffällig...</td>\n",
       "      <td>Re. Achillessehne: Verdickung im Bereich der A...</td>\n",
       "      <td>Retropatellare Chondromalazie li; Insertionste...</td>\n",
       "      <td>M22.4</td>\n",
       "      <td>NaN</td>\n",
       "      <td>NaN</td>\n",
       "      <td>Beschwerden re. Achillessehne. NMR unauffällig...</td>\n",
       "    </tr>\n",
       "    <tr>\n",
       "      <th>1</th>\n",
       "      <td>2</td>\n",
       "      <td>67.0</td>\n",
       "      <td>male</td>\n",
       "      <td>41.0</td>\n",
       "      <td>Seit mehreren Monaten Beschwerden re. Achilles...</td>\n",
       "      <td>Re. Achillessehne: Deutliche Auftreibung der A...</td>\n",
       "      <td>V.a.laterale Chondromalazie bei st.n. Außenmen...</td>\n",
       "      <td>M23.3-</td>\n",
       "      <td>NaN</td>\n",
       "      <td>NaN</td>\n",
       "      <td>Seit mehreren Monaten Beschwerden re. Achilles...</td>\n",
       "    </tr>\n",
       "    <tr>\n",
       "      <th>3</th>\n",
       "      <td>7</td>\n",
       "      <td>72.0</td>\n",
       "      <td>male</td>\n",
       "      <td>23.0</td>\n",
       "      <td>beide Knie Schmerzen bei Treppe steigen oder L...</td>\n",
       "      <td>bd. Knie: frei Bewegl.; Patella o.B.; keine MZ...</td>\n",
       "      <td>Z.n.IM-Teilresektion re.</td>\n",
       "      <td>S83.2</td>\n",
       "      <td>NaN</td>\n",
       "      <td>NaN</td>\n",
       "      <td>beide Knie Schmerzen bei Treppe steigen oder L...</td>\n",
       "    </tr>\n",
       "    <tr>\n",
       "      <th>4</th>\n",
       "      <td>9</td>\n",
       "      <td>84.0</td>\n",
       "      <td>male</td>\n",
       "      <td>57.0</td>\n",
       "      <td>(08.19 Uhr); bewegungsabhängig.Schmerzen wiede...</td>\n",
       "      <td>Klinischer Befund des Kniegelenks li.: Drucksc...</td>\n",
       "      <td>Beginnende Gonarthrose bds. li. mehr als re.</td>\n",
       "      <td>M17.9</td>\n",
       "      <td>NaN</td>\n",
       "      <td>NaN</td>\n",
       "      <td>(08.19 Uhr); bewegungsabhängig.Schmerzen wiede...</td>\n",
       "    </tr>\n",
       "    <tr>\n",
       "      <th>6</th>\n",
       "      <td>13</td>\n",
       "      <td>94.0</td>\n",
       "      <td>female</td>\n",
       "      <td>62.0</td>\n",
       "      <td>(09.24 Uhr) Seit mehreren Monaten Hüftbeschwer...</td>\n",
       "      <td>Klinischer Befund des Hüftgelenks li.: pos. Tr...</td>\n",
       "      <td>Sonstige Meniskusschädigungen: Hinterhorn des ...</td>\n",
       "      <td>M23.32</td>\n",
       "      <td>NaN</td>\n",
       "      <td>NaN</td>\n",
       "      <td>(09.24 Uhr) Seit mehreren Monaten Hüftbeschwer...</td>\n",
       "    </tr>\n",
       "    <tr>\n",
       "      <th>...</th>\n",
       "      <td>...</td>\n",
       "      <td>...</td>\n",
       "      <td>...</td>\n",
       "      <td>...</td>\n",
       "      <td>...</td>\n",
       "      <td>...</td>\n",
       "      <td>...</td>\n",
       "      <td>...</td>\n",
       "      <td>...</td>\n",
       "      <td>...</td>\n",
       "      <td>...</td>\n",
       "    </tr>\n",
       "    <tr>\n",
       "      <th>31816</th>\n",
       "      <td>37462</td>\n",
       "      <td>100433.0</td>\n",
       "      <td>male</td>\n",
       "      <td>49.0</td>\n",
       "      <td>Vor 5 Jahren AC re.Knie mit IM-VH-Telresektion...</td>\n",
       "      <td>flüssiges symmetrisches GB; varische BA 2 QF r...</td>\n",
       "      <td>Binnenschädigung des Kniegelenkes; nicht näher...</td>\n",
       "      <td>M23.94</td>\n",
       "      <td>NaN</td>\n",
       "      <td>NaN</td>\n",
       "      <td>Vor 5 Jahren AC re.Knie mit IM-VH-Telresektion...</td>\n",
       "    </tr>\n",
       "    <tr>\n",
       "      <th>34859</th>\n",
       "      <td>40651</td>\n",
       "      <td>108305.0</td>\n",
       "      <td>male</td>\n",
       "      <td>38.0</td>\n",
       "      <td>Seit 2 Jahren Schmerzen im re. Knie im Bereich...</td>\n",
       "      <td>Ca. 2 QF Valgisch; flüssiges Gangbild; mäßiger...</td>\n",
       "      <td>Meniskusganglion: sonstiger und nicht näher be...</td>\n",
       "      <td>M23.03</td>\n",
       "      <td>NaN</td>\n",
       "      <td>NaN</td>\n",
       "      <td>Seit 2 Jahren Schmerzen im re. Knie im Bereich...</td>\n",
       "    </tr>\n",
       "    <tr>\n",
       "      <th>36304</th>\n",
       "      <td>42136</td>\n",
       "      <td>110752.0</td>\n",
       "      <td>female</td>\n",
       "      <td>63.0</td>\n",
       "      <td>Vorstellung mit Beschwerden im linken Knie sei...</td>\n",
       "      <td>Gangbild flüßig; Beinachse 2QF varisch; Einbei...</td>\n",
       "      <td>Meniskusganglion: Hinterhorn des Außenmeniskus...</td>\n",
       "      <td>M23.05</td>\n",
       "      <td>NaN</td>\n",
       "      <td>NaN</td>\n",
       "      <td>Vorstellung mit Beschwerden im linken Knie sei...</td>\n",
       "    </tr>\n",
       "    <tr>\n",
       "      <th>38933</th>\n",
       "      <td>44801</td>\n",
       "      <td>302217.0</td>\n",
       "      <td>female</td>\n",
       "      <td>14.0</td>\n",
       "      <td>Probleme Knie beide Seite; MRT heute rechte Se...</td>\n",
       "      <td>ROM bds frei; kein DS bds; keine Meniskuszeich...</td>\n",
       "      <td>Scheibenmeniskus (angeboren) rechts</td>\n",
       "      <td>M23.1-</td>\n",
       "      <td>NaN</td>\n",
       "      <td>NaN</td>\n",
       "      <td>Probleme Knie beide Seite; MRT heute rechte Se...</td>\n",
       "    </tr>\n",
       "    <tr>\n",
       "      <th>39934</th>\n",
       "      <td>45812</td>\n",
       "      <td>304024.0</td>\n",
       "      <td>female</td>\n",
       "      <td>55.0</td>\n",
       "      <td>Habe Beschwerden innen und außenseitig im Knie...</td>\n",
       "      <td>Beinachse gerade; flüssiges Gangbild. Rechtes ...</td>\n",
       "      <td>Scheibenmeniskus lateral; Riss Bereich des Vor...</td>\n",
       "      <td>M23.10</td>\n",
       "      <td>NaN</td>\n",
       "      <td>NaN</td>\n",
       "      <td>Habe Beschwerden innen und außenseitig im Knie...</td>\n",
       "    </tr>\n",
       "  </tbody>\n",
       "</table>\n",
       "<p>102 rows × 11 columns</p>\n",
       "</div>"
      ],
      "text/plain": [
       "       Unnamed: 0  patientid     sex   age  \\\n",
       "0               1       61.0    male  32.0   \n",
       "1               2       67.0    male  41.0   \n",
       "3               7       72.0    male  23.0   \n",
       "4               9       84.0    male  57.0   \n",
       "6              13       94.0  female  62.0   \n",
       "...           ...        ...     ...   ...   \n",
       "31816       37462   100433.0    male  49.0   \n",
       "34859       40651   108305.0    male  38.0   \n",
       "36304       42136   110752.0  female  63.0   \n",
       "38933       44801   302217.0  female  14.0   \n",
       "39934       45812   304024.0  female  55.0   \n",
       "\n",
       "                                                     ANA  \\\n",
       "0      Beschwerden re. Achillessehne. NMR unauffällig...   \n",
       "1      Seit mehreren Monaten Beschwerden re. Achilles...   \n",
       "3      beide Knie Schmerzen bei Treppe steigen oder L...   \n",
       "4      (08.19 Uhr); bewegungsabhängig.Schmerzen wiede...   \n",
       "6      (09.24 Uhr) Seit mehreren Monaten Hüftbeschwer...   \n",
       "...                                                  ...   \n",
       "31816  Vor 5 Jahren AC re.Knie mit IM-VH-Telresektion...   \n",
       "34859  Seit 2 Jahren Schmerzen im re. Knie im Bereich...   \n",
       "36304  Vorstellung mit Beschwerden im linken Knie sei...   \n",
       "38933  Probleme Knie beide Seite; MRT heute rechte Se...   \n",
       "39934  Habe Beschwerden innen und außenseitig im Knie...   \n",
       "\n",
       "                                                     EXA  \\\n",
       "0      Re. Achillessehne: Verdickung im Bereich der A...   \n",
       "1      Re. Achillessehne: Deutliche Auftreibung der A...   \n",
       "3      bd. Knie: frei Bewegl.; Patella o.B.; keine MZ...   \n",
       "4      Klinischer Befund des Kniegelenks li.: Drucksc...   \n",
       "6      Klinischer Befund des Hüftgelenks li.: pos. Tr...   \n",
       "...                                                  ...   \n",
       "31816  flüssiges symmetrisches GB; varische BA 2 QF r...   \n",
       "34859  Ca. 2 QF Valgisch; flüssiges Gangbild; mäßiger...   \n",
       "36304  Gangbild flüßig; Beinachse 2QF varisch; Einbei...   \n",
       "38933  ROM bds frei; kein DS bds; keine Meniskuszeich...   \n",
       "39934  Beinachse gerade; flüssiges Gangbild. Rechtes ...   \n",
       "\n",
       "                                                DIA_text DIA_code OP_text  \\\n",
       "0      Retropatellare Chondromalazie li; Insertionste...    M22.4     NaN   \n",
       "1      V.a.laterale Chondromalazie bei st.n. Außenmen...   M23.3-     NaN   \n",
       "3                               Z.n.IM-Teilresektion re.    S83.2     NaN   \n",
       "4           Beginnende Gonarthrose bds. li. mehr als re.    M17.9     NaN   \n",
       "6      Sonstige Meniskusschädigungen: Hinterhorn des ...   M23.32     NaN   \n",
       "...                                                  ...      ...     ...   \n",
       "31816  Binnenschädigung des Kniegelenkes; nicht näher...   M23.94     NaN   \n",
       "34859  Meniskusganglion: sonstiger und nicht näher be...   M23.03     NaN   \n",
       "36304  Meniskusganglion: Hinterhorn des Außenmeniskus...   M23.05     NaN   \n",
       "38933                Scheibenmeniskus (angeboren) rechts   M23.1-     NaN   \n",
       "39934  Scheibenmeniskus lateral; Riss Bereich des Vor...   M23.10     NaN   \n",
       "\n",
       "      OP_code                                               text  \n",
       "0         NaN  Beschwerden re. Achillessehne. NMR unauffällig...  \n",
       "1         NaN  Seit mehreren Monaten Beschwerden re. Achilles...  \n",
       "3         NaN  beide Knie Schmerzen bei Treppe steigen oder L...  \n",
       "4         NaN  (08.19 Uhr); bewegungsabhängig.Schmerzen wiede...  \n",
       "6         NaN  (09.24 Uhr) Seit mehreren Monaten Hüftbeschwer...  \n",
       "...       ...                                                ...  \n",
       "31816     NaN  Vor 5 Jahren AC re.Knie mit IM-VH-Telresektion...  \n",
       "34859     NaN  Seit 2 Jahren Schmerzen im re. Knie im Bereich...  \n",
       "36304     NaN  Vorstellung mit Beschwerden im linken Knie sei...  \n",
       "38933     NaN  Probleme Knie beide Seite; MRT heute rechte Se...  \n",
       "39934     NaN  Habe Beschwerden innen und außenseitig im Knie...  \n",
       "\n",
       "[102 rows x 11 columns]"
      ]
     },
     "execution_count": 9,
     "metadata": {},
     "output_type": "execute_result"
    }
   ],
   "source": [
    "unique_df"
   ]
  },
  {
   "cell_type": "code",
   "execution_count": 10,
   "metadata": {},
   "outputs": [],
   "source": [
    "shot_1 = unique_df[\"text\"].iloc[1]\n",
    "shot_1_output = unique_df[\"DIA_text\"].iloc[1]\n",
    "\n",
    "shot_2 = unique_df[\"text\"].iloc[2]\n",
    "shot_2_output = unique_df[\"DIA_text\"].iloc[2]\n",
    "\n",
    "\n",
    "shot_3 = unique_df[\"text\"].iloc[3]\n",
    "shot_3_output = unique_df[\"DIA_text\"].iloc[3]"
   ]
  },
  {
   "cell_type": "code",
   "execution_count": 11,
   "metadata": {},
   "outputs": [
    {
     "name": "stderr",
     "output_type": "stream",
     "text": [
      "The attention mask and the pad token id were not set. As a consequence, you may observe unexpected behavior. Please pass your input's `attention_mask` to obtain reliable results.\n",
      "Setting `pad_token_id` to `eos_token_id`:128001 for open-end generation.\n"
     ]
    }
   ],
   "source": [
    "messages = [\n",
    "    {\"role\": \"system\", \"content\":\n",
    "     \"\"\"\n",
    "     Du bist ein Arzt, der von einem Patienten eine Beschreibung der Symptome eines Knieproblems erhält. Du musst den Patienten diagnostizieren und diese Diagnose vorhersagen. Gib nur die endgültige Diagnose aus.\n",
    "\n",
    "     Patient: ${shot_1}\n",
    "     Ausgabe: ${shot_1_output}\n",
    "\n",
    "     Patient: ${shot_2}\n",
    "     Ausgabe: ${shot_2_output}\n",
    "\n",
    "     Patient: ${shot_3}\n",
    "     Ausgabe: ${shot_3_output}\n",
    "     \"\"\"},\n",
    "    {\"role\": \"user\", \"content\": prompt}\n",
    "]\n",
    "text = tokenizer.apply_chat_template(\n",
    "    messages,\n",
    "    tokenize=False,\n",
    "    add_generation_prompt=True\n",
    ")\n",
    "model_inputs = tokenizer([text], return_tensors=\"pt\")\n",
    "\n",
    "generated_ids = model.generate(\n",
    "    model_inputs.input_ids,\n",
    "    max_new_tokens=512\n",
    ")\n",
    "generated_ids = [\n",
    "    output_ids[len(input_ids):] for input_ids, output_ids in zip(model_inputs.input_ids, generated_ids)\n",
    "]\n",
    "\n",
    "response = tokenizer.batch_decode(generated_ids, skip_special_tokens=True)[0]"
   ]
  },
  {
   "cell_type": "code",
   "execution_count": 12,
   "metadata": {},
   "outputs": [
    {
     "data": {
      "text/plain": [
       "'Verdacht auf Achillodynie rechts.'"
      ]
     },
     "execution_count": 12,
     "metadata": {},
     "output_type": "execute_result"
    }
   ],
   "source": [
    "response"
   ]
  }
 ],
 "metadata": {
  "kernelspec": {
   "display_name": "ba",
   "language": "python",
   "name": "python3"
  },
  "language_info": {
   "codemirror_mode": {
    "name": "ipython",
    "version": 3
   },
   "file_extension": ".py",
   "mimetype": "text/x-python",
   "name": "python",
   "nbconvert_exporter": "python",
   "pygments_lexer": "ipython3",
   "version": "3.10.13"
  }
 },
 "nbformat": 4,
 "nbformat_minor": 2
}
